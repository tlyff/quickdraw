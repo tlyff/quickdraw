{
  "nbformat": 4,
  "nbformat_minor": 0,
  "metadata": {
    "colab": {
      "name": "Quickdraw_Project.ipynb",
      "provenance": [],
      "collapsed_sections": []
    },
    "kernelspec": {
      "display_name": "Python 3",
      "language": "python",
      "name": "python3"
    },
    "language_info": {
      "codemirror_mode": {
        "name": "ipython",
        "version": 3
      },
      "file_extension": ".py",
      "mimetype": "text/x-python",
      "name": "python",
      "nbconvert_exporter": "python",
      "pygments_lexer": "ipython3",
      "version": "3.8.8"
    }
  },
  "cells": [
    {
      "cell_type": "markdown",
      "metadata": {
        "id": "lyOhvDibZT1H"
      },
      "source": [
        "# Machine Learning Project\n",
        "## QuickDraw"
      ]
    },
    {
      "cell_type": "code",
      "metadata": {
        "id": "wp7490a7AXhZ"
      },
      "source": [
        "import numpy as np\n",
        "import matplotlib.pyplot as plt\n",
        "import pandas as pd\n",
        "from keras.utils.np_utils import to_categorical\n",
        "from keras import optimizers, Input\n",
        "from keras.models import Sequential\n",
        "from tensorflow.keras import layers\n",
        "from keras.layers import Dense, Activation, Flatten, Conv2D,MaxPooling2D\n",
        "import scipy.ndimage.interpolation as interpolation\n",
        "\n",
        "from sklearn import svm\n",
        "from sklearn.svm import SVC\n",
        "from sklearn.datasets import make_blobs, make_circles\n",
        "from sklearn.utils import shuffle\n",
        "from sklearn.preprocessing import StandardScaler\n",
        "from sklearn.model_selection import cross_validate, train_test_split, GridSearchCV\n",
        "from scipy.stats import multivariate_normal\n",
        "from sklearn import metrics\n",
        "from sklearn.model_selection import StratifiedShuffleSplit\n",
        "from time import time\n",
        "from sklearn.model_selection import learning_curve, GridSearchCV\n",
        "from sklearn.decomposition import PCA"
      ],
      "execution_count": null,
      "outputs": []
    },
    {
      "cell_type": "markdown",
      "metadata": {
        "id": "3NYAv2Y4AbDS"
      },
      "source": [
        "# **Creation of the datasets**"
      ]
    },
    {
      "cell_type": "code",
      "metadata": {
        "id": "HaoraJQ2AaFx"
      },
      "source": [
        "ants_data = np.load('G_15_ant.npy')\n",
        "grapes_data = np.load('G_15_grapes.npy')\n",
        "test_images = np.load('test_images.npy')\n",
        "test_label = np.load('test_labels.npy')"
      ],
      "execution_count": null,
      "outputs": []
    },
    {
      "cell_type": "code",
      "metadata": {
        "colab": {
          "base_uri": "https://localhost:8080/"
        },
        "id": "6TixcCqtd9kD",
        "outputId": "b1438198-0e73-4599-d830-90e08d35f6e4"
      },
      "source": [
        "print(\"There are \", len(ants_data), \"images of ants\")\n",
        "print(\"There are \", len(grapes_data), \"images of grapes\") "
      ],
      "execution_count": null,
      "outputs": [
        {
          "output_type": "stream",
          "text": [
            "There are  1000 images of ants\n",
            "There are  1000 images of grapes\n"
          ],
          "name": "stdout"
        }
      ]
    },
    {
      "cell_type": "code",
      "metadata": {
        "id": "LmGRLI51BDJS"
      },
      "source": [
        "train_images = np.concatenate((ants_data, grapes_data))\n",
        "ants_label = np.array([0]*1000)\n",
        "grapes_label = np.array([1]*1000)\n",
        "train_label = np.concatenate((ants_label, grapes_label))"
      ],
      "execution_count": null,
      "outputs": []
    },
    {
      "cell_type": "code",
      "metadata": {
        "colab": {
          "base_uri": "https://localhost:8080/",
          "height": 545
        },
        "id": "sk0xiuQVfJ_o",
        "outputId": "44d6f2d7-f520-4ae1-caf2-8eeb02e43d10"
      },
      "source": [
        "plt.imshow(ants_data[0].reshape(28,28))\n",
        "plt.title(\"Image of ant, label = 0\")\n",
        "plt.show()\n",
        "plt.imshow(grapes_data[0].reshape(28,28))\n",
        "plt.title(\"Image of grape, label = 1\")\n",
        "plt.show()"
      ],
      "execution_count": null,
      "outputs": [
        {
          "output_type": "display_data",
          "data": {
            "image/png": "[encoded data removed]",
            "text/plain": [
              "<Figure size 432x288 with 1 Axes>"
            ]
          },
          "metadata": {
            "tags": [],
            "needs_background": "light"
          }
        },
        {
          "output_type": "display_data",
          "data": {
            "image/png": "[encoded data removed]",
            "text/plain": [
              "<Figure size 432x288 with 1 Axes>"
            ]
          },
          "metadata": {
            "tags": [],
            "needs_background": "light"
          }
        }
      ]
    },
    {
      "cell_type": "markdown",
      "metadata": {
        "id": "sk14I2pMcI-P"
      },
      "source": [
        "In this data set we have 1000 images of ants and 1000 images of grapes. We put all of them in train_images and label ants with 0, grapes with 1. The labels are in train_label."
      ]
    },
    {
      "cell_type": "markdown",
      "metadata": {
        "id": "-sbCUjzUAh9h"
      },
      "source": [
        "# **PART ONE : SUPPORT VECTOR MACHINE**"
      ]
    },
    {
      "cell_type": "markdown",
      "metadata": {
        "id": "QZVzQkfhBEXT"
      },
      "source": [
        "## **Tests for different kind of kernels**"
      ]
    },
    {
      "cell_type": "code",
      "metadata": {
        "colab": {
          "base_uri": "https://localhost:8080/"
        },
        "id": "mp-6szmFBHzE",
        "outputId": "433c139c-057d-4cbb-9deb-94431691c9c8"
      },
      "source": [
        "# fit the model with linear kernel\n",
        "clf_lin = SVC(kernel='linear')\n",
        "clf_lin.fit(train_images, train_label)\n",
        "\n",
        "# predict labels for the test data base\n",
        "y_pred = clf_lin.predict(test_images)\n",
        "\n",
        "# check your score\n",
        "score_lin = clf_lin.score(test_images, test_label)\n",
        "print('Score with a linear kernel: %s' % score_lin)"
      ],
      "execution_count": null,
      "outputs": [
        {
          "output_type": "stream",
          "text": [
            "Score with a linear kernel: 0.696\n"
          ],
          "name": "stdout"
        }
      ]
    },
    {
      "cell_type": "code",
      "metadata": {
        "colab": {
          "base_uri": "https://localhost:8080/"
        },
        "id": "uRr7K118BQMM",
        "outputId": "937a09af-cd93-4c6e-cde0-011dc5f7a329"
      },
      "source": [
        "# fit the model with rbf kernel\n",
        "clf_rbf = SVC(kernel='rbf')\n",
        "clf_rbf.fit(train_images, train_label)\n",
        "\n",
        "# predict labels for the test data base\n",
        "y_pred = clf_rbf.predict(test_images)\n",
        "\n",
        "# check your score\n",
        "score_rbf = clf_rbf.score(test_images, test_label)\n",
        "print('Score with a rbf kernel: %s' % score_rbf)"
      ],
      "execution_count": null,
      "outputs": [
        {
          "output_type": "stream",
          "text": [
            "Score with a rbf kernel: 0.867\n"
          ],
          "name": "stdout"
        }
      ]
    },
    {
      "cell_type": "code",
      "metadata": {
        "colab": {
          "base_uri": "https://localhost:8080/"
        },
        "id": "xgTKJYS7BQwV",
        "outputId": "6acbd922-9f9e-4ffb-ab12-c1a6674265b2"
      },
      "source": [
        "# fit the model with polynomial kernel\n",
        "clf_poly = SVC(kernel='poly')\n",
        "clf_poly.fit(train_images, train_label)\n",
        "\n",
        "# predict labels for the test data base\n",
        "y_pred_poly = clf_poly.predict(test_images)\n",
        "\n",
        "# check your score\n",
        "score_poly = clf_poly.score(test_images, test_label)\n",
        "print('Score with a poly kernel: %s' % score_poly)"
      ],
      "execution_count": null,
      "outputs": [
        {
          "output_type": "stream",
          "text": [
            "Score with a poly kernel: 0.847\n"
          ],
          "name": "stdout"
        }
      ]
    },
    {
      "cell_type": "markdown",
      "metadata": {
        "id": "_mX4CrQ5ALGq"
      },
      "source": [
        "After trying with different kernels we can see that the best score 0.867 is obtained with a rbf kernel. We are going to compare more precisely the differences between the performance of the different kernels. "
      ]
    },
    {
      "cell_type": "markdown",
      "metadata": {
        "id": "LS2iFzMgBUup"
      },
      "source": [
        "## **Summary of the performance for different kernels**"
      ]
    },
    {
      "cell_type": "code",
      "metadata": {
        "colab": {
          "base_uri": "https://localhost:8080/",
          "height": 509
        },
        "id": "6Tl73o1qBaBO",
        "outputId": "5f5b882c-388b-4066-a077-f5d6efd63b36"
      },
      "source": [
        "nb_support_vector = []\n",
        "acc_score = []\n",
        "times = []\n",
        "c = 10\n",
        "########### We compute the time of execution\n",
        "t0 = time()\n",
        "clf_linear = svm.SVC(kernel='linear', C=c)\n",
        "clf_linear.fit(train_images, train_label)\n",
        "t_linear = time()-t0\n",
        "times.append(t_linear)\n",
        "print(\"t_linear\", t_linear)\n",
        "t0 = time()\n",
        "\n",
        "clf_poly = svm.SVC(kernel = 'poly', C=c)\n",
        "clf_poly.fit(train_images, train_label)\n",
        "t_poly = time()-t0\n",
        "times.append(t_poly)\n",
        "print(\"t_poly\", t_poly)\n",
        "\n",
        "t0 = time()\n",
        "clf_rbf = svm.SVC(kernel='rbf', C=c)\n",
        "clf_rbf.fit(train_images, train_label)\n",
        "t_rbf = time()-t0\n",
        "times.append(t_rbf)\n",
        "print(\"t_rbf\", t_rbf)\n",
        "\n",
        "clf_range = [clf_rbf, clf_poly, clf_linear]\n",
        "\n",
        "############# We compute the number of support vectors for each type of kernel.\n",
        "for clf in clf_range : \n",
        "  nb_support_vector.append(len(clf.support_vectors_))\n",
        "  print(\"%s kernel  : %0.2f support vectors\" %(clf.kernel , len(clf.support_vectors_)))\n",
        "\n",
        "############# We compute the accuracy score for each type of kernel.\n",
        "\n",
        "for clf in clf_range : \n",
        "    predicted = clf.predict(test_images)\n",
        "    score = metrics.accuracy_score(test_label, predicted)\n",
        "    acc_score.append(score)\n",
        "    print(\"%s kernel : accuracy score is %0.2f \" %(clf.kernel, score))\n",
        "\n",
        "##### Plot for a better view\n",
        "_, axes = plt.subplots(1, 3, figsize=(24, 5))\n",
        "\n",
        "axes[0].set_title(\"Accuracy scores\")\n",
        "axes[0].grid()\n",
        "axes[0].bar([\"rbf\", \"poly\", \"linear\"],acc_score)\n",
        "\n",
        "axes[1].set_title(\"Execution Time\")\n",
        "axes[1].grid()\n",
        "axes[1].bar([\"rbf\", \"poly\", \"linear\"],times)\n",
        "\n",
        "axes[2].set_title(\"Number of Support Vectors\")\n",
        "axes[2].grid()\n",
        "axes[2].bar([\"rbf\", \"poly\", \"linear\"], nb_support_vector)\n",
        "plt.show()"
      ],
      "execution_count": null,
      "outputs": [
        {
          "output_type": "stream",
          "text": [
            "t_linear 26.1480131149292\n",
            "t_poly 4.269855976104736\n",
            "t_rbf 4.287829160690308\n",
            "rbf kernel  : 1226.00 support vectors\n",
            "poly kernel  : 1247.00 support vectors\n",
            "linear kernel  : 610.00 support vectors\n",
            "rbf kernel : accuracy score is 0.87 \n",
            "poly kernel : accuracy score is 0.86 \n",
            "linear kernel : accuracy score is 0.70 \n"
          ],
          "name": "stdout"
        },
        {
          "output_type": "display_data",
          "data": {
            "image/png": "[encoded data removed]",
            "text/plain": [
              "<Figure size 1728x360 with 3 Axes>"
            ]
          },
          "metadata": {
            "tags": [],
            "needs_background": "light"
          }
        }
      ]
    },
    {
      "cell_type": "markdown",
      "metadata": {
        "id": "FbnvCVa2BOVw"
      },
      "source": [
        "The poly and linear kernel have quite close scores and number of Support Vectors. The rbf kernel is more than 5 times slower than the others. "
      ]
    },
    {
      "cell_type": "code",
      "metadata": {
        "colab": {
          "base_uri": "https://localhost:8080/"
        },
        "id": "dcAsgP6gBkkk",
        "outputId": "08de1292-30f6-485d-f2ba-15d2ce94aad5"
      },
      "source": [
        "##We compute the confusion matrix for each type of kernel. \n",
        "\n",
        "for clf in clf_range : \n",
        "    predicted = clf.predict(test_images)\n",
        "    matrix = metrics.confusion_matrix(test_label, predicted)\n",
        "    print(\"%s kernel\" %(clf.kernel), matrix)"
      ],
      "execution_count": null,
      "outputs": [
        {
          "output_type": "stream",
          "text": [
            "rbf kernel [[434  66]\n",
            " [ 63 437]]\n",
            "poly kernel [[444  56]\n",
            " [ 88 412]]\n",
            "linear kernel [[340 160]\n",
            " [144 356]]\n"
          ],
          "name": "stdout"
        }
      ]
    },
    {
      "cell_type": "markdown",
      "metadata": {
        "id": "seLyZrpyBf9C"
      },
      "source": [
        "The diagonal line from the top-left corner to the bottom-right corner is the number of correct predictions for each row. Each row corresponding to a class. The best model, as far as the accuracy score is concerned, is the rbf kernel it gives the best prediction."
      ]
    },
    {
      "cell_type": "markdown",
      "metadata": {
        "id": "VjCJufLDBq7L"
      },
      "source": [
        "## **Study of the influence of parameters gamma and C**"
      ]
    },
    {
      "cell_type": "code",
      "metadata": {
        "id": "lHKZxvleBnih"
      },
      "source": [
        "C_range = np.logspace(-2, 10, 13)\n",
        "gamma_range = np.logspace(-9, 3, 13)\n",
        "param_grid = dict(gamma=gamma_range, C=C_range)\n",
        "cv = StratifiedShuffleSplit(n_splits=5, test_size=0.2, random_state=42)\n",
        "grid = GridSearchCV(SVC(), param_grid=param_grid, cv=cv)"
      ],
      "execution_count": null,
      "outputs": []
    },
    {
      "cell_type": "code",
      "metadata": {
        "colab": {
          "base_uri": "https://localhost:8080/"
        },
        "id": "Ew7QeV2_bsAf",
        "outputId": "48759195-2ecb-4ec0-b172-8ba9ea53ebe6"
      },
      "source": [
        "grid.fit(train_images, train_label)\n",
        "\n",
        "print(\"The best parameters are %s with a score of %0.2f\"\n",
        "      % (grid.best_params_, grid.best_score_))"
      ],
      "execution_count": null,
      "outputs": [
        {
          "output_type": "stream",
          "text": [
            "The best parameters are {'C': 1.0, 'gamma': 1e-07} with a score of 0.87\n"
          ],
          "name": "stdout"
        }
      ]
    },
    {
      "cell_type": "code",
      "metadata": {
        "id": "DEnykjo3BzMQ"
      },
      "source": [
        "import matplotlib as mpl\n",
        "\n",
        "class MidpointNormalize( mpl.colors.Normalize ):\n",
        "\n",
        "    def __init__(self, vmin=None, vmax=None, midpoint=None, clip=False):\n",
        "        self.midpoint = midpoint\n",
        "        mpl.colors.Normalize.__init__(self, vmin, vmax, clip)\n",
        "\n",
        "    def __call__(self, value, clip=None):\n",
        "        x, y = [self.vmin, self.midpoint, self.vmax], [0, 0.5, 1]\n",
        "        return np.ma.masked_array(np.interp(value, x, y))"
      ],
      "execution_count": null,
      "outputs": []
    },
    {
      "cell_type": "code",
      "metadata": {
        "colab": {
          "base_uri": "https://localhost:8080/",
          "height": 445
        },
        "id": "JDxJ74uEBzto",
        "outputId": "0b3ba85e-0b30-4741-bf6b-bf42b7442f4a"
      },
      "source": [
        "scores = grid.cv_results_['mean_test_score'].reshape(len(C_range),len(gamma_range))\n",
        "\n",
        "plt.figure(figsize=(8, 6))\n",
        "plt.subplots_adjust(left=0.2, right=0.95, bottom=0.15, top=0.95)\n",
        "plt.imshow(scores, interpolation='nearest', cmap=plt.cm.hot, norm= MidpointNormalize(vmin=0.2, midpoint=0.55))\n",
        "plt.xlabel('gamma')\n",
        "plt.ylabel('C')\n",
        "plt.colorbar()\n",
        "plt.xticks(np.arange(len(gamma_range)), gamma_range, rotation=45)\n",
        "plt.yticks(np.arange(len(C_range)), C_range)\n",
        "plt.title('Validation accuracy')\n",
        "plt.show()\n"
      ],
      "execution_count": null,
      "outputs": [
        {
          "output_type": "display_data",
          "data": {
            "image/png": "[encoded data removed]",
            "text/plain": [
              "<Figure size 576x432 with 2 Axes>"
            ]
          },
          "metadata": {
            "tags": [],
            "needs_background": "light"
          }
        }
      ]
    },
    {
      "cell_type": "markdown",
      "metadata": {
        "id": "PM2CjUwGBLK9"
      },
      "source": [
        "This heatmap represents the behaviour of the validation accuracy as a function of the parameters C and gamma. \n",
        "\n",
        "The gamma parameter defines how far the influence of a single training example reaches. I gamma is low value this influence will be far and when it increases the influence decreases.\n",
        "\n",
        "The C parameter trades off correct classification of training examples against maximization of the decision function’s margin. When C increases the size of the accepted margin will decrease if the decision function is better at classifying all training points correctly.\n",
        "\n",
        "Here we see that the best score is obtained for gama = 10^-7 and C > 1. "
      ]
    },
    {
      "cell_type": "markdown",
      "metadata": {
        "id": "IU1f_MoPB5Oo"
      },
      "source": [
        "##  **Study of the training and testing errors**"
      ]
    },
    {
      "cell_type": "code",
      "metadata": {
        "colab": {
          "base_uri": "https://localhost:8080/",
          "height": 299
        },
        "id": "gsglzK64B4mN",
        "outputId": "a04ba029-00a2-4496-c73f-40600cf8f47f"
      },
      "source": [
        "C = [k*(10**i) for i in range(-5,5) for k in range(1,10)]\n",
        "test_error = []\n",
        "train_error = []\n",
        "for i in range(len(C)):\n",
        "    clf = svm.SVC(kernel='linear', C=C[i])\n",
        "    clf.fit(train_images, train_label)\n",
        "    test_error.append(1-clf.score(test_images, test_label))\n",
        "    train_error.append(1-clf.score(train_images, train_label))\n",
        "plt.plot(C, test_error , label = 'test error')\n",
        "plt.plot(C, train_error, label = 'train error')\n",
        "plt.xscale(\"log\")\n",
        "plt.xlabel(\"C\")\n",
        "plt.ylabel(\"error\")\n",
        "plt.legend()\n",
        "plt.title(\"Error as a function of C (linear kernel)\")\n",
        "plt.show()"
      ],
      "execution_count": null,
      "outputs": [
        {
          "output_type": "display_data",
          "data": {
            "image/png": "[encoded data removed]",
            "text/plain": [
              "<Figure size 432x288 with 1 Axes>"
            ]
          },
          "metadata": {
            "tags": [],
            "needs_background": "light"
          }
        }
      ]
    },
    {
      "cell_type": "code",
      "metadata": {
        "colab": {
          "base_uri": "https://localhost:8080/",
          "height": 299
        },
        "id": "UJPjXBhTCAYm",
        "outputId": "e9957746-01fb-4180-a76d-811f82e65309"
      },
      "source": [
        "C = [k*(10**i) for i in range(-5,5) for k in range(1,10)]\n",
        "test_error = []\n",
        "train_error = []\n",
        "for i in range(len(C)):\n",
        "    clf = svm.SVC(kernel='rbf', C=C[i])\n",
        "    clf.fit(train_images, train_label)\n",
        "    test_error.append(1-clf.score(test_images, test_label))\n",
        "    train_error.append(1-clf.score(train_images, train_label))\n",
        "plt.plot(C, test_error, label = 'test error')\n",
        "plt.plot(C, train_error, label = 'train error')\n",
        "plt.xscale(\"log\")\n",
        "plt.xlabel(\"C\")\n",
        "plt.ylabel(\"error\")\n",
        "plt.legend()\n",
        "plt.title(\"Test error as a function of C (rbf kernel)\")\n",
        "plt.show()"
      ],
      "execution_count": null,
      "outputs": [
        {
          "output_type": "display_data",
          "data": {
            "image/png": "[encoded data removed]",
            "text/plain": [
              "<Figure size 432x288 with 1 Axes>"
            ]
          },
          "metadata": {
            "tags": [],
            "needs_background": "light"
          }
        }
      ]
    },
    {
      "cell_type": "code",
      "metadata": {
        "colab": {
          "base_uri": "https://localhost:8080/",
          "height": 295
        },
        "id": "WNyAIkc5frTH",
        "outputId": "ea2ec0c4-f411-419b-dfe9-10f0ac5c6cfa"
      },
      "source": [
        "#C is the hyper-parameter controlling the complexity, \n",
        "#We draw the train and test error as a function of C\n",
        "\n",
        "C_range = np.arange(1,50,1)\n",
        "train_error=[]\n",
        "test_error=[]\n",
        "for c in C_range:\n",
        "    clf_rbf = svm.SVC(kernel='rbf', C=c)\n",
        "    clf_rbf.fit(train_images, train_label)\n",
        "    train_error.append(1-clf_rbf.score(train_images, train_label))\n",
        "    test_error.append(1-clf_rbf.score(test_images, test_label))\n",
        "\n",
        "\n",
        "plt.scatter(C_range, train_error, label='train error')\n",
        "plt.scatter(C_range, test_error, label='test error')\n",
        "plt.xlabel(\"C\")\n",
        "plt.ylabel(\"Error\")\n",
        "plt.legend()\n",
        "plt.title(\"Train and test error as a function of hyper parameter C\")\n",
        "plt.show()"
      ],
      "execution_count": null,
      "outputs": [
        {
          "output_type": "display_data",
          "data": {
            "image/png": "[encoded data removed]",
            "text/plain": [
              "<Figure size 432x288 with 1 Axes>"
            ]
          },
          "metadata": {
            "tags": [],
            "needs_background": "light"
          }
        }
      ]
    },
    {
      "cell_type": "code",
      "metadata": {
        "colab": {
          "base_uri": "https://localhost:8080/",
          "height": 299
        },
        "id": "wZVR7BH8CEjS",
        "outputId": "a9f0f5d6-b597-4905-8698-320724f8aa28"
      },
      "source": [
        "C = [k*(10**i) for i in range(-5,5) for k in range(1,10)]\n",
        "test_error = []\n",
        "train_error = []\n",
        "for i in range(len(C)):\n",
        "    clf = svm.SVC(kernel='poly', C=C[i])\n",
        "    clf.fit(train_images, train_label)\n",
        "    test_error.append(1-clf.score(test_images, test_label))\n",
        "    train_error.append(1-clf.score(train_images, train_label))\n",
        "plt.plot(C, test_error, label = 'test error')\n",
        "plt.plot(C, train_error, label = 'train error')\n",
        "plt.xscale(\"log\")\n",
        "plt.xlabel(\"C\")\n",
        "plt.ylabel(\"error\")\n",
        "plt.legend()\n",
        "plt.title(\"Error as a function of C (poly kernel)\")\n",
        "plt.show()"
      ],
      "execution_count": null,
      "outputs": [
        {
          "output_type": "display_data",
          "data": {
            "image/png": "[encoded data removed]",
            "text/plain": [
              "<Figure size 432x288 with 1 Axes>"
            ]
          },
          "metadata": {
            "tags": [],
            "needs_background": "light"
          }
        }
      ]
    },
    {
      "cell_type": "markdown",
      "metadata": {
        "id": "wzi1FzoTeosD"
      },
      "source": [
        "For the poly and rbf kernel when we plot the test error with respect to C we can see that when C is high enough the test error tends to decrease. It is the lowest for the rbf kernel as expected. "
      ]
    },
    {
      "cell_type": "markdown",
      "metadata": {
        "id": "pvbvq1MeCWzm"
      },
      "source": [
        "##**Influence of PCA**"
      ]
    },
    {
      "cell_type": "code",
      "metadata": {
        "colab": {
          "base_uri": "https://localhost:8080/"
        },
        "id": "0JqXJ-4DCWUW",
        "outputId": "07b8b32f-d11e-4199-aa70-55b0e121fc66"
      },
      "source": [
        "#score with a linear kernel\n",
        "clf_linear = svm.SVC(kernel='linear')\n",
        "clf_linear.fit(train_images, train_label)\n",
        "print(\"Score with a linear kernel : \", clf_linear.score(test_images, test_label))\n",
        "\n",
        "#We do the PCA\n",
        "pca = PCA(int(train_images.shape[0]*0.3))\n",
        "train_images_pca = pca.fit_transform(train_images)\n",
        "test_images_pca = pca.fit_transform(test_images)\n",
        "\n",
        "#We choose a rbf kernel\n",
        "clf_rbf = svm.SVC(kernel='rbf')\n",
        "clf_rbf.fit(train_images, train_label)\n",
        "print(\"Score with a rbf kernel and without PCA : \", clf_rbf.score(test_images, test_label))\n",
        "clf_rbf_pca = svm.SVC(kernel='rbf')\n",
        "clf_rbf_pca.fit(train_images_pca, train_label)\n",
        "print(\"Score with a rbf kernel and with PCA : \", clf_rbf_pca.score(test_images_pca, test_label))"
      ],
      "execution_count": null,
      "outputs": [
        {
          "output_type": "stream",
          "text": [
            "Score with a linear kernel :  0.696\n",
            "Score with a rbf kernel and without PCA :  0.867\n",
            "Score with a rbf kernel and with PCA :  0.834\n"
          ],
          "name": "stdout"
        }
      ]
    },
    {
      "cell_type": "markdown",
      "metadata": {
        "id": "p1-yfsNwe_Ye"
      },
      "source": [
        "The PCA doesn't improve the performance. The performance is the best for a simple rfb kernel which gives the best results."
      ]
    },
    {
      "cell_type": "markdown",
      "metadata": {
        "id": "wJy82ypICfL6"
      },
      "source": [
        "# **PART TWO : NEURAL NETWORK**"
      ]
    },
    {
      "cell_type": "markdown",
      "metadata": {
        "id": "sq_cMIZR41CP"
      },
      "source": [
        "Another way to classify the data is to use neural networks. We thus want to see if the results given by a neural network are better than with SVMs. First, we use the to_categorical function and normalize the data to prepare our neural network."
      ]
    },
    {
      "cell_type": "code",
      "metadata": {
        "id": "_SpmrN6fCoSC"
      },
      "source": [
        "# To categorical\n",
        "\n",
        "train_labels = to_categorical(train_label, num_classes=None, dtype='float32')\n",
        "test_labels = to_categorical(test_label, num_classes=None, dtype='float32')"
      ],
      "execution_count": null,
      "outputs": []
    },
    {
      "cell_type": "code",
      "metadata": {
        "id": "XfI8dh4h_gy0"
      },
      "source": [
        "# Normalizing data\n",
        "\n",
        "test_images = test_images.astype('float32')\n",
        "train_images = train_images.astype('float32')\n",
        "norm_train = (train_images - np.mean(train_images))/np.std(train_images)\n",
        "norm_test = (test_images - np.mean(train_images))/np.std(train_images)"
      ],
      "execution_count": null,
      "outputs": []
    },
    {
      "cell_type": "markdown",
      "metadata": {
        "id": "WAmid8kf9G4K"
      },
      "source": [
        "There are several parameters that influence the quality of the network given a dataset. We first decided to do one of the most basic approach of the neural network.\n",
        "\n",
        "Note : in all the following parts, the graphics are always plotted in order: loss history, then accuracy history."
      ]
    },
    {
      "cell_type": "markdown",
      "metadata": {
        "id": "06VFszpvCDYq"
      },
      "source": [
        "## **Basic Neural Network**"
      ]
    },
    {
      "cell_type": "markdown",
      "metadata": {
        "id": "KoV3RognFkgN"
      },
      "source": [
        "### SGD optimizer with basic parameters"
      ]
    },
    {
      "cell_type": "markdown",
      "metadata": {
        "id": "rypaaOQR7w4N"
      },
      "source": [
        "The first neural network tested is with a simple Stochastic Gradient Descent optimizer, with a the default learning rate of 10e-3. \n",
        "\n",
        "We created only one hidden layer of 100 neurons, activated by ReLU. The output is activated by a sigmoid activation function. The batch size is 10. Finally, we made 100 epoch with a loss calculated by the function binary crossentropy."
      ]
    },
    {
      "cell_type": "code",
      "metadata": {
        "colab": {
          "base_uri": "https://localhost:8080/"
        },
        "id": "x8q30ExKFmck",
        "outputId": "4ff57bd7-0fb9-438c-b3ed-a626a53eb763"
      },
      "source": [
        "input_shape = ants_data[0].shape[0]\n",
        "output_shape = 2\n",
        "\n",
        "model = Sequential()\n",
        "model.add(Dense(100, input_dim=input_shape))\n",
        "model.add(Activation('relu'))\n",
        "model.add(Dense(output_shape))\n",
        "model.add(Activation('sigmoid'))\n",
        "\n",
        "opt = optimizers.SGD(learning_rate=0.001)\n",
        "model.compile(loss='binary_crossentropy', optimizer=opt, metrics=['accuracy'])\n",
        "\n",
        "epochs = 100\n",
        "\n",
        "history = model.fit(norm_train, train_labels,epochs=epochs, batch_size = 10,validation_data =(norm_test,test_labels))\n",
        "\n",
        "\n"
      ],
      "execution_count": null,
      "outputs": [
        {
          "output_type": "stream",
          "text": [
            "Epoch 1/100\n",
            "200/200 [==============================] - 1s 3ms/step - loss: 0.8213 - accuracy: 0.4720 - val_loss: 0.6032 - val_accuracy: 0.7120\n",
            "Epoch 2/100\n",
            "200/200 [==============================] - 0s 2ms/step - loss: 0.5499 - accuracy: 0.7519 - val_loss: 0.5147 - val_accuracy: 0.7750\n",
            "Epoch 3/100\n",
            "200/200 [==============================] - 0s 2ms/step - loss: 0.4495 - accuracy: 0.8251 - val_loss: 0.4786 - val_accuracy: 0.8040\n",
            "Epoch 4/100\n",
            "200/200 [==============================] - 0s 2ms/step - loss: 0.4207 - accuracy: 0.8314 - val_loss: 0.4605 - val_accuracy: 0.8130\n",
            "Epoch 5/100\n",
            "200/200 [==============================] - 0s 2ms/step - loss: 0.4022 - accuracy: 0.8372 - val_loss: 0.4492 - val_accuracy: 0.8200\n",
            "Epoch 6/100\n",
            "200/200 [==============================] - 0s 2ms/step - loss: 0.4032 - accuracy: 0.8294 - val_loss: 0.4420 - val_accuracy: 0.8230\n",
            "Epoch 7/100\n",
            "200/200 [==============================] - 0s 2ms/step - loss: 0.3746 - accuracy: 0.8481 - val_loss: 0.4362 - val_accuracy: 0.8270\n",
            "Epoch 8/100\n",
            "200/200 [==============================] - 0s 2ms/step - loss: 0.3561 - accuracy: 0.8569 - val_loss: 0.4319 - val_accuracy: 0.8260\n",
            "Epoch 9/100\n",
            "200/200 [==============================] - 0s 2ms/step - loss: 0.3767 - accuracy: 0.8531 - val_loss: 0.4281 - val_accuracy: 0.8250\n",
            "Epoch 10/100\n",
            "200/200 [==============================] - 0s 2ms/step - loss: 0.3763 - accuracy: 0.8450 - val_loss: 0.4251 - val_accuracy: 0.8300\n",
            "Epoch 11/100\n",
            "200/200 [==============================] - 0s 2ms/step - loss: 0.3625 - accuracy: 0.8492 - val_loss: 0.4225 - val_accuracy: 0.8300\n",
            "Epoch 12/100\n",
            "200/200 [==============================] - 0s 2ms/step - loss: 0.3407 - accuracy: 0.8660 - val_loss: 0.4203 - val_accuracy: 0.8300\n",
            "Epoch 13/100\n",
            "200/200 [==============================] - 0s 2ms/step - loss: 0.3268 - accuracy: 0.8730 - val_loss: 0.4185 - val_accuracy: 0.8330\n",
            "Epoch 14/100\n",
            "200/200 [==============================] - 0s 2ms/step - loss: 0.3690 - accuracy: 0.8597 - val_loss: 0.4169 - val_accuracy: 0.8320\n",
            "Epoch 15/100\n",
            "200/200 [==============================] - 0s 2ms/step - loss: 0.3438 - accuracy: 0.8676 - val_loss: 0.4156 - val_accuracy: 0.8300\n",
            "Epoch 16/100\n",
            "200/200 [==============================] - 0s 2ms/step - loss: 0.3500 - accuracy: 0.8672 - val_loss: 0.4143 - val_accuracy: 0.8350\n",
            "Epoch 17/100\n",
            "200/200 [==============================] - 0s 2ms/step - loss: 0.3387 - accuracy: 0.8672 - val_loss: 0.4133 - val_accuracy: 0.8340\n",
            "Epoch 18/100\n",
            "200/200 [==============================] - 0s 2ms/step - loss: 0.3325 - accuracy: 0.8695 - val_loss: 0.4124 - val_accuracy: 0.8360\n",
            "Epoch 19/100\n",
            "200/200 [==============================] - 0s 2ms/step - loss: 0.3141 - accuracy: 0.8869 - val_loss: 0.4119 - val_accuracy: 0.8340\n",
            "Epoch 20/100\n",
            "200/200 [==============================] - 0s 2ms/step - loss: 0.3233 - accuracy: 0.8846 - val_loss: 0.4109 - val_accuracy: 0.8360\n",
            "Epoch 21/100\n",
            "200/200 [==============================] - 0s 2ms/step - loss: 0.3154 - accuracy: 0.8775 - val_loss: 0.4104 - val_accuracy: 0.8410\n",
            "Epoch 22/100\n",
            "200/200 [==============================] - 0s 2ms/step - loss: 0.3117 - accuracy: 0.8854 - val_loss: 0.4096 - val_accuracy: 0.8390\n",
            "Epoch 23/100\n",
            "200/200 [==============================] - 0s 2ms/step - loss: 0.3096 - accuracy: 0.8832 - val_loss: 0.4091 - val_accuracy: 0.8380\n",
            "Epoch 24/100\n",
            "200/200 [==============================] - 0s 2ms/step - loss: 0.3035 - accuracy: 0.8945 - val_loss: 0.4089 - val_accuracy: 0.8400\n",
            "Epoch 25/100\n",
            "200/200 [==============================] - 0s 2ms/step - loss: 0.3170 - accuracy: 0.8796 - val_loss: 0.4084 - val_accuracy: 0.8400\n",
            "Epoch 26/100\n",
            "200/200 [==============================] - 0s 2ms/step - loss: 0.3093 - accuracy: 0.8876 - val_loss: 0.4081 - val_accuracy: 0.8410\n",
            "Epoch 27/100\n",
            "200/200 [==============================] - 0s 2ms/step - loss: 0.2918 - accuracy: 0.9003 - val_loss: 0.4077 - val_accuracy: 0.8400\n",
            "Epoch 28/100\n",
            "200/200 [==============================] - 0s 2ms/step - loss: 0.2907 - accuracy: 0.8976 - val_loss: 0.4076 - val_accuracy: 0.8380\n",
            "Epoch 29/100\n",
            "200/200 [==============================] - 0s 2ms/step - loss: 0.2839 - accuracy: 0.8980 - val_loss: 0.4072 - val_accuracy: 0.8380\n",
            "Epoch 30/100\n",
            "200/200 [==============================] - 0s 2ms/step - loss: 0.2907 - accuracy: 0.8857 - val_loss: 0.4071 - val_accuracy: 0.8380\n",
            "Epoch 31/100\n",
            "200/200 [==============================] - 0s 2ms/step - loss: 0.2872 - accuracy: 0.8881 - val_loss: 0.4069 - val_accuracy: 0.8380\n",
            "Epoch 32/100\n",
            "200/200 [==============================] - 0s 2ms/step - loss: 0.2816 - accuracy: 0.9006 - val_loss: 0.4070 - val_accuracy: 0.8360\n",
            "Epoch 33/100\n",
            "200/200 [==============================] - 0s 2ms/step - loss: 0.2757 - accuracy: 0.8988 - val_loss: 0.4070 - val_accuracy: 0.8380\n",
            "Epoch 34/100\n",
            "200/200 [==============================] - 0s 2ms/step - loss: 0.2843 - accuracy: 0.8958 - val_loss: 0.4066 - val_accuracy: 0.8360\n",
            "Epoch 35/100\n",
            "200/200 [==============================] - 0s 2ms/step - loss: 0.2764 - accuracy: 0.8988 - val_loss: 0.4065 - val_accuracy: 0.8370\n",
            "Epoch 36/100\n",
            "200/200 [==============================] - 0s 2ms/step - loss: 0.2643 - accuracy: 0.8976 - val_loss: 0.4065 - val_accuracy: 0.8340\n",
            "Epoch 37/100\n",
            "200/200 [==============================] - 0s 2ms/step - loss: 0.2761 - accuracy: 0.8975 - val_loss: 0.4064 - val_accuracy: 0.8340\n",
            "Epoch 38/100\n",
            "200/200 [==============================] - 0s 2ms/step - loss: 0.2535 - accuracy: 0.9106 - val_loss: 0.4061 - val_accuracy: 0.8340\n",
            "Epoch 39/100\n",
            "200/200 [==============================] - 0s 2ms/step - loss: 0.2503 - accuracy: 0.9146 - val_loss: 0.4061 - val_accuracy: 0.8340\n",
            "Epoch 40/100\n",
            "200/200 [==============================] - 0s 2ms/step - loss: 0.2817 - accuracy: 0.8958 - val_loss: 0.4063 - val_accuracy: 0.8330\n",
            "Epoch 41/100\n",
            "200/200 [==============================] - 0s 2ms/step - loss: 0.2760 - accuracy: 0.8904 - val_loss: 0.4064 - val_accuracy: 0.8360\n",
            "Epoch 42/100\n",
            "200/200 [==============================] - 0s 2ms/step - loss: 0.2511 - accuracy: 0.9056 - val_loss: 0.4062 - val_accuracy: 0.8340\n",
            "Epoch 43/100\n",
            "200/200 [==============================] - 0s 2ms/step - loss: 0.2526 - accuracy: 0.9068 - val_loss: 0.4062 - val_accuracy: 0.8340\n",
            "Epoch 44/100\n",
            "200/200 [==============================] - 0s 2ms/step - loss: 0.2727 - accuracy: 0.8993 - val_loss: 0.4066 - val_accuracy: 0.8370\n",
            "Epoch 45/100\n",
            "200/200 [==============================] - 0s 2ms/step - loss: 0.2366 - accuracy: 0.9125 - val_loss: 0.4063 - val_accuracy: 0.8380\n",
            "Epoch 46/100\n",
            "200/200 [==============================] - 0s 2ms/step - loss: 0.2588 - accuracy: 0.9104 - val_loss: 0.4065 - val_accuracy: 0.8370\n",
            "Epoch 47/100\n",
            "200/200 [==============================] - 0s 2ms/step - loss: 0.2400 - accuracy: 0.9121 - val_loss: 0.4066 - val_accuracy: 0.8370\n",
            "Epoch 48/100\n",
            "200/200 [==============================] - 0s 2ms/step - loss: 0.2360 - accuracy: 0.9121 - val_loss: 0.4066 - val_accuracy: 0.8370\n",
            "Epoch 49/100\n",
            "200/200 [==============================] - 0s 2ms/step - loss: 0.2577 - accuracy: 0.9010 - val_loss: 0.4066 - val_accuracy: 0.8400\n",
            "Epoch 50/100\n",
            "200/200 [==============================] - 0s 2ms/step - loss: 0.2287 - accuracy: 0.9202 - val_loss: 0.4067 - val_accuracy: 0.8380\n",
            "Epoch 51/100\n",
            "200/200 [==============================] - 0s 2ms/step - loss: 0.2344 - accuracy: 0.9208 - val_loss: 0.4067 - val_accuracy: 0.8390\n",
            "Epoch 52/100\n",
            "200/200 [==============================] - 0s 2ms/step - loss: 0.2413 - accuracy: 0.9142 - val_loss: 0.4070 - val_accuracy: 0.8400\n",
            "Epoch 53/100\n",
            "200/200 [==============================] - 0s 2ms/step - loss: 0.2411 - accuracy: 0.9161 - val_loss: 0.4071 - val_accuracy: 0.8400\n",
            "Epoch 54/100\n",
            "200/200 [==============================] - 0s 2ms/step - loss: 0.2402 - accuracy: 0.9210 - val_loss: 0.4071 - val_accuracy: 0.8400\n",
            "Epoch 55/100\n",
            "200/200 [==============================] - 0s 2ms/step - loss: 0.2525 - accuracy: 0.8989 - val_loss: 0.4072 - val_accuracy: 0.8400\n",
            "Epoch 56/100\n",
            "200/200 [==============================] - 0s 2ms/step - loss: 0.2319 - accuracy: 0.9191 - val_loss: 0.4075 - val_accuracy: 0.8380\n",
            "Epoch 57/100\n",
            "200/200 [==============================] - 0s 2ms/step - loss: 0.2419 - accuracy: 0.9134 - val_loss: 0.4076 - val_accuracy: 0.8400\n",
            "Epoch 58/100\n",
            "200/200 [==============================] - 0s 2ms/step - loss: 0.2280 - accuracy: 0.9226 - val_loss: 0.4079 - val_accuracy: 0.8440\n",
            "Epoch 59/100\n",
            "200/200 [==============================] - 0s 2ms/step - loss: 0.2278 - accuracy: 0.9204 - val_loss: 0.4079 - val_accuracy: 0.8410\n",
            "Epoch 60/100\n",
            "200/200 [==============================] - 0s 2ms/step - loss: 0.2217 - accuracy: 0.9205 - val_loss: 0.4082 - val_accuracy: 0.8410\n",
            "Epoch 61/100\n",
            "200/200 [==============================] - 0s 2ms/step - loss: 0.2132 - accuracy: 0.9347 - val_loss: 0.4083 - val_accuracy: 0.8410\n",
            "Epoch 62/100\n",
            "200/200 [==============================] - 0s 2ms/step - loss: 0.2248 - accuracy: 0.9186 - val_loss: 0.4086 - val_accuracy: 0.8420\n",
            "Epoch 63/100\n",
            "200/200 [==============================] - 0s 2ms/step - loss: 0.2054 - accuracy: 0.9328 - val_loss: 0.4085 - val_accuracy: 0.8430\n",
            "Epoch 64/100\n",
            "200/200 [==============================] - 0s 2ms/step - loss: 0.2154 - accuracy: 0.9252 - val_loss: 0.4088 - val_accuracy: 0.8450\n",
            "Epoch 65/100\n",
            "200/200 [==============================] - 0s 2ms/step - loss: 0.2080 - accuracy: 0.9276 - val_loss: 0.4090 - val_accuracy: 0.8430\n",
            "Epoch 66/100\n",
            "200/200 [==============================] - 0s 2ms/step - loss: 0.2180 - accuracy: 0.9268 - val_loss: 0.4093 - val_accuracy: 0.8470\n",
            "Epoch 67/100\n",
            "200/200 [==============================] - 0s 2ms/step - loss: 0.2263 - accuracy: 0.9147 - val_loss: 0.4098 - val_accuracy: 0.8420\n",
            "Epoch 68/100\n",
            "200/200 [==============================] - 0s 2ms/step - loss: 0.1998 - accuracy: 0.9402 - val_loss: 0.4096 - val_accuracy: 0.8440\n",
            "Epoch 69/100\n",
            "200/200 [==============================] - 0s 2ms/step - loss: 0.2038 - accuracy: 0.9309 - val_loss: 0.4097 - val_accuracy: 0.8450\n",
            "Epoch 70/100\n",
            "200/200 [==============================] - 0s 2ms/step - loss: 0.1930 - accuracy: 0.9345 - val_loss: 0.4100 - val_accuracy: 0.8460\n",
            "Epoch 71/100\n",
            "200/200 [==============================] - 0s 2ms/step - loss: 0.1956 - accuracy: 0.9361 - val_loss: 0.4104 - val_accuracy: 0.8460\n",
            "Epoch 72/100\n",
            "200/200 [==============================] - 0s 2ms/step - loss: 0.2083 - accuracy: 0.9342 - val_loss: 0.4109 - val_accuracy: 0.8440\n",
            "Epoch 73/100\n",
            "200/200 [==============================] - 0s 2ms/step - loss: 0.2017 - accuracy: 0.9374 - val_loss: 0.4109 - val_accuracy: 0.8460\n",
            "Epoch 74/100\n",
            "200/200 [==============================] - 0s 2ms/step - loss: 0.1900 - accuracy: 0.9430 - val_loss: 0.4112 - val_accuracy: 0.8450\n",
            "Epoch 75/100\n",
            "200/200 [==============================] - 0s 2ms/step - loss: 0.1946 - accuracy: 0.9362 - val_loss: 0.4118 - val_accuracy: 0.8440\n",
            "Epoch 76/100\n",
            "200/200 [==============================] - 0s 2ms/step - loss: 0.2140 - accuracy: 0.9203 - val_loss: 0.4118 - val_accuracy: 0.8450\n",
            "Epoch 77/100\n",
            "200/200 [==============================] - 0s 2ms/step - loss: 0.1901 - accuracy: 0.9378 - val_loss: 0.4118 - val_accuracy: 0.8460\n",
            "Epoch 78/100\n",
            "200/200 [==============================] - 0s 2ms/step - loss: 0.1815 - accuracy: 0.9392 - val_loss: 0.4121 - val_accuracy: 0.8450\n",
            "Epoch 79/100\n",
            "200/200 [==============================] - 0s 2ms/step - loss: 0.1739 - accuracy: 0.9451 - val_loss: 0.4124 - val_accuracy: 0.8460\n",
            "Epoch 80/100\n",
            "200/200 [==============================] - 0s 2ms/step - loss: 0.1919 - accuracy: 0.9371 - val_loss: 0.4127 - val_accuracy: 0.8460\n",
            "Epoch 81/100\n",
            "200/200 [==============================] - 0s 2ms/step - loss: 0.1708 - accuracy: 0.9533 - val_loss: 0.4127 - val_accuracy: 0.8440\n",
            "Epoch 82/100\n",
            "200/200 [==============================] - 0s 2ms/step - loss: 0.1818 - accuracy: 0.9401 - val_loss: 0.4131 - val_accuracy: 0.8450\n",
            "Epoch 83/100\n",
            "200/200 [==============================] - 0s 2ms/step - loss: 0.1752 - accuracy: 0.9431 - val_loss: 0.4134 - val_accuracy: 0.8450\n",
            "Epoch 84/100\n",
            "200/200 [==============================] - 0s 2ms/step - loss: 0.1780 - accuracy: 0.9515 - val_loss: 0.4135 - val_accuracy: 0.8450\n",
            "Epoch 85/100\n",
            "200/200 [==============================] - 0s 2ms/step - loss: 0.1768 - accuracy: 0.9435 - val_loss: 0.4143 - val_accuracy: 0.8430\n",
            "Epoch 86/100\n",
            "200/200 [==============================] - 0s 2ms/step - loss: 0.1675 - accuracy: 0.9496 - val_loss: 0.4142 - val_accuracy: 0.8430\n",
            "Epoch 87/100\n",
            "200/200 [==============================] - 0s 2ms/step - loss: 0.1711 - accuracy: 0.9514 - val_loss: 0.4150 - val_accuracy: 0.8420\n",
            "Epoch 88/100\n",
            "200/200 [==============================] - 0s 2ms/step - loss: 0.1795 - accuracy: 0.9434 - val_loss: 0.4150 - val_accuracy: 0.8440\n",
            "Epoch 89/100\n",
            "200/200 [==============================] - 0s 2ms/step - loss: 0.1781 - accuracy: 0.9417 - val_loss: 0.4154 - val_accuracy: 0.8420\n",
            "Epoch 90/100\n",
            "200/200 [==============================] - 0s 2ms/step - loss: 0.1552 - accuracy: 0.9596 - val_loss: 0.4154 - val_accuracy: 0.8410\n",
            "Epoch 91/100\n",
            "200/200 [==============================] - 0s 2ms/step - loss: 0.1772 - accuracy: 0.9439 - val_loss: 0.4159 - val_accuracy: 0.8420\n",
            "Epoch 92/100\n",
            "200/200 [==============================] - 0s 2ms/step - loss: 0.1618 - accuracy: 0.9538 - val_loss: 0.4159 - val_accuracy: 0.8410\n",
            "Epoch 93/100\n",
            "200/200 [==============================] - 0s 2ms/step - loss: 0.1654 - accuracy: 0.9522 - val_loss: 0.4163 - val_accuracy: 0.8410\n",
            "Epoch 94/100\n",
            "200/200 [==============================] - 0s 2ms/step - loss: 0.1613 - accuracy: 0.9590 - val_loss: 0.4166 - val_accuracy: 0.8410\n",
            "Epoch 95/100\n",
            "200/200 [==============================] - 0s 2ms/step - loss: 0.1519 - accuracy: 0.9614 - val_loss: 0.4173 - val_accuracy: 0.8460\n",
            "Epoch 96/100\n",
            "200/200 [==============================] - 0s 2ms/step - loss: 0.1560 - accuracy: 0.9595 - val_loss: 0.4174 - val_accuracy: 0.8420\n",
            "Epoch 97/100\n",
            "200/200 [==============================] - 0s 2ms/step - loss: 0.1643 - accuracy: 0.9534 - val_loss: 0.4178 - val_accuracy: 0.8430\n",
            "Epoch 98/100\n",
            "200/200 [==============================] - 0s 2ms/step - loss: 0.1670 - accuracy: 0.9537 - val_loss: 0.4183 - val_accuracy: 0.8430\n",
            "Epoch 99/100\n",
            "200/200 [==============================] - 0s 2ms/step - loss: 0.1439 - accuracy: 0.9607 - val_loss: 0.4184 - val_accuracy: 0.8420\n",
            "Epoch 100/100\n",
            "200/200 [==============================] - 0s 2ms/step - loss: 0.1539 - accuracy: 0.9561 - val_loss: 0.4189 - val_accuracy: 0.8430\n"
          ],
          "name": "stdout"
        }
      ]
    },
    {
      "cell_type": "code",
      "metadata": {
        "colab": {
          "base_uri": "https://localhost:8080/",
          "height": 513
        },
        "id": "5IGaXrZs1FnG",
        "outputId": "6f7c25b2-45bf-438e-b361-39df87ee9dae"
      },
      "source": [
        "# plot \n",
        "\n",
        "#history for loss\n",
        "plt.plot(history.history[\"loss\"],label=\"train set\")\n",
        "plt.plot(history.history[\"val_loss\"],label=\"validation set\")\n",
        "plt.legend()\n",
        "plt.show()\n",
        "\n",
        "# summarize history for accuracy\n",
        "plt.plot(history.history[\"accuracy\"],label=\"train set\")\n",
        "plt.plot(history.history[\"val_accuracy\"], label=\"validation set\")\n",
        "plt.legend()\n",
        "plt.show()\n"
      ],
      "execution_count": null,
      "outputs": [
        {
          "output_type": "display_data",
          "data": {
            "image/png": "[encoded data removed]",
            "text/plain": [
              "<Figure size 432x288 with 1 Axes>"
            ]
          },
          "metadata": {
            "tags": []
          }
        },
        {
          "output_type": "display_data",
          "data": {
            "image/png": "[encoded data removed]",
            "text/plain": [
              "<Figure size 432x288 with 1 Axes>"
            ]
          },
          "metadata": {
            "tags": []
          }
        }
      ]
    },
    {
      "cell_type": "markdown",
      "metadata": {
        "id": "hcEO0R7-zRBp"
      },
      "source": [
        "### Learning rate"
      ]
    },
    {
      "cell_type": "markdown",
      "metadata": {
        "id": "hwBGL6kc-BLx"
      },
      "source": [
        "We could see that the accuracy of the previous experience was of 0,84. While not a bad result, it is not particularly outstanding either. Thus, we decide to modify some parameters in order to enhance the model. First, we try to modify the learning rate from 10e-3 to 10e-4."
      ]
    },
    {
      "cell_type": "code",
      "metadata": {
        "colab": {
          "base_uri": "https://localhost:8080/"
        },
        "id": "tgXoNvbsB_i-",
        "outputId": "138c61c4-bbfa-473b-c395-3f60f0ea2e7b"
      },
      "source": [
        "input_shape = ants_data[0].shape[0]\n",
        "output_shape = 2\n",
        "\n",
        "model = Sequential()\n",
        "model.add(Dense(100, input_dim=input_shape))\n",
        "model.add(Activation('relu'))\n",
        "model.add(Dense(output_shape))\n",
        "model.add(Activation('sigmoid'))\n",
        "\n",
        "opt = optimizers.SGD(learning_rate=0.0001)\n",
        "model.compile(loss='binary_crossentropy', optimizer=opt, metrics=['accuracy'])\n",
        "\n",
        "epochs = 100\n",
        "\n",
        "history = model.fit(norm_train, train_labels,epochs=epochs, batch_size = 10,validation_data =(norm_test,test_labels))\n",
        "\n",
        "\n"
      ],
      "execution_count": null,
      "outputs": [
        {
          "output_type": "stream",
          "text": [
            "Epoch 1/100\n",
            "200/200 [==============================] - 1s 3ms/step - loss: 0.9503 - accuracy: 0.5331 - val_loss: 0.7986 - val_accuracy: 0.5840\n",
            "Epoch 2/100\n",
            "200/200 [==============================] - 0s 2ms/step - loss: 0.8037 - accuracy: 0.5929 - val_loss: 0.6961 - val_accuracy: 0.6480\n",
            "Epoch 3/100\n",
            "200/200 [==============================] - 0s 2ms/step - loss: 0.7153 - accuracy: 0.6481 - val_loss: 0.6376 - val_accuracy: 0.6950\n",
            "Epoch 4/100\n",
            "200/200 [==============================] - 0s 2ms/step - loss: 0.6420 - accuracy: 0.7008 - val_loss: 0.6019 - val_accuracy: 0.7180\n",
            "Epoch 5/100\n",
            "200/200 [==============================] - 0s 2ms/step - loss: 0.5972 - accuracy: 0.7354 - val_loss: 0.5782 - val_accuracy: 0.7430\n",
            "Epoch 6/100\n",
            "200/200 [==============================] - 0s 2ms/step - loss: 0.5976 - accuracy: 0.7331 - val_loss: 0.5609 - val_accuracy: 0.7680\n",
            "Epoch 7/100\n",
            "200/200 [==============================] - 0s 2ms/step - loss: 0.5477 - accuracy: 0.7667 - val_loss: 0.5473 - val_accuracy: 0.7800\n",
            "Epoch 8/100\n",
            "200/200 [==============================] - 0s 2ms/step - loss: 0.5381 - accuracy: 0.7769 - val_loss: 0.5361 - val_accuracy: 0.7860\n",
            "Epoch 9/100\n",
            "200/200 [==============================] - 0s 2ms/step - loss: 0.5424 - accuracy: 0.7771 - val_loss: 0.5265 - val_accuracy: 0.7960\n",
            "Epoch 10/100\n",
            "200/200 [==============================] - 0s 2ms/step - loss: 0.5249 - accuracy: 0.7830 - val_loss: 0.5181 - val_accuracy: 0.8020\n",
            "Epoch 11/100\n",
            "200/200 [==============================] - 0s 2ms/step - loss: 0.5130 - accuracy: 0.7977 - val_loss: 0.5106 - val_accuracy: 0.8060\n",
            "Epoch 12/100\n",
            "200/200 [==============================] - 0s 2ms/step - loss: 0.4924 - accuracy: 0.8107 - val_loss: 0.5040 - val_accuracy: 0.8100\n",
            "Epoch 13/100\n",
            "200/200 [==============================] - 0s 2ms/step - loss: 0.5095 - accuracy: 0.7971 - val_loss: 0.4980 - val_accuracy: 0.8130\n",
            "Epoch 14/100\n",
            "200/200 [==============================] - 0s 2ms/step - loss: 0.4936 - accuracy: 0.8180 - val_loss: 0.4925 - val_accuracy: 0.8160\n",
            "Epoch 15/100\n",
            "200/200 [==============================] - 0s 2ms/step - loss: 0.4988 - accuracy: 0.7999 - val_loss: 0.4875 - val_accuracy: 0.8170\n",
            "Epoch 16/100\n",
            "200/200 [==============================] - 0s 2ms/step - loss: 0.4954 - accuracy: 0.8107 - val_loss: 0.4830 - val_accuracy: 0.8170\n",
            "Epoch 17/100\n",
            "200/200 [==============================] - 0s 2ms/step - loss: 0.4777 - accuracy: 0.8090 - val_loss: 0.4788 - val_accuracy: 0.8170\n",
            "Epoch 18/100\n",
            "200/200 [==============================] - 0s 2ms/step - loss: 0.4754 - accuracy: 0.8150 - val_loss: 0.4749 - val_accuracy: 0.8190\n",
            "Epoch 19/100\n",
            "200/200 [==============================] - 0s 2ms/step - loss: 0.4465 - accuracy: 0.8264 - val_loss: 0.4714 - val_accuracy: 0.8190\n",
            "Epoch 20/100\n",
            "200/200 [==============================] - 0s 2ms/step - loss: 0.4470 - accuracy: 0.8253 - val_loss: 0.4682 - val_accuracy: 0.8170\n",
            "Epoch 21/100\n",
            "200/200 [==============================] - 0s 2ms/step - loss: 0.4501 - accuracy: 0.8387 - val_loss: 0.4651 - val_accuracy: 0.8160\n",
            "Epoch 22/100\n",
            "200/200 [==============================] - 0s 2ms/step - loss: 0.4518 - accuracy: 0.8245 - val_loss: 0.4623 - val_accuracy: 0.8180\n",
            "Epoch 23/100\n",
            "200/200 [==============================] - 0s 2ms/step - loss: 0.4461 - accuracy: 0.8396 - val_loss: 0.4597 - val_accuracy: 0.8200\n",
            "Epoch 24/100\n",
            "200/200 [==============================] - 0s 2ms/step - loss: 0.4554 - accuracy: 0.8233 - val_loss: 0.4573 - val_accuracy: 0.8230\n",
            "Epoch 25/100\n",
            "200/200 [==============================] - 0s 2ms/step - loss: 0.4328 - accuracy: 0.8440 - val_loss: 0.4551 - val_accuracy: 0.8250\n",
            "Epoch 26/100\n",
            "200/200 [==============================] - 0s 2ms/step - loss: 0.4255 - accuracy: 0.8432 - val_loss: 0.4529 - val_accuracy: 0.8250\n",
            "Epoch 27/100\n",
            "200/200 [==============================] - 0s 2ms/step - loss: 0.4314 - accuracy: 0.8426 - val_loss: 0.4510 - val_accuracy: 0.8270\n",
            "Epoch 28/100\n",
            "200/200 [==============================] - 0s 2ms/step - loss: 0.4427 - accuracy: 0.8262 - val_loss: 0.4491 - val_accuracy: 0.8280\n",
            "Epoch 29/100\n",
            "200/200 [==============================] - 0s 2ms/step - loss: 0.4221 - accuracy: 0.8399 - val_loss: 0.4474 - val_accuracy: 0.8310\n",
            "Epoch 30/100\n",
            "200/200 [==============================] - 0s 2ms/step - loss: 0.4426 - accuracy: 0.8356 - val_loss: 0.4457 - val_accuracy: 0.8330\n",
            "Epoch 31/100\n",
            "200/200 [==============================] - 0s 2ms/step - loss: 0.4408 - accuracy: 0.8303 - val_loss: 0.4442 - val_accuracy: 0.8320\n",
            "Epoch 32/100\n",
            "200/200 [==============================] - 0s 2ms/step - loss: 0.4161 - accuracy: 0.8480 - val_loss: 0.4427 - val_accuracy: 0.8310\n",
            "Epoch 33/100\n",
            "200/200 [==============================] - 0s 2ms/step - loss: 0.4379 - accuracy: 0.8390 - val_loss: 0.4413 - val_accuracy: 0.8310\n",
            "Epoch 34/100\n",
            "200/200 [==============================] - 0s 2ms/step - loss: 0.4056 - accuracy: 0.8506 - val_loss: 0.4400 - val_accuracy: 0.8340\n",
            "Epoch 35/100\n",
            "200/200 [==============================] - 0s 2ms/step - loss: 0.4207 - accuracy: 0.8316 - val_loss: 0.4388 - val_accuracy: 0.8340\n",
            "Epoch 36/100\n",
            "200/200 [==============================] - 0s 2ms/step - loss: 0.4111 - accuracy: 0.8448 - val_loss: 0.4376 - val_accuracy: 0.8340\n",
            "Epoch 37/100\n",
            "200/200 [==============================] - 0s 2ms/step - loss: 0.4386 - accuracy: 0.8304 - val_loss: 0.4365 - val_accuracy: 0.8340\n",
            "Epoch 38/100\n",
            "200/200 [==============================] - 0s 2ms/step - loss: 0.4152 - accuracy: 0.8576 - val_loss: 0.4355 - val_accuracy: 0.8350\n",
            "Epoch 39/100\n",
            "200/200 [==============================] - 0s 2ms/step - loss: 0.4190 - accuracy: 0.8469 - val_loss: 0.4344 - val_accuracy: 0.8340\n",
            "Epoch 40/100\n",
            "200/200 [==============================] - 0s 2ms/step - loss: 0.4443 - accuracy: 0.8274 - val_loss: 0.4335 - val_accuracy: 0.8330\n",
            "Epoch 41/100\n",
            "200/200 [==============================] - 0s 2ms/step - loss: 0.4006 - accuracy: 0.8491 - val_loss: 0.4326 - val_accuracy: 0.8340\n",
            "Epoch 42/100\n",
            "200/200 [==============================] - 0s 2ms/step - loss: 0.4067 - accuracy: 0.8453 - val_loss: 0.4317 - val_accuracy: 0.8340\n",
            "Epoch 43/100\n",
            "200/200 [==============================] - 0s 2ms/step - loss: 0.4078 - accuracy: 0.8348 - val_loss: 0.4309 - val_accuracy: 0.8350\n",
            "Epoch 44/100\n",
            "200/200 [==============================] - 0s 2ms/step - loss: 0.4179 - accuracy: 0.8332 - val_loss: 0.4300 - val_accuracy: 0.8350\n",
            "Epoch 45/100\n",
            "200/200 [==============================] - 0s 2ms/step - loss: 0.3974 - accuracy: 0.8510 - val_loss: 0.4293 - val_accuracy: 0.8360\n",
            "Epoch 46/100\n",
            "200/200 [==============================] - 0s 2ms/step - loss: 0.3981 - accuracy: 0.8547 - val_loss: 0.4285 - val_accuracy: 0.8370\n",
            "Epoch 47/100\n",
            "200/200 [==============================] - 0s 2ms/step - loss: 0.4102 - accuracy: 0.8469 - val_loss: 0.4278 - val_accuracy: 0.8370\n",
            "Epoch 48/100\n",
            "200/200 [==============================] - 0s 2ms/step - loss: 0.3767 - accuracy: 0.8599 - val_loss: 0.4271 - val_accuracy: 0.8370\n",
            "Epoch 49/100\n",
            "200/200 [==============================] - 0s 2ms/step - loss: 0.3958 - accuracy: 0.8556 - val_loss: 0.4265 - val_accuracy: 0.8380\n",
            "Epoch 50/100\n",
            "200/200 [==============================] - 0s 2ms/step - loss: 0.4251 - accuracy: 0.8389 - val_loss: 0.4258 - val_accuracy: 0.8380\n",
            "Epoch 51/100\n",
            "200/200 [==============================] - 0s 2ms/step - loss: 0.3748 - accuracy: 0.8662 - val_loss: 0.4252 - val_accuracy: 0.8380\n",
            "Epoch 52/100\n",
            "200/200 [==============================] - 0s 2ms/step - loss: 0.3914 - accuracy: 0.8558 - val_loss: 0.4246 - val_accuracy: 0.8380\n",
            "Epoch 53/100\n",
            "200/200 [==============================] - 0s 2ms/step - loss: 0.3903 - accuracy: 0.8520 - val_loss: 0.4240 - val_accuracy: 0.8380\n",
            "Epoch 54/100\n",
            "200/200 [==============================] - 0s 2ms/step - loss: 0.3787 - accuracy: 0.8620 - val_loss: 0.4235 - val_accuracy: 0.8390\n",
            "Epoch 55/100\n",
            "200/200 [==============================] - 0s 2ms/step - loss: 0.3763 - accuracy: 0.8611 - val_loss: 0.4230 - val_accuracy: 0.8400\n",
            "Epoch 56/100\n",
            "200/200 [==============================] - 0s 2ms/step - loss: 0.3788 - accuracy: 0.8530 - val_loss: 0.4224 - val_accuracy: 0.8420\n",
            "Epoch 57/100\n",
            "200/200 [==============================] - 0s 2ms/step - loss: 0.3844 - accuracy: 0.8628 - val_loss: 0.4219 - val_accuracy: 0.8420\n",
            "Epoch 58/100\n",
            "200/200 [==============================] - 0s 2ms/step - loss: 0.3892 - accuracy: 0.8463 - val_loss: 0.4215 - val_accuracy: 0.8420\n",
            "Epoch 59/100\n",
            "200/200 [==============================] - 0s 2ms/step - loss: 0.3993 - accuracy: 0.8490 - val_loss: 0.4210 - val_accuracy: 0.8420\n",
            "Epoch 60/100\n",
            "200/200 [==============================] - 0s 2ms/step - loss: 0.3821 - accuracy: 0.8601 - val_loss: 0.4205 - val_accuracy: 0.8420\n",
            "Epoch 61/100\n",
            "200/200 [==============================] - 0s 2ms/step - loss: 0.3638 - accuracy: 0.8648 - val_loss: 0.4201 - val_accuracy: 0.8420\n",
            "Epoch 62/100\n",
            "200/200 [==============================] - 0s 2ms/step - loss: 0.3737 - accuracy: 0.8580 - val_loss: 0.4196 - val_accuracy: 0.8420\n",
            "Epoch 63/100\n",
            "200/200 [==============================] - 0s 2ms/step - loss: 0.3924 - accuracy: 0.8483 - val_loss: 0.4192 - val_accuracy: 0.8450\n",
            "Epoch 64/100\n",
            "200/200 [==============================] - 0s 2ms/step - loss: 0.3679 - accuracy: 0.8568 - val_loss: 0.4188 - val_accuracy: 0.8450\n",
            "Epoch 65/100\n",
            "200/200 [==============================] - 0s 2ms/step - loss: 0.3876 - accuracy: 0.8587 - val_loss: 0.4184 - val_accuracy: 0.8450\n",
            "Epoch 66/100\n",
            "200/200 [==============================] - 0s 2ms/step - loss: 0.3769 - accuracy: 0.8585 - val_loss: 0.4180 - val_accuracy: 0.8450\n",
            "Epoch 67/100\n",
            "200/200 [==============================] - 0s 2ms/step - loss: 0.3733 - accuracy: 0.8580 - val_loss: 0.4177 - val_accuracy: 0.8450\n",
            "Epoch 68/100\n",
            "200/200 [==============================] - 0s 2ms/step - loss: 0.3770 - accuracy: 0.8609 - val_loss: 0.4173 - val_accuracy: 0.8450\n",
            "Epoch 69/100\n",
            "200/200 [==============================] - 0s 2ms/step - loss: 0.3645 - accuracy: 0.8659 - val_loss: 0.4169 - val_accuracy: 0.8450\n",
            "Epoch 70/100\n",
            "200/200 [==============================] - 0s 2ms/step - loss: 0.4037 - accuracy: 0.8361 - val_loss: 0.4166 - val_accuracy: 0.8450\n",
            "Epoch 71/100\n",
            "200/200 [==============================] - 0s 2ms/step - loss: 0.3765 - accuracy: 0.8567 - val_loss: 0.4162 - val_accuracy: 0.8450\n",
            "Epoch 72/100\n",
            "200/200 [==============================] - 0s 2ms/step - loss: 0.3748 - accuracy: 0.8576 - val_loss: 0.4159 - val_accuracy: 0.8460\n",
            "Epoch 73/100\n",
            "200/200 [==============================] - 0s 2ms/step - loss: 0.3725 - accuracy: 0.8640 - val_loss: 0.4155 - val_accuracy: 0.8460\n",
            "Epoch 74/100\n",
            "200/200 [==============================] - 0s 2ms/step - loss: 0.3601 - accuracy: 0.8637 - val_loss: 0.4152 - val_accuracy: 0.8470\n",
            "Epoch 75/100\n",
            "200/200 [==============================] - 0s 2ms/step - loss: 0.3912 - accuracy: 0.8530 - val_loss: 0.4149 - val_accuracy: 0.8470\n",
            "Epoch 76/100\n",
            "200/200 [==============================] - 0s 2ms/step - loss: 0.3813 - accuracy: 0.8611 - val_loss: 0.4146 - val_accuracy: 0.8470\n",
            "Epoch 77/100\n",
            "200/200 [==============================] - 0s 2ms/step - loss: 0.3673 - accuracy: 0.8584 - val_loss: 0.4143 - val_accuracy: 0.8470\n",
            "Epoch 78/100\n",
            "200/200 [==============================] - 0s 2ms/step - loss: 0.3716 - accuracy: 0.8628 - val_loss: 0.4140 - val_accuracy: 0.8480\n",
            "Epoch 79/100\n",
            "200/200 [==============================] - 0s 2ms/step - loss: 0.3846 - accuracy: 0.8477 - val_loss: 0.4137 - val_accuracy: 0.8490\n",
            "Epoch 80/100\n",
            "200/200 [==============================] - 0s 2ms/step - loss: 0.3708 - accuracy: 0.8615 - val_loss: 0.4134 - val_accuracy: 0.8490\n",
            "Epoch 81/100\n",
            "200/200 [==============================] - 0s 2ms/step - loss: 0.3890 - accuracy: 0.8505 - val_loss: 0.4131 - val_accuracy: 0.8490\n",
            "Epoch 82/100\n",
            "200/200 [==============================] - 0s 2ms/step - loss: 0.3867 - accuracy: 0.8467 - val_loss: 0.4128 - val_accuracy: 0.8490\n",
            "Epoch 83/100\n",
            "200/200 [==============================] - 0s 2ms/step - loss: 0.3737 - accuracy: 0.8626 - val_loss: 0.4126 - val_accuracy: 0.8490\n",
            "Epoch 84/100\n",
            "200/200 [==============================] - 0s 2ms/step - loss: 0.3400 - accuracy: 0.8710 - val_loss: 0.4123 - val_accuracy: 0.8510\n",
            "Epoch 85/100\n",
            "200/200 [==============================] - 0s 2ms/step - loss: 0.3585 - accuracy: 0.8654 - val_loss: 0.4121 - val_accuracy: 0.8510\n",
            "Epoch 86/100\n",
            "200/200 [==============================] - 0s 2ms/step - loss: 0.3512 - accuracy: 0.8658 - val_loss: 0.4118 - val_accuracy: 0.8510\n",
            "Epoch 87/100\n",
            "200/200 [==============================] - 0s 2ms/step - loss: 0.3609 - accuracy: 0.8688 - val_loss: 0.4116 - val_accuracy: 0.8510\n",
            "Epoch 88/100\n",
            "200/200 [==============================] - 0s 2ms/step - loss: 0.3720 - accuracy: 0.8627 - val_loss: 0.4113 - val_accuracy: 0.8500\n",
            "Epoch 89/100\n",
            "200/200 [==============================] - 0s 2ms/step - loss: 0.3395 - accuracy: 0.8735 - val_loss: 0.4111 - val_accuracy: 0.8510\n",
            "Epoch 90/100\n",
            "200/200 [==============================] - 0s 2ms/step - loss: 0.3331 - accuracy: 0.8717 - val_loss: 0.4109 - val_accuracy: 0.8510\n",
            "Epoch 91/100\n",
            "200/200 [==============================] - 0s 2ms/step - loss: 0.3811 - accuracy: 0.8485 - val_loss: 0.4106 - val_accuracy: 0.8510\n",
            "Epoch 92/100\n",
            "200/200 [==============================] - 0s 2ms/step - loss: 0.3451 - accuracy: 0.8711 - val_loss: 0.4104 - val_accuracy: 0.8510\n",
            "Epoch 93/100\n",
            "200/200 [==============================] - 0s 2ms/step - loss: 0.3690 - accuracy: 0.8626 - val_loss: 0.4102 - val_accuracy: 0.8510\n",
            "Epoch 94/100\n",
            "200/200 [==============================] - 0s 2ms/step - loss: 0.3455 - accuracy: 0.8680 - val_loss: 0.4100 - val_accuracy: 0.8520\n",
            "Epoch 95/100\n",
            "200/200 [==============================] - 0s 2ms/step - loss: 0.3534 - accuracy: 0.8592 - val_loss: 0.4098 - val_accuracy: 0.8520\n",
            "Epoch 96/100\n",
            "200/200 [==============================] - 0s 2ms/step - loss: 0.3518 - accuracy: 0.8678 - val_loss: 0.4095 - val_accuracy: 0.8520\n",
            "Epoch 97/100\n",
            "200/200 [==============================] - 0s 2ms/step - loss: 0.3659 - accuracy: 0.8508 - val_loss: 0.4093 - val_accuracy: 0.8530\n",
            "Epoch 98/100\n",
            "200/200 [==============================] - 0s 2ms/step - loss: 0.3545 - accuracy: 0.8644 - val_loss: 0.4091 - val_accuracy: 0.8530\n",
            "Epoch 99/100\n",
            "200/200 [==============================] - 0s 2ms/step - loss: 0.3656 - accuracy: 0.8621 - val_loss: 0.4089 - val_accuracy: 0.8530\n",
            "Epoch 100/100\n",
            "200/200 [==============================] - 0s 2ms/step - loss: 0.3714 - accuracy: 0.8612 - val_loss: 0.4087 - val_accuracy: 0.8530\n"
          ],
          "name": "stdout"
        }
      ]
    },
    {
      "cell_type": "code",
      "metadata": {
        "colab": {
          "base_uri": "https://localhost:8080/",
          "height": 513
        },
        "id": "QqCm2vaODUDy",
        "outputId": "b4cca85f-2c2b-4374-e529-c5fc17149ee6"
      },
      "source": [
        "# plot \n",
        "\n",
        "#history for loss\n",
        "plt.plot(history.history[\"loss\"],label=\"train set\")\n",
        "plt.plot(history.history[\"val_loss\"],label=\"validation set\")\n",
        "plt.legend()\n",
        "plt.show()\n",
        "\n",
        "# summarize history for accuracy\n",
        "plt.plot(history.history[\"accuracy\"],label=\"train set\")\n",
        "plt.plot(history.history[\"val_accuracy\"], label=\"validation set\")\n",
        "plt.legend()\n",
        "plt.show()\n"
      ],
      "execution_count": null,
      "outputs": [
        {
          "output_type": "display_data",
          "data": {
            "image/png": "[encoded data removed]",
            "text/plain": [
              "<Figure size 432x288 with 1 Axes>"
            ]
          },
          "metadata": {
            "tags": []
          }
        },
        {
          "output_type": "display_data",
          "data": {
            "image/png": "[encoded data removed]",
            "text/plain": [
              "<Figure size 432x288 with 1 Axes>"
            ]
          },
          "metadata": {
            "tags": []
          }
        }
      ]
    },
    {
      "cell_type": "markdown",
      "metadata": {
        "id": "D6gfZ6rO21ox"
      },
      "source": [
        "We see that changing the learning rate increased our validation accuracy to 0.85, however this is not enough augmentation. Thus, we decide to test another optimizer."
      ]
    },
    {
      "cell_type": "markdown",
      "metadata": {
        "id": "YtbU7AJr04He"
      },
      "source": [
        "### Optimizer"
      ]
    },
    {
      "cell_type": "markdown",
      "metadata": {
        "id": "kIbUC_Sd2-5r"
      },
      "source": [
        "We now use the Adam optimizer with a default learning rate of 0.001. The other parameters of the neural network remain the same."
      ]
    },
    {
      "cell_type": "code",
      "metadata": {
        "colab": {
          "base_uri": "https://localhost:8080/"
        },
        "id": "FaK-MCwm0qZS",
        "outputId": "47e2913b-a134-411f-b798-41851798c3f5"
      },
      "source": [
        "input_shape = ants_data[0].shape[0]\n",
        "output_shape = 2\n",
        "\n",
        "model = Sequential()\n",
        "model.add(Dense(100, input_dim=input_shape))\n",
        "model.add(Activation('relu'))\n",
        "model.add(Dense(output_shape))\n",
        "model.add(Activation('sigmoid'))\n",
        "\n",
        "opt = optimizers.Adam()\n",
        "model.compile(loss='binary_crossentropy', optimizer=opt, metrics=['accuracy'])\n",
        "\n",
        "epochs = 100\n",
        "\n",
        "history = model.fit(norm_train, train_labels,epochs=epochs, batch_size = 10,validation_data =(norm_test,test_labels))"
      ],
      "execution_count": null,
      "outputs": [
        {
          "output_type": "stream",
          "text": [
            "Epoch 1/100\n",
            "200/200 [==============================] - 1s 3ms/step - loss: 0.4474 - accuracy: 0.8120 - val_loss: 0.4515 - val_accuracy: 0.8100\n",
            "Epoch 2/100\n",
            "200/200 [==============================] - 0s 2ms/step - loss: 0.2859 - accuracy: 0.9042 - val_loss: 0.3920 - val_accuracy: 0.8450\n",
            "Epoch 3/100\n",
            "200/200 [==============================] - 0s 2ms/step - loss: 0.2123 - accuracy: 0.9322 - val_loss: 0.4296 - val_accuracy: 0.8500\n",
            "Epoch 4/100\n",
            "200/200 [==============================] - 0s 2ms/step - loss: 0.1538 - accuracy: 0.9500 - val_loss: 0.4330 - val_accuracy: 0.8450\n",
            "Epoch 5/100\n",
            "200/200 [==============================] - 0s 2ms/step - loss: 0.1029 - accuracy: 0.9706 - val_loss: 0.4387 - val_accuracy: 0.8440\n",
            "Epoch 6/100\n",
            "200/200 [==============================] - 0s 2ms/step - loss: 0.0679 - accuracy: 0.9828 - val_loss: 0.4667 - val_accuracy: 0.8520\n",
            "Epoch 7/100\n",
            "200/200 [==============================] - 0s 2ms/step - loss: 0.0437 - accuracy: 0.9918 - val_loss: 0.5190 - val_accuracy: 0.8490\n",
            "Epoch 8/100\n",
            "200/200 [==============================] - 0s 2ms/step - loss: 0.0236 - accuracy: 0.9960 - val_loss: 0.5701 - val_accuracy: 0.8540\n",
            "Epoch 9/100\n",
            "200/200 [==============================] - 0s 2ms/step - loss: 0.0153 - accuracy: 0.9991 - val_loss: 0.5906 - val_accuracy: 0.8460\n",
            "Epoch 10/100\n",
            "200/200 [==============================] - 0s 2ms/step - loss: 0.0091 - accuracy: 1.0000 - val_loss: 0.6343 - val_accuracy: 0.8550\n",
            "Epoch 11/100\n",
            "200/200 [==============================] - 0s 2ms/step - loss: 0.0047 - accuracy: 1.0000 - val_loss: 0.6415 - val_accuracy: 0.8470\n",
            "Epoch 12/100\n",
            "200/200 [==============================] - 0s 2ms/step - loss: 0.0034 - accuracy: 1.0000 - val_loss: 0.6582 - val_accuracy: 0.8490\n",
            "Epoch 13/100\n",
            "200/200 [==============================] - 0s 2ms/step - loss: 0.0024 - accuracy: 1.0000 - val_loss: 0.7030 - val_accuracy: 0.8490\n",
            "Epoch 14/100\n",
            "200/200 [==============================] - 0s 2ms/step - loss: 0.0020 - accuracy: 1.0000 - val_loss: 0.6977 - val_accuracy: 0.8470\n",
            "Epoch 15/100\n",
            "200/200 [==============================] - 0s 2ms/step - loss: 0.0018 - accuracy: 1.0000 - val_loss: 0.7216 - val_accuracy: 0.8520\n",
            "Epoch 16/100\n",
            "200/200 [==============================] - 1s 3ms/step - loss: 0.0014 - accuracy: 1.0000 - val_loss: 0.7357 - val_accuracy: 0.8480\n",
            "Epoch 17/100\n",
            "200/200 [==============================] - 0s 2ms/step - loss: 0.0011 - accuracy: 1.0000 - val_loss: 0.7495 - val_accuracy: 0.8490\n",
            "Epoch 18/100\n",
            "200/200 [==============================] - 0s 2ms/step - loss: 8.8962e-04 - accuracy: 1.0000 - val_loss: 0.7612 - val_accuracy: 0.8460\n",
            "Epoch 19/100\n",
            "200/200 [==============================] - 0s 2ms/step - loss: 7.6422e-04 - accuracy: 1.0000 - val_loss: 0.7792 - val_accuracy: 0.8480\n",
            "Epoch 20/100\n",
            "200/200 [==============================] - 0s 2ms/step - loss: 6.9052e-04 - accuracy: 1.0000 - val_loss: 0.7843 - val_accuracy: 0.8490\n",
            "Epoch 21/100\n",
            "200/200 [==============================] - 0s 2ms/step - loss: 6.5645e-04 - accuracy: 1.0000 - val_loss: 0.7999 - val_accuracy: 0.8480\n",
            "Epoch 22/100\n",
            "200/200 [==============================] - 0s 2ms/step - loss: 5.0848e-04 - accuracy: 1.0000 - val_loss: 0.8172 - val_accuracy: 0.8460\n",
            "Epoch 23/100\n",
            "200/200 [==============================] - 0s 2ms/step - loss: 4.2417e-04 - accuracy: 1.0000 - val_loss: 0.8233 - val_accuracy: 0.8470\n",
            "Epoch 24/100\n",
            "200/200 [==============================] - 1s 3ms/step - loss: 3.6789e-04 - accuracy: 1.0000 - val_loss: 0.8394 - val_accuracy: 0.8490\n",
            "Epoch 25/100\n",
            "200/200 [==============================] - 0s 2ms/step - loss: 3.0791e-04 - accuracy: 1.0000 - val_loss: 0.8458 - val_accuracy: 0.8470\n",
            "Epoch 26/100\n",
            "200/200 [==============================] - 0s 2ms/step - loss: 2.8356e-04 - accuracy: 1.0000 - val_loss: 0.8618 - val_accuracy: 0.8480\n",
            "Epoch 27/100\n",
            "200/200 [==============================] - 0s 2ms/step - loss: 2.3364e-04 - accuracy: 1.0000 - val_loss: 0.8646 - val_accuracy: 0.8470\n",
            "Epoch 28/100\n",
            "200/200 [==============================] - 0s 2ms/step - loss: 1.9925e-04 - accuracy: 1.0000 - val_loss: 0.8805 - val_accuracy: 0.8480\n",
            "Epoch 29/100\n",
            "200/200 [==============================] - 0s 2ms/step - loss: 1.8883e-04 - accuracy: 1.0000 - val_loss: 0.8883 - val_accuracy: 0.8490\n",
            "Epoch 30/100\n",
            "200/200 [==============================] - 1s 3ms/step - loss: 1.8161e-04 - accuracy: 1.0000 - val_loss: 0.9063 - val_accuracy: 0.8470\n",
            "Epoch 31/100\n",
            "200/200 [==============================] - 0s 2ms/step - loss: 1.4787e-04 - accuracy: 1.0000 - val_loss: 0.9152 - val_accuracy: 0.8480\n",
            "Epoch 32/100\n",
            "200/200 [==============================] - 0s 2ms/step - loss: 1.1934e-04 - accuracy: 1.0000 - val_loss: 0.9253 - val_accuracy: 0.8460\n",
            "Epoch 33/100\n",
            "200/200 [==============================] - 0s 2ms/step - loss: 1.1177e-04 - accuracy: 1.0000 - val_loss: 0.9364 - val_accuracy: 0.8470\n",
            "Epoch 34/100\n",
            "200/200 [==============================] - 0s 2ms/step - loss: 1.0124e-04 - accuracy: 1.0000 - val_loss: 0.9436 - val_accuracy: 0.8480\n",
            "Epoch 35/100\n",
            "200/200 [==============================] - 0s 2ms/step - loss: 8.8726e-05 - accuracy: 1.0000 - val_loss: 0.9501 - val_accuracy: 0.8490\n",
            "Epoch 36/100\n",
            "200/200 [==============================] - 0s 2ms/step - loss: 7.4063e-05 - accuracy: 1.0000 - val_loss: 0.9711 - val_accuracy: 0.8480\n",
            "Epoch 37/100\n",
            "200/200 [==============================] - 1s 3ms/step - loss: 6.6257e-05 - accuracy: 1.0000 - val_loss: 0.9800 - val_accuracy: 0.8450\n",
            "Epoch 38/100\n",
            "200/200 [==============================] - 0s 2ms/step - loss: 6.1304e-05 - accuracy: 1.0000 - val_loss: 0.9944 - val_accuracy: 0.8460\n",
            "Epoch 39/100\n",
            "200/200 [==============================] - 0s 2ms/step - loss: 5.0856e-05 - accuracy: 1.0000 - val_loss: 1.0019 - val_accuracy: 0.8490\n",
            "Epoch 40/100\n",
            "200/200 [==============================] - 0s 2ms/step - loss: 4.8176e-05 - accuracy: 1.0000 - val_loss: 1.0155 - val_accuracy: 0.8460\n",
            "Epoch 41/100\n",
            "200/200 [==============================] - 0s 2ms/step - loss: 4.1753e-05 - accuracy: 1.0000 - val_loss: 1.0137 - val_accuracy: 0.8480\n",
            "Epoch 42/100\n",
            "200/200 [==============================] - 0s 2ms/step - loss: 3.6642e-05 - accuracy: 1.0000 - val_loss: 1.0328 - val_accuracy: 0.8470\n",
            "Epoch 43/100\n",
            "200/200 [==============================] - 0s 2ms/step - loss: 3.1688e-05 - accuracy: 1.0000 - val_loss: 1.0378 - val_accuracy: 0.8480\n",
            "Epoch 44/100\n",
            "200/200 [==============================] - 0s 2ms/step - loss: 2.9649e-05 - accuracy: 1.0000 - val_loss: 1.0480 - val_accuracy: 0.8490\n",
            "Epoch 45/100\n",
            "200/200 [==============================] - 0s 2ms/step - loss: 2.7107e-05 - accuracy: 1.0000 - val_loss: 1.0662 - val_accuracy: 0.8490\n",
            "Epoch 46/100\n",
            "200/200 [==============================] - 0s 2ms/step - loss: 2.3812e-05 - accuracy: 1.0000 - val_loss: 1.0657 - val_accuracy: 0.8470\n",
            "Epoch 47/100\n",
            "200/200 [==============================] - 0s 2ms/step - loss: 2.0557e-05 - accuracy: 1.0000 - val_loss: 1.0838 - val_accuracy: 0.8500\n",
            "Epoch 48/100\n",
            "200/200 [==============================] - 0s 2ms/step - loss: 1.8364e-05 - accuracy: 1.0000 - val_loss: 1.0980 - val_accuracy: 0.8470\n",
            "Epoch 49/100\n",
            "200/200 [==============================] - 0s 2ms/step - loss: 1.4630e-05 - accuracy: 1.0000 - val_loss: 1.1025 - val_accuracy: 0.8490\n",
            "Epoch 50/100\n",
            "200/200 [==============================] - 0s 2ms/step - loss: 1.4677e-05 - accuracy: 1.0000 - val_loss: 1.1079 - val_accuracy: 0.8470\n",
            "Epoch 51/100\n",
            "200/200 [==============================] - 0s 2ms/step - loss: 1.2588e-05 - accuracy: 1.0000 - val_loss: 1.1193 - val_accuracy: 0.8500\n",
            "Epoch 52/100\n",
            "200/200 [==============================] - 0s 2ms/step - loss: 1.1255e-05 - accuracy: 1.0000 - val_loss: 1.1337 - val_accuracy: 0.8480\n",
            "Epoch 53/100\n",
            "200/200 [==============================] - 0s 2ms/step - loss: 1.0043e-05 - accuracy: 1.0000 - val_loss: 1.1429 - val_accuracy: 0.8480\n",
            "Epoch 54/100\n",
            "200/200 [==============================] - 0s 2ms/step - loss: 9.1412e-06 - accuracy: 1.0000 - val_loss: 1.1535 - val_accuracy: 0.8500\n",
            "Epoch 55/100\n",
            "200/200 [==============================] - 1s 3ms/step - loss: 8.3581e-06 - accuracy: 1.0000 - val_loss: 1.1594 - val_accuracy: 0.8500\n",
            "Epoch 56/100\n",
            "200/200 [==============================] - 0s 2ms/step - loss: 7.2387e-06 - accuracy: 1.0000 - val_loss: 1.1714 - val_accuracy: 0.8470\n",
            "Epoch 57/100\n",
            "200/200 [==============================] - 1s 3ms/step - loss: 6.9645e-06 - accuracy: 1.0000 - val_loss: 1.1851 - val_accuracy: 0.8490\n",
            "Epoch 58/100\n",
            "200/200 [==============================] - 1s 3ms/step - loss: 5.6318e-06 - accuracy: 1.0000 - val_loss: 1.1880 - val_accuracy: 0.8500\n",
            "Epoch 59/100\n",
            "200/200 [==============================] - 1s 3ms/step - loss: 4.7703e-06 - accuracy: 1.0000 - val_loss: 1.2051 - val_accuracy: 0.8480\n",
            "Epoch 60/100\n",
            "200/200 [==============================] - 0s 2ms/step - loss: 4.4275e-06 - accuracy: 1.0000 - val_loss: 1.2122 - val_accuracy: 0.8470\n",
            "Epoch 61/100\n",
            "200/200 [==============================] - 1s 3ms/step - loss: 4.3589e-06 - accuracy: 1.0000 - val_loss: 1.2219 - val_accuracy: 0.8480\n",
            "Epoch 62/100\n",
            "200/200 [==============================] - 1s 3ms/step - loss: 3.7040e-06 - accuracy: 1.0000 - val_loss: 1.2320 - val_accuracy: 0.8480\n",
            "Epoch 63/100\n",
            "200/200 [==============================] - 0s 2ms/step - loss: 3.1588e-06 - accuracy: 1.0000 - val_loss: 1.2277 - val_accuracy: 0.8450\n",
            "Epoch 64/100\n",
            "200/200 [==============================] - 1s 3ms/step - loss: 2.7693e-06 - accuracy: 1.0000 - val_loss: 1.2584 - val_accuracy: 0.8470\n",
            "Epoch 65/100\n",
            "200/200 [==============================] - 0s 2ms/step - loss: 2.5562e-06 - accuracy: 1.0000 - val_loss: 1.2550 - val_accuracy: 0.8480\n",
            "Epoch 66/100\n",
            "200/200 [==============================] - 0s 2ms/step - loss: 2.3337e-06 - accuracy: 1.0000 - val_loss: 1.2751 - val_accuracy: 0.8500\n",
            "Epoch 67/100\n",
            "200/200 [==============================] - 1s 3ms/step - loss: 2.0236e-06 - accuracy: 1.0000 - val_loss: 1.2791 - val_accuracy: 0.8460\n",
            "Epoch 68/100\n",
            "200/200 [==============================] - 0s 2ms/step - loss: 1.8431e-06 - accuracy: 1.0000 - val_loss: 1.2833 - val_accuracy: 0.8450\n",
            "Epoch 69/100\n",
            "200/200 [==============================] - 0s 2ms/step - loss: 1.6225e-06 - accuracy: 1.0000 - val_loss: 1.2950 - val_accuracy: 0.8460\n",
            "Epoch 70/100\n",
            "200/200 [==============================] - 1s 2ms/step - loss: 1.6236e-06 - accuracy: 1.0000 - val_loss: 1.2994 - val_accuracy: 0.8440\n",
            "Epoch 71/100\n",
            "200/200 [==============================] - 0s 2ms/step - loss: 1.4029e-06 - accuracy: 1.0000 - val_loss: 1.3189 - val_accuracy: 0.8460\n",
            "Epoch 72/100\n",
            "200/200 [==============================] - 0s 2ms/step - loss: 1.1927e-06 - accuracy: 1.0000 - val_loss: 1.3272 - val_accuracy: 0.8470\n",
            "Epoch 73/100\n",
            "200/200 [==============================] - 1s 3ms/step - loss: 1.0819e-06 - accuracy: 1.0000 - val_loss: 1.3426 - val_accuracy: 0.8470\n",
            "Epoch 74/100\n",
            "200/200 [==============================] - 0s 2ms/step - loss: 1.1259e-06 - accuracy: 1.0000 - val_loss: 1.3537 - val_accuracy: 0.8470\n",
            "Epoch 75/100\n",
            "200/200 [==============================] - 1s 3ms/step - loss: 8.0370e-07 - accuracy: 1.0000 - val_loss: 1.3513 - val_accuracy: 0.8470\n",
            "Epoch 76/100\n",
            "200/200 [==============================] - 0s 2ms/step - loss: 7.3685e-07 - accuracy: 1.0000 - val_loss: 1.3611 - val_accuracy: 0.8460\n",
            "Epoch 77/100\n",
            "200/200 [==============================] - 0s 2ms/step - loss: 7.1618e-07 - accuracy: 1.0000 - val_loss: 1.3774 - val_accuracy: 0.8470\n",
            "Epoch 78/100\n",
            "200/200 [==============================] - 0s 2ms/step - loss: 5.7942e-07 - accuracy: 1.0000 - val_loss: 1.3816 - val_accuracy: 0.8460\n",
            "Epoch 79/100\n",
            "200/200 [==============================] - 0s 2ms/step - loss: 5.5609e-07 - accuracy: 1.0000 - val_loss: 1.3968 - val_accuracy: 0.8460\n",
            "Epoch 80/100\n",
            "200/200 [==============================] - 0s 2ms/step - loss: 5.0203e-07 - accuracy: 1.0000 - val_loss: 1.4049 - val_accuracy: 0.8460\n",
            "Epoch 81/100\n",
            "200/200 [==============================] - 0s 2ms/step - loss: 4.8065e-07 - accuracy: 1.0000 - val_loss: 1.4125 - val_accuracy: 0.8460\n",
            "Epoch 82/100\n",
            "200/200 [==============================] - 0s 2ms/step - loss: 4.0120e-07 - accuracy: 1.0000 - val_loss: 1.4311 - val_accuracy: 0.8460\n",
            "Epoch 83/100\n",
            "200/200 [==============================] - 0s 2ms/step - loss: 3.6425e-07 - accuracy: 1.0000 - val_loss: 1.4315 - val_accuracy: 0.8490\n",
            "Epoch 84/100\n",
            "200/200 [==============================] - 0s 2ms/step - loss: 3.3052e-07 - accuracy: 1.0000 - val_loss: 1.4424 - val_accuracy: 0.8490\n",
            "Epoch 85/100\n",
            "200/200 [==============================] - 0s 2ms/step - loss: 2.8300e-07 - accuracy: 1.0000 - val_loss: 1.4433 - val_accuracy: 0.8460\n",
            "Epoch 86/100\n",
            "200/200 [==============================] - 1s 3ms/step - loss: 2.6498e-07 - accuracy: 1.0000 - val_loss: 1.4595 - val_accuracy: 0.8470\n",
            "Epoch 87/100\n",
            "200/200 [==============================] - 0s 2ms/step - loss: 2.4173e-07 - accuracy: 1.0000 - val_loss: 1.4756 - val_accuracy: 0.8500\n",
            "Epoch 88/100\n",
            "200/200 [==============================] - 1s 3ms/step - loss: 2.3545e-07 - accuracy: 1.0000 - val_loss: 1.4864 - val_accuracy: 0.8490\n",
            "Epoch 89/100\n",
            "200/200 [==============================] - 0s 2ms/step - loss: 1.7504e-07 - accuracy: 1.0000 - val_loss: 1.4955 - val_accuracy: 0.8480\n",
            "Epoch 90/100\n",
            "200/200 [==============================] - 0s 2ms/step - loss: 1.7065e-07 - accuracy: 1.0000 - val_loss: 1.5014 - val_accuracy: 0.8490\n",
            "Epoch 91/100\n",
            "200/200 [==============================] - 0s 2ms/step - loss: 1.6350e-07 - accuracy: 1.0000 - val_loss: 1.5103 - val_accuracy: 0.8490\n",
            "Epoch 92/100\n",
            "200/200 [==============================] - 0s 2ms/step - loss: 1.4304e-07 - accuracy: 1.0000 - val_loss: 1.5209 - val_accuracy: 0.8450\n",
            "Epoch 93/100\n",
            "200/200 [==============================] - 0s 2ms/step - loss: 1.2585e-07 - accuracy: 1.0000 - val_loss: 1.5236 - val_accuracy: 0.8490\n",
            "Epoch 94/100\n",
            "200/200 [==============================] - 1s 3ms/step - loss: 1.1809e-07 - accuracy: 1.0000 - val_loss: 1.5376 - val_accuracy: 0.8480\n",
            "Epoch 95/100\n",
            "200/200 [==============================] - 1s 3ms/step - loss: 1.0490e-07 - accuracy: 1.0000 - val_loss: 1.5461 - val_accuracy: 0.8490\n",
            "Epoch 96/100\n",
            "200/200 [==============================] - 1s 3ms/step - loss: 9.4036e-08 - accuracy: 1.0000 - val_loss: 1.5562 - val_accuracy: 0.8500\n",
            "Epoch 97/100\n",
            "200/200 [==============================] - 0s 2ms/step - loss: 8.5509e-08 - accuracy: 1.0000 - val_loss: 1.5588 - val_accuracy: 0.8470\n",
            "Epoch 98/100\n",
            "200/200 [==============================] - 1s 3ms/step - loss: 7.3335e-08 - accuracy: 1.0000 - val_loss: 1.5749 - val_accuracy: 0.8500\n",
            "Epoch 99/100\n",
            "200/200 [==============================] - 0s 2ms/step - loss: 6.7310e-08 - accuracy: 1.0000 - val_loss: 1.5802 - val_accuracy: 0.8480\n",
            "Epoch 100/100\n",
            "200/200 [==============================] - 1s 3ms/step - loss: 6.0159e-08 - accuracy: 1.0000 - val_loss: 1.5836 - val_accuracy: 0.8480\n"
          ],
          "name": "stdout"
        }
      ]
    },
    {
      "cell_type": "code",
      "metadata": {
        "colab": {
          "base_uri": "https://localhost:8080/",
          "height": 513
        },
        "id": "SOZ62jVo0_2X",
        "outputId": "96f44474-fba0-4fc1-d12b-08f191fe54c6"
      },
      "source": [
        "# plot \n",
        "\n",
        "#history for loss\n",
        "plt.plot(history.history[\"loss\"],label=\"train set\")\n",
        "plt.plot(history.history[\"val_loss\"],label=\"validation set\")\n",
        "plt.legend()\n",
        "plt.show()\n",
        "\n",
        "# summarize history for accuracy\n",
        "plt.plot(history.history[\"accuracy\"],label=\"train set\")\n",
        "plt.plot(history.history[\"val_accuracy\"], label=\"validation set\")\n",
        "plt.legend()\n",
        "plt.show()\n"
      ],
      "execution_count": null,
      "outputs": [
        {
          "output_type": "display_data",
          "data": {
            "image/png": "[encoded data removed]",
            "text/plain": [
              "<Figure size 432x288 with 1 Axes>"
            ]
          },
          "metadata": {
            "tags": []
          }
        },
        {
          "output_type": "display_data",
          "data": {
            "image/png": "[encoded data removed]",
            "text/plain": [
              "<Figure size 432x288 with 1 Axes>"
            ]
          },
          "metadata": {
            "tags": []
          }
        }
      ]
    },
    {
      "cell_type": "markdown",
      "metadata": {
        "id": "lpS7u0Df16oL"
      },
      "source": [
        "We see that the results are still around 0.84 for the validation accuracy, however now the test accuracy is of 1 and the loss is increasing. In order to avoid overfitting, we decrease the learning rate."
      ]
    },
    {
      "cell_type": "markdown",
      "metadata": {
        "id": "tnq7zpFx2SIX"
      },
      "source": [
        "### Adam's learning rate"
      ]
    },
    {
      "cell_type": "markdown",
      "metadata": {
        "id": "ebyN7D0Z2SIY"
      },
      "source": [
        "Thus, we change Adam's learning rate from 10e-3 to 10e-4."
      ]
    },
    {
      "cell_type": "code",
      "metadata": {
        "colab": {
          "base_uri": "https://localhost:8080/"
        },
        "id": "DhxEpOWU2SIZ",
        "outputId": "04d53a8c-a050-44e9-ca2f-8719dd7857e0"
      },
      "source": [
        "input_shape = ants_data[0].shape[0]\n",
        "output_shape = 2\n",
        "\n",
        "model = Sequential()\n",
        "model.add(Dense(100, input_dim=input_shape))\n",
        "model.add(Activation('relu'))\n",
        "model.add(Dense(output_shape))\n",
        "model.add(Activation('sigmoid'))\n",
        "\n",
        "opt = optimizers.Adam(learning_rate = 0.0001)\n",
        "model.compile(loss='binary_crossentropy', optimizer=opt, metrics=['accuracy'])\n",
        "\n",
        "epochs = 100\n",
        "\n",
        "history = model.fit(norm_train, train_labels,epochs=epochs, batch_size = 10,validation_data =(norm_test,test_labels))"
      ],
      "execution_count": null,
      "outputs": [
        {
          "output_type": "stream",
          "text": [
            "Epoch 1/100\n",
            "200/200 [==============================] - 1s 3ms/step - loss: 0.5850 - accuracy: 0.7235 - val_loss: 0.4410 - val_accuracy: 0.8300\n",
            "Epoch 2/100\n",
            "200/200 [==============================] - 0s 2ms/step - loss: 0.3874 - accuracy: 0.8597 - val_loss: 0.4232 - val_accuracy: 0.8380\n",
            "Epoch 3/100\n",
            "200/200 [==============================] - 0s 2ms/step - loss: 0.3402 - accuracy: 0.8724 - val_loss: 0.4164 - val_accuracy: 0.8450\n",
            "Epoch 4/100\n",
            "200/200 [==============================] - 0s 2ms/step - loss: 0.2953 - accuracy: 0.8944 - val_loss: 0.4152 - val_accuracy: 0.8400\n",
            "Epoch 5/100\n",
            "200/200 [==============================] - 0s 2ms/step - loss: 0.2865 - accuracy: 0.9007 - val_loss: 0.4110 - val_accuracy: 0.8440\n",
            "Epoch 6/100\n",
            "200/200 [==============================] - 0s 2ms/step - loss: 0.2681 - accuracy: 0.9063 - val_loss: 0.4134 - val_accuracy: 0.8420\n",
            "Epoch 7/100\n",
            "200/200 [==============================] - 0s 2ms/step - loss: 0.2546 - accuracy: 0.9076 - val_loss: 0.4109 - val_accuracy: 0.8430\n",
            "Epoch 8/100\n",
            "200/200 [==============================] - 0s 2ms/step - loss: 0.2436 - accuracy: 0.9145 - val_loss: 0.4092 - val_accuracy: 0.8420\n",
            "Epoch 9/100\n",
            "200/200 [==============================] - 0s 2ms/step - loss: 0.2152 - accuracy: 0.9335 - val_loss: 0.4195 - val_accuracy: 0.8380\n",
            "Epoch 10/100\n",
            "200/200 [==============================] - 0s 2ms/step - loss: 0.1986 - accuracy: 0.9346 - val_loss: 0.4144 - val_accuracy: 0.8410\n",
            "Epoch 11/100\n",
            "200/200 [==============================] - 0s 2ms/step - loss: 0.1767 - accuracy: 0.9554 - val_loss: 0.4114 - val_accuracy: 0.8430\n",
            "Epoch 12/100\n",
            "200/200 [==============================] - 0s 2ms/step - loss: 0.1721 - accuracy: 0.9570 - val_loss: 0.4156 - val_accuracy: 0.8430\n",
            "Epoch 13/100\n",
            "200/200 [==============================] - 0s 2ms/step - loss: 0.1545 - accuracy: 0.9605 - val_loss: 0.4101 - val_accuracy: 0.8450\n",
            "Epoch 14/100\n",
            "200/200 [==============================] - 0s 2ms/step - loss: 0.1393 - accuracy: 0.9676 - val_loss: 0.4120 - val_accuracy: 0.8450\n",
            "Epoch 15/100\n",
            "200/200 [==============================] - 1s 3ms/step - loss: 0.1366 - accuracy: 0.9691 - val_loss: 0.4124 - val_accuracy: 0.8520\n",
            "Epoch 16/100\n",
            "200/200 [==============================] - 0s 2ms/step - loss: 0.1249 - accuracy: 0.9702 - val_loss: 0.4166 - val_accuracy: 0.8460\n",
            "Epoch 17/100\n",
            "200/200 [==============================] - 0s 2ms/step - loss: 0.1227 - accuracy: 0.9666 - val_loss: 0.4176 - val_accuracy: 0.8480\n",
            "Epoch 18/100\n",
            "200/200 [==============================] - 0s 2ms/step - loss: 0.1058 - accuracy: 0.9762 - val_loss: 0.4218 - val_accuracy: 0.8500\n",
            "Epoch 19/100\n",
            "200/200 [==============================] - 0s 2ms/step - loss: 0.0983 - accuracy: 0.9766 - val_loss: 0.4352 - val_accuracy: 0.8470\n",
            "Epoch 20/100\n",
            "200/200 [==============================] - 0s 2ms/step - loss: 0.0962 - accuracy: 0.9793 - val_loss: 0.4242 - val_accuracy: 0.8490\n",
            "Epoch 21/100\n",
            "200/200 [==============================] - 0s 2ms/step - loss: 0.0783 - accuracy: 0.9877 - val_loss: 0.4284 - val_accuracy: 0.8490\n",
            "Epoch 22/100\n",
            "200/200 [==============================] - 0s 2ms/step - loss: 0.0775 - accuracy: 0.9875 - val_loss: 0.4294 - val_accuracy: 0.8500\n",
            "Epoch 23/100\n",
            "200/200 [==============================] - 0s 2ms/step - loss: 0.0710 - accuracy: 0.9868 - val_loss: 0.4417 - val_accuracy: 0.8490\n",
            "Epoch 24/100\n",
            "200/200 [==============================] - 0s 2ms/step - loss: 0.0638 - accuracy: 0.9886 - val_loss: 0.4401 - val_accuracy: 0.8550\n",
            "Epoch 25/100\n",
            "200/200 [==============================] - 0s 2ms/step - loss: 0.0574 - accuracy: 0.9947 - val_loss: 0.4450 - val_accuracy: 0.8480\n",
            "Epoch 26/100\n",
            "200/200 [==============================] - 0s 2ms/step - loss: 0.0520 - accuracy: 0.9946 - val_loss: 0.4502 - val_accuracy: 0.8440\n",
            "Epoch 27/100\n",
            "200/200 [==============================] - 0s 2ms/step - loss: 0.0489 - accuracy: 0.9947 - val_loss: 0.4556 - val_accuracy: 0.8490\n",
            "Epoch 28/100\n",
            "200/200 [==============================] - 0s 2ms/step - loss: 0.0413 - accuracy: 0.9979 - val_loss: 0.4585 - val_accuracy: 0.8500\n",
            "Epoch 29/100\n",
            "200/200 [==============================] - 0s 2ms/step - loss: 0.0368 - accuracy: 0.9993 - val_loss: 0.4703 - val_accuracy: 0.8530\n",
            "Epoch 30/100\n",
            "200/200 [==============================] - 0s 2ms/step - loss: 0.0364 - accuracy: 0.9980 - val_loss: 0.4727 - val_accuracy: 0.8460\n",
            "Epoch 31/100\n",
            "200/200 [==============================] - 0s 2ms/step - loss: 0.0305 - accuracy: 0.9992 - val_loss: 0.4766 - val_accuracy: 0.8530\n",
            "Epoch 32/100\n",
            "200/200 [==============================] - 0s 2ms/step - loss: 0.0308 - accuracy: 0.9994 - val_loss: 0.4910 - val_accuracy: 0.8450\n",
            "Epoch 33/100\n",
            "200/200 [==============================] - 0s 2ms/step - loss: 0.0266 - accuracy: 0.9994 - val_loss: 0.4894 - val_accuracy: 0.8470\n",
            "Epoch 34/100\n",
            "200/200 [==============================] - 0s 2ms/step - loss: 0.0242 - accuracy: 1.0000 - val_loss: 0.4994 - val_accuracy: 0.8520\n",
            "Epoch 35/100\n",
            "200/200 [==============================] - 0s 2ms/step - loss: 0.0214 - accuracy: 1.0000 - val_loss: 0.5052 - val_accuracy: 0.8520\n",
            "Epoch 36/100\n",
            "200/200 [==============================] - 0s 2ms/step - loss: 0.0204 - accuracy: 1.0000 - val_loss: 0.5081 - val_accuracy: 0.8440\n",
            "Epoch 37/100\n",
            "200/200 [==============================] - 0s 2ms/step - loss: 0.0182 - accuracy: 1.0000 - val_loss: 0.5165 - val_accuracy: 0.8450\n",
            "Epoch 38/100\n",
            "200/200 [==============================] - 0s 2ms/step - loss: 0.0156 - accuracy: 1.0000 - val_loss: 0.5192 - val_accuracy: 0.8460\n",
            "Epoch 39/100\n",
            "200/200 [==============================] - 0s 2ms/step - loss: 0.0160 - accuracy: 1.0000 - val_loss: 0.5309 - val_accuracy: 0.8480\n",
            "Epoch 40/100\n",
            "200/200 [==============================] - 0s 2ms/step - loss: 0.0148 - accuracy: 1.0000 - val_loss: 0.5360 - val_accuracy: 0.8510\n",
            "Epoch 41/100\n",
            "200/200 [==============================] - 0s 2ms/step - loss: 0.0116 - accuracy: 1.0000 - val_loss: 0.5410 - val_accuracy: 0.8440\n",
            "Epoch 42/100\n",
            "200/200 [==============================] - 0s 2ms/step - loss: 0.0112 - accuracy: 1.0000 - val_loss: 0.5506 - val_accuracy: 0.8510\n",
            "Epoch 43/100\n",
            "200/200 [==============================] - 0s 2ms/step - loss: 0.0105 - accuracy: 1.0000 - val_loss: 0.5571 - val_accuracy: 0.8490\n",
            "Epoch 44/100\n",
            "200/200 [==============================] - 0s 2ms/step - loss: 0.0090 - accuracy: 1.0000 - val_loss: 0.5716 - val_accuracy: 0.8480\n",
            "Epoch 45/100\n",
            "200/200 [==============================] - 0s 2ms/step - loss: 0.0079 - accuracy: 1.0000 - val_loss: 0.5681 - val_accuracy: 0.8450\n",
            "Epoch 46/100\n",
            "200/200 [==============================] - 0s 2ms/step - loss: 0.0077 - accuracy: 1.0000 - val_loss: 0.5824 - val_accuracy: 0.8470\n",
            "Epoch 47/100\n",
            "200/200 [==============================] - 0s 2ms/step - loss: 0.0066 - accuracy: 1.0000 - val_loss: 0.5908 - val_accuracy: 0.8480\n",
            "Epoch 48/100\n",
            "200/200 [==============================] - 0s 2ms/step - loss: 0.0061 - accuracy: 1.0000 - val_loss: 0.5945 - val_accuracy: 0.8490\n",
            "Epoch 49/100\n",
            "200/200 [==============================] - 0s 2ms/step - loss: 0.0055 - accuracy: 1.0000 - val_loss: 0.6043 - val_accuracy: 0.8440\n",
            "Epoch 50/100\n",
            "200/200 [==============================] - 0s 2ms/step - loss: 0.0050 - accuracy: 1.0000 - val_loss: 0.6081 - val_accuracy: 0.8460\n",
            "Epoch 51/100\n",
            "200/200 [==============================] - 0s 2ms/step - loss: 0.0044 - accuracy: 1.0000 - val_loss: 0.6158 - val_accuracy: 0.8430\n",
            "Epoch 52/100\n",
            "200/200 [==============================] - 0s 2ms/step - loss: 0.0044 - accuracy: 1.0000 - val_loss: 0.6251 - val_accuracy: 0.8460\n",
            "Epoch 53/100\n",
            "200/200 [==============================] - 0s 2ms/step - loss: 0.0038 - accuracy: 1.0000 - val_loss: 0.6309 - val_accuracy: 0.8450\n",
            "Epoch 54/100\n",
            "200/200 [==============================] - 0s 2ms/step - loss: 0.0035 - accuracy: 1.0000 - val_loss: 0.6445 - val_accuracy: 0.8450\n",
            "Epoch 55/100\n",
            "200/200 [==============================] - 0s 2ms/step - loss: 0.0031 - accuracy: 1.0000 - val_loss: 0.6511 - val_accuracy: 0.8440\n",
            "Epoch 56/100\n",
            "200/200 [==============================] - 0s 2ms/step - loss: 0.0029 - accuracy: 1.0000 - val_loss: 0.6615 - val_accuracy: 0.8460\n",
            "Epoch 57/100\n",
            "200/200 [==============================] - 1s 3ms/step - loss: 0.0024 - accuracy: 1.0000 - val_loss: 0.6614 - val_accuracy: 0.8470\n",
            "Epoch 58/100\n",
            "200/200 [==============================] - 0s 2ms/step - loss: 0.0022 - accuracy: 1.0000 - val_loss: 0.6679 - val_accuracy: 0.8440\n",
            "Epoch 59/100\n",
            "200/200 [==============================] - 1s 3ms/step - loss: 0.0021 - accuracy: 1.0000 - val_loss: 0.6821 - val_accuracy: 0.8420\n",
            "Epoch 60/100\n",
            "200/200 [==============================] - 0s 2ms/step - loss: 0.0019 - accuracy: 1.0000 - val_loss: 0.6894 - val_accuracy: 0.8440\n",
            "Epoch 61/100\n",
            "200/200 [==============================] - 0s 2ms/step - loss: 0.0017 - accuracy: 1.0000 - val_loss: 0.6976 - val_accuracy: 0.8450\n",
            "Epoch 62/100\n",
            "200/200 [==============================] - 0s 2ms/step - loss: 0.0017 - accuracy: 1.0000 - val_loss: 0.7137 - val_accuracy: 0.8450\n",
            "Epoch 63/100\n",
            "200/200 [==============================] - 0s 2ms/step - loss: 0.0015 - accuracy: 1.0000 - val_loss: 0.7145 - val_accuracy: 0.8440\n",
            "Epoch 64/100\n",
            "200/200 [==============================] - 0s 2ms/step - loss: 0.0014 - accuracy: 1.0000 - val_loss: 0.7228 - val_accuracy: 0.8450\n",
            "Epoch 65/100\n",
            "200/200 [==============================] - 0s 2ms/step - loss: 0.0012 - accuracy: 1.0000 - val_loss: 0.7315 - val_accuracy: 0.8450\n",
            "Epoch 66/100\n",
            "200/200 [==============================] - 0s 2ms/step - loss: 0.0011 - accuracy: 1.0000 - val_loss: 0.7298 - val_accuracy: 0.8450\n",
            "Epoch 67/100\n",
            "200/200 [==============================] - 1s 3ms/step - loss: 0.0011 - accuracy: 1.0000 - val_loss: 0.7519 - val_accuracy: 0.8460\n",
            "Epoch 68/100\n",
            "200/200 [==============================] - 0s 2ms/step - loss: 8.7548e-04 - accuracy: 1.0000 - val_loss: 0.7516 - val_accuracy: 0.8430\n",
            "Epoch 69/100\n",
            "200/200 [==============================] - 0s 2ms/step - loss: 7.8761e-04 - accuracy: 1.0000 - val_loss: 0.7607 - val_accuracy: 0.8480\n",
            "Epoch 70/100\n",
            "200/200 [==============================] - 0s 2ms/step - loss: 7.4071e-04 - accuracy: 1.0000 - val_loss: 0.7734 - val_accuracy: 0.8450\n",
            "Epoch 71/100\n",
            "200/200 [==============================] - 0s 2ms/step - loss: 6.5799e-04 - accuracy: 1.0000 - val_loss: 0.7763 - val_accuracy: 0.8450\n",
            "Epoch 72/100\n",
            "200/200 [==============================] - 1s 3ms/step - loss: 6.0558e-04 - accuracy: 1.0000 - val_loss: 0.7821 - val_accuracy: 0.8450\n",
            "Epoch 73/100\n",
            "200/200 [==============================] - 0s 2ms/step - loss: 5.4944e-04 - accuracy: 1.0000 - val_loss: 0.7953 - val_accuracy: 0.8470\n",
            "Epoch 74/100\n",
            "200/200 [==============================] - 0s 2ms/step - loss: 5.2699e-04 - accuracy: 1.0000 - val_loss: 0.8046 - val_accuracy: 0.8470\n",
            "Epoch 75/100\n",
            "200/200 [==============================] - 0s 2ms/step - loss: 4.4053e-04 - accuracy: 1.0000 - val_loss: 0.8041 - val_accuracy: 0.8450\n",
            "Epoch 76/100\n",
            "200/200 [==============================] - 0s 2ms/step - loss: 4.0424e-04 - accuracy: 1.0000 - val_loss: 0.8170 - val_accuracy: 0.8450\n",
            "Epoch 77/100\n",
            "200/200 [==============================] - 1s 2ms/step - loss: 3.5931e-04 - accuracy: 1.0000 - val_loss: 0.8220 - val_accuracy: 0.8470\n",
            "Epoch 78/100\n",
            "200/200 [==============================] - 0s 2ms/step - loss: 3.2383e-04 - accuracy: 1.0000 - val_loss: 0.8283 - val_accuracy: 0.8460\n",
            "Epoch 79/100\n",
            "200/200 [==============================] - 0s 2ms/step - loss: 3.1429e-04 - accuracy: 1.0000 - val_loss: 0.8422 - val_accuracy: 0.8460\n",
            "Epoch 80/100\n",
            "200/200 [==============================] - 0s 2ms/step - loss: 2.6184e-04 - accuracy: 1.0000 - val_loss: 0.8538 - val_accuracy: 0.8470\n",
            "Epoch 81/100\n",
            "200/200 [==============================] - 0s 2ms/step - loss: 2.6194e-04 - accuracy: 1.0000 - val_loss: 0.8565 - val_accuracy: 0.8440\n",
            "Epoch 82/100\n",
            "200/200 [==============================] - 0s 2ms/step - loss: 2.2457e-04 - accuracy: 1.0000 - val_loss: 0.8676 - val_accuracy: 0.8450\n",
            "Epoch 83/100\n",
            "200/200 [==============================] - 0s 2ms/step - loss: 2.1303e-04 - accuracy: 1.0000 - val_loss: 0.8743 - val_accuracy: 0.8460\n",
            "Epoch 84/100\n",
            "200/200 [==============================] - 0s 2ms/step - loss: 1.9191e-04 - accuracy: 1.0000 - val_loss: 0.8837 - val_accuracy: 0.8460\n",
            "Epoch 85/100\n",
            "200/200 [==============================] - 0s 2ms/step - loss: 1.7624e-04 - accuracy: 1.0000 - val_loss: 0.8911 - val_accuracy: 0.8480\n",
            "Epoch 86/100\n",
            "200/200 [==============================] - 0s 2ms/step - loss: 1.4867e-04 - accuracy: 1.0000 - val_loss: 0.8987 - val_accuracy: 0.8440\n",
            "Epoch 87/100\n",
            "200/200 [==============================] - 0s 2ms/step - loss: 1.3194e-04 - accuracy: 1.0000 - val_loss: 0.9032 - val_accuracy: 0.8460\n",
            "Epoch 88/100\n",
            "200/200 [==============================] - 1s 3ms/step - loss: 1.2563e-04 - accuracy: 1.0000 - val_loss: 0.9124 - val_accuracy: 0.8440\n",
            "Epoch 89/100\n",
            "200/200 [==============================] - 0s 2ms/step - loss: 1.1227e-04 - accuracy: 1.0000 - val_loss: 0.9236 - val_accuracy: 0.8460\n",
            "Epoch 90/100\n",
            "200/200 [==============================] - 0s 2ms/step - loss: 9.8179e-05 - accuracy: 1.0000 - val_loss: 0.9324 - val_accuracy: 0.8450\n",
            "Epoch 91/100\n",
            "200/200 [==============================] - 0s 2ms/step - loss: 8.9195e-05 - accuracy: 1.0000 - val_loss: 0.9367 - val_accuracy: 0.8460\n",
            "Epoch 92/100\n",
            "200/200 [==============================] - 0s 2ms/step - loss: 8.4928e-05 - accuracy: 1.0000 - val_loss: 0.9460 - val_accuracy: 0.8460\n",
            "Epoch 93/100\n",
            "200/200 [==============================] - 0s 2ms/step - loss: 7.7031e-05 - accuracy: 1.0000 - val_loss: 0.9604 - val_accuracy: 0.8460\n",
            "Epoch 94/100\n",
            "200/200 [==============================] - 0s 2ms/step - loss: 7.1212e-05 - accuracy: 1.0000 - val_loss: 0.9675 - val_accuracy: 0.8460\n",
            "Epoch 95/100\n",
            "200/200 [==============================] - 0s 2ms/step - loss: 6.6122e-05 - accuracy: 1.0000 - val_loss: 0.9806 - val_accuracy: 0.8450\n",
            "Epoch 96/100\n",
            "200/200 [==============================] - 1s 3ms/step - loss: 6.0015e-05 - accuracy: 1.0000 - val_loss: 0.9891 - val_accuracy: 0.8460\n",
            "Epoch 97/100\n",
            "200/200 [==============================] - 0s 2ms/step - loss: 4.8183e-05 - accuracy: 1.0000 - val_loss: 0.9932 - val_accuracy: 0.8460\n",
            "Epoch 98/100\n",
            "200/200 [==============================] - 0s 2ms/step - loss: 4.7139e-05 - accuracy: 1.0000 - val_loss: 1.0107 - val_accuracy: 0.8470\n",
            "Epoch 99/100\n",
            "200/200 [==============================] - 0s 2ms/step - loss: 4.4045e-05 - accuracy: 1.0000 - val_loss: 1.0118 - val_accuracy: 0.8450\n",
            "Epoch 100/100\n",
            "200/200 [==============================] - 0s 2ms/step - loss: 3.9965e-05 - accuracy: 1.0000 - val_loss: 1.0244 - val_accuracy: 0.8460\n"
          ],
          "name": "stdout"
        }
      ]
    },
    {
      "cell_type": "code",
      "metadata": {
        "colab": {
          "base_uri": "https://localhost:8080/",
          "height": 513
        },
        "id": "4TYHfDtd2SIb",
        "outputId": "850d1407-5e4f-428b-b9c9-9379b8d01510"
      },
      "source": [
        "# plot \n",
        "\n",
        "#history for loss\n",
        "plt.plot(history.history[\"loss\"],label=\"train set\")\n",
        "plt.plot(history.history[\"val_loss\"],label=\"validation set\")\n",
        "plt.legend()\n",
        "plt.show()\n",
        "\n",
        "# summarize history for accuracy\n",
        "plt.plot(history.history[\"accuracy\"],label=\"train set\")\n",
        "plt.plot(history.history[\"val_accuracy\"], label=\"validation set\")\n",
        "plt.legend()\n",
        "plt.show()\n"
      ],
      "execution_count": null,
      "outputs": [
        {
          "output_type": "display_data",
          "data": {
            "image/png": "[encoded data removed]",
            "text/plain": [
              "<Figure size 432x288 with 1 Axes>"
            ]
          },
          "metadata": {
            "tags": []
          }
        },
        {
          "output_type": "display_data",
          "data": {
            "image/png": "[encoded data removed]",
            "text/plain": [
              "<Figure size 432x288 with 1 Axes>"
            ]
          },
          "metadata": {
            "tags": []
          }
        }
      ]
    },
    {
      "cell_type": "markdown",
      "metadata": {
        "id": "XTg8tn3P2SIc"
      },
      "source": [
        "The results stay the same, and the test accuracy is still equal to 1 and the loss is still increasing. We still try to decrease the learning rate to 10e-5."
      ]
    },
    {
      "cell_type": "code",
      "metadata": {
        "colab": {
          "base_uri": "https://localhost:8080/"
        },
        "id": "Oy4Q8tZx2SId",
        "outputId": "2f54ce6a-3861-4bb9-ba8f-8867fe6ec42c"
      },
      "source": [
        "input_shape = ants_data[0].shape[0]\n",
        "output_shape = 2\n",
        "\n",
        "model = Sequential()\n",
        "model.add(Dense(100, input_dim=input_shape))\n",
        "model.add(Activation('relu'))\n",
        "model.add(Dense(output_shape))\n",
        "model.add(Activation('sigmoid'))\n",
        "\n",
        "opt = optimizers.Adam(learning_rate = 0.00001)\n",
        "model.compile(loss='binary_crossentropy', optimizer=opt, metrics=['accuracy'])\n",
        "\n",
        "epochs = 100\n",
        "\n",
        "history = model.fit(norm_train, train_labels,epochs=epochs, batch_size = 10,validation_data =(norm_test,test_labels))"
      ],
      "execution_count": null,
      "outputs": [
        {
          "output_type": "stream",
          "text": [
            "Epoch 1/100\n",
            "200/200 [==============================] - 1s 3ms/step - loss: 0.9455 - accuracy: 0.5043 - val_loss: 0.6971 - val_accuracy: 0.6200\n",
            "Epoch 2/100\n",
            "200/200 [==============================] - 0s 2ms/step - loss: 0.6479 - accuracy: 0.6708 - val_loss: 0.5788 - val_accuracy: 0.7360\n",
            "Epoch 3/100\n",
            "200/200 [==============================] - 0s 2ms/step - loss: 0.5569 - accuracy: 0.7631 - val_loss: 0.5193 - val_accuracy: 0.7780\n",
            "Epoch 4/100\n",
            "200/200 [==============================] - 0s 2ms/step - loss: 0.5175 - accuracy: 0.7779 - val_loss: 0.4842 - val_accuracy: 0.8060\n",
            "Epoch 5/100\n",
            "200/200 [==============================] - 0s 2ms/step - loss: 0.4773 - accuracy: 0.8023 - val_loss: 0.4625 - val_accuracy: 0.8180\n",
            "Epoch 6/100\n",
            "200/200 [==============================] - 0s 2ms/step - loss: 0.4480 - accuracy: 0.8166 - val_loss: 0.4490 - val_accuracy: 0.8260\n",
            "Epoch 7/100\n",
            "200/200 [==============================] - 0s 2ms/step - loss: 0.4180 - accuracy: 0.8352 - val_loss: 0.4393 - val_accuracy: 0.8300\n",
            "Epoch 8/100\n",
            "200/200 [==============================] - 0s 2ms/step - loss: 0.3937 - accuracy: 0.8415 - val_loss: 0.4323 - val_accuracy: 0.8310\n",
            "Epoch 9/100\n",
            "200/200 [==============================] - 0s 2ms/step - loss: 0.3994 - accuracy: 0.8445 - val_loss: 0.4269 - val_accuracy: 0.8340\n",
            "Epoch 10/100\n",
            "200/200 [==============================] - 0s 2ms/step - loss: 0.3852 - accuracy: 0.8389 - val_loss: 0.4225 - val_accuracy: 0.8420\n",
            "Epoch 11/100\n",
            "200/200 [==============================] - 0s 2ms/step - loss: 0.3778 - accuracy: 0.8421 - val_loss: 0.4190 - val_accuracy: 0.8450\n",
            "Epoch 12/100\n",
            "200/200 [==============================] - 0s 2ms/step - loss: 0.3739 - accuracy: 0.8542 - val_loss: 0.4160 - val_accuracy: 0.8450\n",
            "Epoch 13/100\n",
            "200/200 [==============================] - 0s 2ms/step - loss: 0.3606 - accuracy: 0.8624 - val_loss: 0.4135 - val_accuracy: 0.8440\n",
            "Epoch 14/100\n",
            "200/200 [==============================] - 0s 2ms/step - loss: 0.3962 - accuracy: 0.8411 - val_loss: 0.4113 - val_accuracy: 0.8450\n",
            "Epoch 15/100\n",
            "200/200 [==============================] - 0s 2ms/step - loss: 0.3669 - accuracy: 0.8583 - val_loss: 0.4094 - val_accuracy: 0.8460\n",
            "Epoch 16/100\n",
            "200/200 [==============================] - 0s 2ms/step - loss: 0.3737 - accuracy: 0.8529 - val_loss: 0.4078 - val_accuracy: 0.8460\n",
            "Epoch 17/100\n",
            "200/200 [==============================] - 0s 2ms/step - loss: 0.3511 - accuracy: 0.8660 - val_loss: 0.4064 - val_accuracy: 0.8430\n",
            "Epoch 18/100\n",
            "200/200 [==============================] - 0s 2ms/step - loss: 0.3364 - accuracy: 0.8672 - val_loss: 0.4051 - val_accuracy: 0.8500\n",
            "Epoch 19/100\n",
            "200/200 [==============================] - 0s 2ms/step - loss: 0.3576 - accuracy: 0.8667 - val_loss: 0.4039 - val_accuracy: 0.8480\n",
            "Epoch 20/100\n",
            "200/200 [==============================] - 0s 2ms/step - loss: 0.3430 - accuracy: 0.8678 - val_loss: 0.4030 - val_accuracy: 0.8450\n",
            "Epoch 21/100\n",
            "200/200 [==============================] - 0s 2ms/step - loss: 0.3338 - accuracy: 0.8725 - val_loss: 0.4020 - val_accuracy: 0.8440\n",
            "Epoch 22/100\n",
            "200/200 [==============================] - 0s 2ms/step - loss: 0.3428 - accuracy: 0.8692 - val_loss: 0.4009 - val_accuracy: 0.8450\n",
            "Epoch 23/100\n",
            "200/200 [==============================] - 0s 2ms/step - loss: 0.3304 - accuracy: 0.8814 - val_loss: 0.4003 - val_accuracy: 0.8450\n",
            "Epoch 24/100\n",
            "200/200 [==============================] - 0s 2ms/step - loss: 0.3255 - accuracy: 0.8795 - val_loss: 0.3995 - val_accuracy: 0.8430\n",
            "Epoch 25/100\n",
            "200/200 [==============================] - 0s 2ms/step - loss: 0.3366 - accuracy: 0.8764 - val_loss: 0.3990 - val_accuracy: 0.8450\n",
            "Epoch 26/100\n",
            "200/200 [==============================] - 0s 2ms/step - loss: 0.3168 - accuracy: 0.8871 - val_loss: 0.3988 - val_accuracy: 0.8410\n",
            "Epoch 27/100\n",
            "200/200 [==============================] - 0s 2ms/step - loss: 0.2994 - accuracy: 0.8926 - val_loss: 0.3980 - val_accuracy: 0.8400\n",
            "Epoch 28/100\n",
            "200/200 [==============================] - 0s 2ms/step - loss: 0.3175 - accuracy: 0.8825 - val_loss: 0.3973 - val_accuracy: 0.8440\n",
            "Epoch 29/100\n",
            "200/200 [==============================] - 0s 2ms/step - loss: 0.3226 - accuracy: 0.8747 - val_loss: 0.3970 - val_accuracy: 0.8440\n",
            "Epoch 30/100\n",
            "200/200 [==============================] - 0s 2ms/step - loss: 0.3065 - accuracy: 0.8834 - val_loss: 0.3964 - val_accuracy: 0.8450\n",
            "Epoch 31/100\n",
            "200/200 [==============================] - 0s 2ms/step - loss: 0.3174 - accuracy: 0.8853 - val_loss: 0.3961 - val_accuracy: 0.8430\n",
            "Epoch 32/100\n",
            "200/200 [==============================] - 1s 3ms/step - loss: 0.2988 - accuracy: 0.8931 - val_loss: 0.3959 - val_accuracy: 0.8400\n",
            "Epoch 33/100\n",
            "200/200 [==============================] - 0s 2ms/step - loss: 0.3112 - accuracy: 0.8798 - val_loss: 0.3956 - val_accuracy: 0.8450\n",
            "Epoch 34/100\n",
            "200/200 [==============================] - 0s 2ms/step - loss: 0.2928 - accuracy: 0.8970 - val_loss: 0.3953 - val_accuracy: 0.8470\n",
            "Epoch 35/100\n",
            "200/200 [==============================] - 0s 2ms/step - loss: 0.2787 - accuracy: 0.8994 - val_loss: 0.3949 - val_accuracy: 0.8460\n",
            "Epoch 36/100\n",
            "200/200 [==============================] - 0s 2ms/step - loss: 0.2975 - accuracy: 0.8888 - val_loss: 0.3950 - val_accuracy: 0.8420\n",
            "Epoch 37/100\n",
            "200/200 [==============================] - 0s 2ms/step - loss: 0.2781 - accuracy: 0.9010 - val_loss: 0.3946 - val_accuracy: 0.8440\n",
            "Epoch 38/100\n",
            "200/200 [==============================] - 0s 2ms/step - loss: 0.2947 - accuracy: 0.8925 - val_loss: 0.3943 - val_accuracy: 0.8450\n",
            "Epoch 39/100\n",
            "200/200 [==============================] - 0s 2ms/step - loss: 0.2803 - accuracy: 0.8972 - val_loss: 0.3941 - val_accuracy: 0.8450\n",
            "Epoch 40/100\n",
            "200/200 [==============================] - 0s 2ms/step - loss: 0.2856 - accuracy: 0.9015 - val_loss: 0.3938 - val_accuracy: 0.8450\n",
            "Epoch 41/100\n",
            "200/200 [==============================] - 0s 2ms/step - loss: 0.2883 - accuracy: 0.8943 - val_loss: 0.3938 - val_accuracy: 0.8460\n",
            "Epoch 42/100\n",
            "200/200 [==============================] - 0s 2ms/step - loss: 0.3076 - accuracy: 0.8810 - val_loss: 0.3936 - val_accuracy: 0.8460\n",
            "Epoch 43/100\n",
            "200/200 [==============================] - 0s 2ms/step - loss: 0.2826 - accuracy: 0.8994 - val_loss: 0.3935 - val_accuracy: 0.8450\n",
            "Epoch 44/100\n",
            "200/200 [==============================] - 0s 2ms/step - loss: 0.2815 - accuracy: 0.8954 - val_loss: 0.3936 - val_accuracy: 0.8460\n",
            "Epoch 45/100\n",
            "200/200 [==============================] - 1s 3ms/step - loss: 0.2815 - accuracy: 0.8974 - val_loss: 0.3935 - val_accuracy: 0.8470\n",
            "Epoch 46/100\n",
            "200/200 [==============================] - 0s 2ms/step - loss: 0.2717 - accuracy: 0.9023 - val_loss: 0.3933 - val_accuracy: 0.8480\n",
            "Epoch 47/100\n",
            "200/200 [==============================] - 0s 2ms/step - loss: 0.2794 - accuracy: 0.8989 - val_loss: 0.3932 - val_accuracy: 0.8480\n",
            "Epoch 48/100\n",
            "200/200 [==============================] - 0s 2ms/step - loss: 0.2622 - accuracy: 0.9016 - val_loss: 0.3929 - val_accuracy: 0.8470\n",
            "Epoch 49/100\n",
            "200/200 [==============================] - 0s 2ms/step - loss: 0.2465 - accuracy: 0.9151 - val_loss: 0.3931 - val_accuracy: 0.8490\n",
            "Epoch 50/100\n",
            "200/200 [==============================] - 0s 2ms/step - loss: 0.2491 - accuracy: 0.9071 - val_loss: 0.3928 - val_accuracy: 0.8480\n",
            "Epoch 51/100\n",
            "200/200 [==============================] - 1s 3ms/step - loss: 0.2698 - accuracy: 0.9020 - val_loss: 0.3928 - val_accuracy: 0.8490\n",
            "Epoch 52/100\n",
            "200/200 [==============================] - 0s 2ms/step - loss: 0.2562 - accuracy: 0.9103 - val_loss: 0.3927 - val_accuracy: 0.8490\n",
            "Epoch 53/100\n",
            "200/200 [==============================] - 1s 3ms/step - loss: 0.2548 - accuracy: 0.9128 - val_loss: 0.3924 - val_accuracy: 0.8490\n",
            "Epoch 54/100\n",
            "200/200 [==============================] - 1s 3ms/step - loss: 0.2468 - accuracy: 0.9130 - val_loss: 0.3924 - val_accuracy: 0.8510\n",
            "Epoch 55/100\n",
            "200/200 [==============================] - 0s 2ms/step - loss: 0.2606 - accuracy: 0.9065 - val_loss: 0.3923 - val_accuracy: 0.8500\n",
            "Epoch 56/100\n",
            "200/200 [==============================] - 0s 2ms/step - loss: 0.2532 - accuracy: 0.9139 - val_loss: 0.3921 - val_accuracy: 0.8510\n",
            "Epoch 57/100\n",
            "200/200 [==============================] - 0s 2ms/step - loss: 0.2483 - accuracy: 0.9139 - val_loss: 0.3925 - val_accuracy: 0.8460\n",
            "Epoch 58/100\n",
            "200/200 [==============================] - 0s 2ms/step - loss: 0.2402 - accuracy: 0.9220 - val_loss: 0.3922 - val_accuracy: 0.8480\n",
            "Epoch 59/100\n",
            "200/200 [==============================] - 0s 2ms/step - loss: 0.2510 - accuracy: 0.9171 - val_loss: 0.3921 - val_accuracy: 0.8480\n",
            "Epoch 60/100\n",
            "200/200 [==============================] - 0s 2ms/step - loss: 0.2511 - accuracy: 0.9111 - val_loss: 0.3925 - val_accuracy: 0.8450\n",
            "Epoch 61/100\n",
            "200/200 [==============================] - 0s 2ms/step - loss: 0.2433 - accuracy: 0.9165 - val_loss: 0.3921 - val_accuracy: 0.8480\n",
            "Epoch 62/100\n",
            "200/200 [==============================] - 0s 2ms/step - loss: 0.2363 - accuracy: 0.9128 - val_loss: 0.3921 - val_accuracy: 0.8470\n",
            "Epoch 63/100\n",
            "200/200 [==============================] - 0s 2ms/step - loss: 0.2221 - accuracy: 0.9247 - val_loss: 0.3922 - val_accuracy: 0.8460\n",
            "Epoch 64/100\n",
            "200/200 [==============================] - 0s 2ms/step - loss: 0.2174 - accuracy: 0.9250 - val_loss: 0.3921 - val_accuracy: 0.8450\n",
            "Epoch 65/100\n",
            "200/200 [==============================] - 0s 2ms/step - loss: 0.2249 - accuracy: 0.9303 - val_loss: 0.3921 - val_accuracy: 0.8450\n",
            "Epoch 66/100\n",
            "200/200 [==============================] - 0s 2ms/step - loss: 0.2184 - accuracy: 0.9195 - val_loss: 0.3920 - val_accuracy: 0.8500\n",
            "Epoch 67/100\n",
            "200/200 [==============================] - 0s 2ms/step - loss: 0.2270 - accuracy: 0.9264 - val_loss: 0.3919 - val_accuracy: 0.8450\n",
            "Epoch 68/100\n",
            "200/200 [==============================] - 0s 2ms/step - loss: 0.2344 - accuracy: 0.9152 - val_loss: 0.3919 - val_accuracy: 0.8460\n",
            "Epoch 69/100\n",
            "200/200 [==============================] - 0s 2ms/step - loss: 0.2317 - accuracy: 0.9208 - val_loss: 0.3921 - val_accuracy: 0.8470\n",
            "Epoch 70/100\n",
            "200/200 [==============================] - 0s 2ms/step - loss: 0.2251 - accuracy: 0.9223 - val_loss: 0.3918 - val_accuracy: 0.8460\n",
            "Epoch 71/100\n",
            "200/200 [==============================] - 0s 2ms/step - loss: 0.2350 - accuracy: 0.9137 - val_loss: 0.3920 - val_accuracy: 0.8470\n",
            "Epoch 72/100\n",
            "200/200 [==============================] - 0s 2ms/step - loss: 0.2231 - accuracy: 0.9198 - val_loss: 0.3918 - val_accuracy: 0.8470\n",
            "Epoch 73/100\n",
            "200/200 [==============================] - 0s 2ms/step - loss: 0.2048 - accuracy: 0.9276 - val_loss: 0.3918 - val_accuracy: 0.8470\n",
            "Epoch 74/100\n",
            "200/200 [==============================] - 0s 2ms/step - loss: 0.2200 - accuracy: 0.9250 - val_loss: 0.3917 - val_accuracy: 0.8470\n",
            "Epoch 75/100\n",
            "200/200 [==============================] - 0s 2ms/step - loss: 0.2380 - accuracy: 0.9186 - val_loss: 0.3917 - val_accuracy: 0.8470\n",
            "Epoch 76/100\n",
            "200/200 [==============================] - 0s 2ms/step - loss: 0.2107 - accuracy: 0.9240 - val_loss: 0.3916 - val_accuracy: 0.8470\n",
            "Epoch 77/100\n",
            "200/200 [==============================] - 0s 2ms/step - loss: 0.2195 - accuracy: 0.9225 - val_loss: 0.3917 - val_accuracy: 0.8470\n",
            "Epoch 78/100\n",
            "200/200 [==============================] - 0s 2ms/step - loss: 0.2184 - accuracy: 0.9251 - val_loss: 0.3920 - val_accuracy: 0.8450\n",
            "Epoch 79/100\n",
            "200/200 [==============================] - 0s 2ms/step - loss: 0.2090 - accuracy: 0.9280 - val_loss: 0.3915 - val_accuracy: 0.8510\n",
            "Epoch 80/100\n",
            "200/200 [==============================] - 0s 2ms/step - loss: 0.2188 - accuracy: 0.9271 - val_loss: 0.3915 - val_accuracy: 0.8480\n",
            "Epoch 81/100\n",
            "200/200 [==============================] - 0s 2ms/step - loss: 0.2117 - accuracy: 0.9296 - val_loss: 0.3915 - val_accuracy: 0.8490\n",
            "Epoch 82/100\n",
            "200/200 [==============================] - 0s 2ms/step - loss: 0.2114 - accuracy: 0.9369 - val_loss: 0.3917 - val_accuracy: 0.8510\n",
            "Epoch 83/100\n",
            "200/200 [==============================] - 0s 2ms/step - loss: 0.2127 - accuracy: 0.9284 - val_loss: 0.3915 - val_accuracy: 0.8480\n",
            "Epoch 84/100\n",
            "200/200 [==============================] - 0s 2ms/step - loss: 0.2093 - accuracy: 0.9314 - val_loss: 0.3921 - val_accuracy: 0.8460\n",
            "Epoch 85/100\n",
            "200/200 [==============================] - 0s 2ms/step - loss: 0.1844 - accuracy: 0.9459 - val_loss: 0.3916 - val_accuracy: 0.8500\n",
            "Epoch 86/100\n",
            "200/200 [==============================] - 0s 2ms/step - loss: 0.1984 - accuracy: 0.9366 - val_loss: 0.3914 - val_accuracy: 0.8510\n",
            "Epoch 87/100\n",
            "200/200 [==============================] - 0s 2ms/step - loss: 0.2028 - accuracy: 0.9325 - val_loss: 0.3916 - val_accuracy: 0.8470\n",
            "Epoch 88/100\n",
            "200/200 [==============================] - 0s 2ms/step - loss: 0.1875 - accuracy: 0.9439 - val_loss: 0.3915 - val_accuracy: 0.8470\n",
            "Epoch 89/100\n",
            "200/200 [==============================] - 0s 2ms/step - loss: 0.1972 - accuracy: 0.9413 - val_loss: 0.3915 - val_accuracy: 0.8470\n",
            "Epoch 90/100\n",
            "200/200 [==============================] - 0s 2ms/step - loss: 0.1816 - accuracy: 0.9428 - val_loss: 0.3914 - val_accuracy: 0.8470\n",
            "Epoch 91/100\n",
            "200/200 [==============================] - 0s 2ms/step - loss: 0.1820 - accuracy: 0.9446 - val_loss: 0.3912 - val_accuracy: 0.8500\n",
            "Epoch 92/100\n",
            "200/200 [==============================] - 0s 2ms/step - loss: 0.1946 - accuracy: 0.9413 - val_loss: 0.3916 - val_accuracy: 0.8470\n",
            "Epoch 93/100\n",
            "200/200 [==============================] - 0s 2ms/step - loss: 0.1829 - accuracy: 0.9504 - val_loss: 0.3915 - val_accuracy: 0.8510\n",
            "Epoch 94/100\n",
            "200/200 [==============================] - 0s 2ms/step - loss: 0.1801 - accuracy: 0.9479 - val_loss: 0.3915 - val_accuracy: 0.8440\n",
            "Epoch 95/100\n",
            "200/200 [==============================] - 0s 2ms/step - loss: 0.1886 - accuracy: 0.9379 - val_loss: 0.3914 - val_accuracy: 0.8520\n",
            "Epoch 96/100\n",
            "200/200 [==============================] - 0s 2ms/step - loss: 0.1935 - accuracy: 0.9456 - val_loss: 0.3915 - val_accuracy: 0.8480\n",
            "Epoch 97/100\n",
            "200/200 [==============================] - 0s 2ms/step - loss: 0.1905 - accuracy: 0.9471 - val_loss: 0.3916 - val_accuracy: 0.8460\n",
            "Epoch 98/100\n",
            "200/200 [==============================] - 0s 2ms/step - loss: 0.1826 - accuracy: 0.9488 - val_loss: 0.3917 - val_accuracy: 0.8490\n",
            "Epoch 99/100\n",
            "200/200 [==============================] - 0s 2ms/step - loss: 0.1833 - accuracy: 0.9464 - val_loss: 0.3917 - val_accuracy: 0.8440\n",
            "Epoch 100/100\n",
            "200/200 [==============================] - 0s 2ms/step - loss: 0.1845 - accuracy: 0.9431 - val_loss: 0.3916 - val_accuracy: 0.8510\n"
          ],
          "name": "stdout"
        }
      ]
    },
    {
      "cell_type": "code",
      "metadata": {
        "colab": {
          "base_uri": "https://localhost:8080/",
          "height": 513
        },
        "id": "dqOAGmcy3EBX",
        "outputId": "910608f1-617a-4f1c-a5bd-85f3ebc9b27e"
      },
      "source": [
        "# plot \n",
        "\n",
        "#history for loss\n",
        "plt.plot(history.history[\"loss\"],label=\"train set\")\n",
        "plt.plot(history.history[\"val_loss\"],label=\"validation set\")\n",
        "plt.legend()\n",
        "plt.show()\n",
        "\n",
        "# summarize history for accuracy\n",
        "plt.plot(history.history[\"accuracy\"],label=\"train set\")\n",
        "plt.plot(history.history[\"val_accuracy\"], label=\"validation set\")\n",
        "plt.legend()\n",
        "plt.show()\n"
      ],
      "execution_count": null,
      "outputs": [
        {
          "output_type": "display_data",
          "data": {
            "image/png": "[encoded data removed]",
            "text/plain": [
              "<Figure size 432x288 with 1 Axes>"
            ]
          },
          "metadata": {
            "tags": []
          }
        },
        {
          "output_type": "display_data",
          "data": {
            "image/png": "[encoded data removed]",
            "text/plain": [
              "<Figure size 432x288 with 1 Axes>"
            ]
          },
          "metadata": {
            "tags": []
          }
        }
      ]
    },
    {
      "cell_type": "markdown",
      "metadata": {
        "id": "0vsapgee42PS"
      },
      "source": [
        "We don't have the problem of overfitting anymore, but the accuracy has not changed. Thus, we try to change the neural network structure."
      ]
    },
    {
      "cell_type": "markdown",
      "metadata": {
        "id": "q9kZu6DL5MGj"
      },
      "source": [
        "### Structure of the neural network : number of layers, number of neurons"
      ]
    },
    {
      "cell_type": "markdown",
      "metadata": {
        "id": "LoZCTiy05T6h"
      },
      "source": [
        "In this part, we will try to vary the number of layers and the number of neurons in order to see if it can improve our mdoel.\n",
        "\n",
        "We first try to modify the number of neurons in the first hidden layer, from 100 to 300. The activation functions remain the same. The learning rate is chosen at 10e-4 with the Adam optimizer."
      ]
    },
    {
      "cell_type": "code",
      "metadata": {
        "colab": {
          "base_uri": "https://localhost:8080/"
        },
        "id": "xrXmHirC5Pr8",
        "outputId": "190b2663-92b9-4fd9-90f0-cb01f2beecad"
      },
      "source": [
        "input_shape = ants_data[0].shape[0]\n",
        "output_shape = 2\n",
        "\n",
        "model = Sequential()\n",
        "model.add(Dense(300, input_dim=input_shape))\n",
        "model.add(Activation('relu'))\n",
        "model.add(Dense(output_shape))\n",
        "model.add(Activation('sigmoid'))\n",
        "\n",
        "opt = optimizers.Adam(learning_rate = 0.0001)\n",
        "model.compile(loss='binary_crossentropy', optimizer=opt, metrics=['accuracy'])\n",
        "\n",
        "epochs = 100\n",
        "\n",
        "history = model.fit(norm_train, train_labels,epochs=epochs, batch_size = 10,validation_data =(norm_test,test_labels))"
      ],
      "execution_count": null,
      "outputs": [
        {
          "output_type": "stream",
          "text": [
            "Epoch 1/100\n",
            "200/200 [==============================] - 1s 4ms/step - loss: 0.5123 - accuracy: 0.7681 - val_loss: 0.4130 - val_accuracy: 0.8370\n",
            "Epoch 2/100\n",
            "200/200 [==============================] - 1s 3ms/step - loss: 0.3424 - accuracy: 0.8698 - val_loss: 0.4035 - val_accuracy: 0.8420\n",
            "Epoch 3/100\n",
            "200/200 [==============================] - 1s 4ms/step - loss: 0.3045 - accuracy: 0.8873 - val_loss: 0.3989 - val_accuracy: 0.8450\n",
            "Epoch 4/100\n",
            "200/200 [==============================] - 1s 4ms/step - loss: 0.2736 - accuracy: 0.8992 - val_loss: 0.3997 - val_accuracy: 0.8430\n",
            "Epoch 5/100\n",
            "200/200 [==============================] - 1s 4ms/step - loss: 0.2368 - accuracy: 0.9209 - val_loss: 0.3897 - val_accuracy: 0.8450\n",
            "Epoch 6/100\n",
            "200/200 [==============================] - 1s 3ms/step - loss: 0.2162 - accuracy: 0.9337 - val_loss: 0.3918 - val_accuracy: 0.8540\n",
            "Epoch 7/100\n",
            "200/200 [==============================] - 1s 4ms/step - loss: 0.1880 - accuracy: 0.9421 - val_loss: 0.3950 - val_accuracy: 0.8500\n",
            "Epoch 8/100\n",
            "200/200 [==============================] - 1s 4ms/step - loss: 0.1667 - accuracy: 0.9523 - val_loss: 0.3933 - val_accuracy: 0.8550\n",
            "Epoch 9/100\n",
            "200/200 [==============================] - 1s 3ms/step - loss: 0.1482 - accuracy: 0.9630 - val_loss: 0.3904 - val_accuracy: 0.8560\n",
            "Epoch 10/100\n",
            "200/200 [==============================] - 1s 3ms/step - loss: 0.1258 - accuracy: 0.9703 - val_loss: 0.3913 - val_accuracy: 0.8560\n",
            "Epoch 11/100\n",
            "200/200 [==============================] - 1s 3ms/step - loss: 0.1172 - accuracy: 0.9746 - val_loss: 0.3967 - val_accuracy: 0.8550\n",
            "Epoch 12/100\n",
            "200/200 [==============================] - 1s 3ms/step - loss: 0.0989 - accuracy: 0.9817 - val_loss: 0.3960 - val_accuracy: 0.8530\n",
            "Epoch 13/100\n",
            "200/200 [==============================] - 1s 3ms/step - loss: 0.0917 - accuracy: 0.9846 - val_loss: 0.4052 - val_accuracy: 0.8580\n",
            "Epoch 14/100\n",
            "200/200 [==============================] - 1s 4ms/step - loss: 0.0756 - accuracy: 0.9895 - val_loss: 0.4088 - val_accuracy: 0.8580\n",
            "Epoch 15/100\n",
            "200/200 [==============================] - 1s 3ms/step - loss: 0.0763 - accuracy: 0.9895 - val_loss: 0.4187 - val_accuracy: 0.8640\n",
            "Epoch 16/100\n",
            "200/200 [==============================] - 1s 4ms/step - loss: 0.0601 - accuracy: 0.9912 - val_loss: 0.4203 - val_accuracy: 0.8610\n",
            "Epoch 17/100\n",
            "200/200 [==============================] - 1s 3ms/step - loss: 0.0528 - accuracy: 0.9917 - val_loss: 0.4270 - val_accuracy: 0.8520\n",
            "Epoch 18/100\n",
            "200/200 [==============================] - 1s 3ms/step - loss: 0.0481 - accuracy: 0.9964 - val_loss: 0.4372 - val_accuracy: 0.8620\n",
            "Epoch 19/100\n",
            "200/200 [==============================] - 1s 3ms/step - loss: 0.0386 - accuracy: 0.9968 - val_loss: 0.4380 - val_accuracy: 0.8540\n",
            "Epoch 20/100\n",
            "200/200 [==============================] - 1s 4ms/step - loss: 0.0332 - accuracy: 0.9989 - val_loss: 0.4394 - val_accuracy: 0.8530\n",
            "Epoch 21/100\n",
            "200/200 [==============================] - 1s 4ms/step - loss: 0.0300 - accuracy: 0.9993 - val_loss: 0.4593 - val_accuracy: 0.8580\n",
            "Epoch 22/100\n",
            "200/200 [==============================] - 1s 4ms/step - loss: 0.0255 - accuracy: 1.0000 - val_loss: 0.4646 - val_accuracy: 0.8550\n",
            "Epoch 23/100\n",
            "200/200 [==============================] - 1s 3ms/step - loss: 0.0243 - accuracy: 0.9993 - val_loss: 0.4713 - val_accuracy: 0.8600\n",
            "Epoch 24/100\n",
            "200/200 [==============================] - 1s 4ms/step - loss: 0.0214 - accuracy: 1.0000 - val_loss: 0.4862 - val_accuracy: 0.8530\n",
            "Epoch 25/100\n",
            "200/200 [==============================] - 1s 4ms/step - loss: 0.0183 - accuracy: 1.0000 - val_loss: 0.4975 - val_accuracy: 0.8590\n",
            "Epoch 26/100\n",
            "200/200 [==============================] - 1s 4ms/step - loss: 0.0161 - accuracy: 1.0000 - val_loss: 0.4955 - val_accuracy: 0.8570\n",
            "Epoch 27/100\n",
            "200/200 [==============================] - 1s 4ms/step - loss: 0.0152 - accuracy: 1.0000 - val_loss: 0.5126 - val_accuracy: 0.8580\n",
            "Epoch 28/100\n",
            "200/200 [==============================] - 1s 3ms/step - loss: 0.0130 - accuracy: 1.0000 - val_loss: 0.5085 - val_accuracy: 0.8550\n",
            "Epoch 29/100\n",
            "200/200 [==============================] - 1s 3ms/step - loss: 0.0099 - accuracy: 1.0000 - val_loss: 0.5267 - val_accuracy: 0.8540\n",
            "Epoch 30/100\n",
            "200/200 [==============================] - 1s 3ms/step - loss: 0.0093 - accuracy: 1.0000 - val_loss: 0.5365 - val_accuracy: 0.8530\n",
            "Epoch 31/100\n",
            "200/200 [==============================] - 1s 4ms/step - loss: 0.0079 - accuracy: 1.0000 - val_loss: 0.5413 - val_accuracy: 0.8560\n",
            "Epoch 32/100\n",
            "200/200 [==============================] - 1s 4ms/step - loss: 0.0075 - accuracy: 1.0000 - val_loss: 0.5504 - val_accuracy: 0.8530\n",
            "Epoch 33/100\n",
            "200/200 [==============================] - 1s 4ms/step - loss: 0.0060 - accuracy: 1.0000 - val_loss: 0.5564 - val_accuracy: 0.8530\n",
            "Epoch 34/100\n",
            "200/200 [==============================] - 1s 4ms/step - loss: 0.0056 - accuracy: 1.0000 - val_loss: 0.5668 - val_accuracy: 0.8580\n",
            "Epoch 35/100\n",
            "200/200 [==============================] - 1s 4ms/step - loss: 0.0051 - accuracy: 1.0000 - val_loss: 0.5637 - val_accuracy: 0.8540\n",
            "Epoch 36/100\n",
            "200/200 [==============================] - 1s 4ms/step - loss: 0.0044 - accuracy: 1.0000 - val_loss: 0.5809 - val_accuracy: 0.8560\n",
            "Epoch 37/100\n",
            "200/200 [==============================] - 1s 4ms/step - loss: 0.0040 - accuracy: 1.0000 - val_loss: 0.5938 - val_accuracy: 0.8560\n",
            "Epoch 38/100\n",
            "200/200 [==============================] - 1s 4ms/step - loss: 0.0034 - accuracy: 1.0000 - val_loss: 0.5988 - val_accuracy: 0.8540\n",
            "Epoch 39/100\n",
            "200/200 [==============================] - 1s 4ms/step - loss: 0.0032 - accuracy: 1.0000 - val_loss: 0.6000 - val_accuracy: 0.8500\n",
            "Epoch 40/100\n",
            "200/200 [==============================] - 1s 3ms/step - loss: 0.0030 - accuracy: 1.0000 - val_loss: 0.6219 - val_accuracy: 0.8540\n",
            "Epoch 41/100\n",
            "200/200 [==============================] - 1s 4ms/step - loss: 0.0025 - accuracy: 1.0000 - val_loss: 0.6243 - val_accuracy: 0.8570\n",
            "Epoch 42/100\n",
            "200/200 [==============================] - 1s 4ms/step - loss: 0.0022 - accuracy: 1.0000 - val_loss: 0.6273 - val_accuracy: 0.8530\n",
            "Epoch 43/100\n",
            "200/200 [==============================] - 1s 3ms/step - loss: 0.0019 - accuracy: 1.0000 - val_loss: 0.6421 - val_accuracy: 0.8550\n",
            "Epoch 44/100\n",
            "200/200 [==============================] - 1s 3ms/step - loss: 0.0018 - accuracy: 1.0000 - val_loss: 0.6482 - val_accuracy: 0.8540\n",
            "Epoch 45/100\n",
            "200/200 [==============================] - 1s 4ms/step - loss: 0.0015 - accuracy: 1.0000 - val_loss: 0.6549 - val_accuracy: 0.8550\n",
            "Epoch 46/100\n",
            "200/200 [==============================] - 1s 4ms/step - loss: 0.0014 - accuracy: 1.0000 - val_loss: 0.6679 - val_accuracy: 0.8510\n",
            "Epoch 47/100\n",
            "200/200 [==============================] - 1s 4ms/step - loss: 0.0013 - accuracy: 1.0000 - val_loss: 0.6850 - val_accuracy: 0.8560\n",
            "Epoch 48/100\n",
            "200/200 [==============================] - 1s 3ms/step - loss: 0.0011 - accuracy: 1.0000 - val_loss: 0.6823 - val_accuracy: 0.8550\n",
            "Epoch 49/100\n",
            "200/200 [==============================] - 1s 3ms/step - loss: 0.0010 - accuracy: 1.0000 - val_loss: 0.6946 - val_accuracy: 0.8510\n",
            "Epoch 50/100\n",
            "200/200 [==============================] - 1s 3ms/step - loss: 9.2070e-04 - accuracy: 1.0000 - val_loss: 0.7043 - val_accuracy: 0.8550\n",
            "Epoch 51/100\n",
            "200/200 [==============================] - 1s 4ms/step - loss: 7.6105e-04 - accuracy: 1.0000 - val_loss: 0.7107 - val_accuracy: 0.8530\n",
            "Epoch 52/100\n",
            "200/200 [==============================] - 1s 4ms/step - loss: 7.3670e-04 - accuracy: 1.0000 - val_loss: 0.7200 - val_accuracy: 0.8570\n",
            "Epoch 53/100\n",
            "200/200 [==============================] - 1s 3ms/step - loss: 6.0583e-04 - accuracy: 1.0000 - val_loss: 0.7314 - val_accuracy: 0.8550\n",
            "Epoch 54/100\n",
            "200/200 [==============================] - 1s 3ms/step - loss: 5.6594e-04 - accuracy: 1.0000 - val_loss: 0.7329 - val_accuracy: 0.8530\n",
            "Epoch 55/100\n",
            "200/200 [==============================] - 1s 4ms/step - loss: 5.2411e-04 - accuracy: 1.0000 - val_loss: 0.7461 - val_accuracy: 0.8510\n",
            "Epoch 56/100\n",
            "200/200 [==============================] - 1s 4ms/step - loss: 4.2887e-04 - accuracy: 1.0000 - val_loss: 0.7525 - val_accuracy: 0.8530\n",
            "Epoch 57/100\n",
            "200/200 [==============================] - 1s 4ms/step - loss: 4.2135e-04 - accuracy: 1.0000 - val_loss: 0.7534 - val_accuracy: 0.8530\n",
            "Epoch 58/100\n",
            "200/200 [==============================] - 1s 4ms/step - loss: 3.7181e-04 - accuracy: 1.0000 - val_loss: 0.7733 - val_accuracy: 0.8540\n",
            "Epoch 59/100\n",
            "200/200 [==============================] - 1s 4ms/step - loss: 3.5327e-04 - accuracy: 1.0000 - val_loss: 0.7824 - val_accuracy: 0.8520\n",
            "Epoch 60/100\n",
            "200/200 [==============================] - 1s 4ms/step - loss: 2.7715e-04 - accuracy: 1.0000 - val_loss: 0.7848 - val_accuracy: 0.8530\n",
            "Epoch 61/100\n",
            "200/200 [==============================] - 1s 4ms/step - loss: 2.7747e-04 - accuracy: 1.0000 - val_loss: 0.7971 - val_accuracy: 0.8510\n",
            "Epoch 62/100\n",
            "200/200 [==============================] - 1s 4ms/step - loss: 2.3974e-04 - accuracy: 1.0000 - val_loss: 0.8051 - val_accuracy: 0.8510\n",
            "Epoch 63/100\n",
            "200/200 [==============================] - 1s 3ms/step - loss: 2.2036e-04 - accuracy: 1.0000 - val_loss: 0.8149 - val_accuracy: 0.8500\n",
            "Epoch 64/100\n",
            "200/200 [==============================] - 1s 3ms/step - loss: 1.8184e-04 - accuracy: 1.0000 - val_loss: 0.8256 - val_accuracy: 0.8530\n",
            "Epoch 65/100\n",
            "200/200 [==============================] - 1s 4ms/step - loss: 1.6297e-04 - accuracy: 1.0000 - val_loss: 0.8244 - val_accuracy: 0.8550\n",
            "Epoch 66/100\n",
            "200/200 [==============================] - 1s 4ms/step - loss: 1.5742e-04 - accuracy: 1.0000 - val_loss: 0.8411 - val_accuracy: 0.8520\n",
            "Epoch 67/100\n",
            "200/200 [==============================] - 1s 3ms/step - loss: 1.4015e-04 - accuracy: 1.0000 - val_loss: 0.8479 - val_accuracy: 0.8540\n",
            "Epoch 68/100\n",
            "200/200 [==============================] - 1s 3ms/step - loss: 1.2077e-04 - accuracy: 1.0000 - val_loss: 0.8566 - val_accuracy: 0.8540\n",
            "Epoch 69/100\n",
            "200/200 [==============================] - 1s 3ms/step - loss: 1.0525e-04 - accuracy: 1.0000 - val_loss: 0.8610 - val_accuracy: 0.8540\n",
            "Epoch 70/100\n",
            "200/200 [==============================] - 1s 3ms/step - loss: 1.0472e-04 - accuracy: 1.0000 - val_loss: 0.8759 - val_accuracy: 0.8530\n",
            "Epoch 71/100\n",
            "200/200 [==============================] - 1s 3ms/step - loss: 8.4722e-05 - accuracy: 1.0000 - val_loss: 0.8850 - val_accuracy: 0.8500\n",
            "Epoch 72/100\n",
            "200/200 [==============================] - 1s 4ms/step - loss: 7.4475e-05 - accuracy: 1.0000 - val_loss: 0.8939 - val_accuracy: 0.8540\n",
            "Epoch 73/100\n",
            "200/200 [==============================] - 1s 3ms/step - loss: 7.1889e-05 - accuracy: 1.0000 - val_loss: 0.9018 - val_accuracy: 0.8540\n",
            "Epoch 74/100\n",
            "200/200 [==============================] - 1s 4ms/step - loss: 5.9853e-05 - accuracy: 1.0000 - val_loss: 0.9030 - val_accuracy: 0.8540\n",
            "Epoch 75/100\n",
            "200/200 [==============================] - 1s 4ms/step - loss: 5.4328e-05 - accuracy: 1.0000 - val_loss: 0.9119 - val_accuracy: 0.8510\n",
            "Epoch 76/100\n",
            "200/200 [==============================] - 1s 3ms/step - loss: 5.2890e-05 - accuracy: 1.0000 - val_loss: 0.9297 - val_accuracy: 0.8520\n",
            "Epoch 77/100\n",
            "200/200 [==============================] - 1s 4ms/step - loss: 4.4962e-05 - accuracy: 1.0000 - val_loss: 0.9455 - val_accuracy: 0.8530\n",
            "Epoch 78/100\n",
            "200/200 [==============================] - 1s 4ms/step - loss: 4.1149e-05 - accuracy: 1.0000 - val_loss: 0.9424 - val_accuracy: 0.8530\n",
            "Epoch 79/100\n",
            "200/200 [==============================] - 1s 4ms/step - loss: 3.4883e-05 - accuracy: 1.0000 - val_loss: 0.9565 - val_accuracy: 0.8530\n",
            "Epoch 80/100\n",
            "200/200 [==============================] - 1s 4ms/step - loss: 3.2832e-05 - accuracy: 1.0000 - val_loss: 0.9559 - val_accuracy: 0.8510\n",
            "Epoch 81/100\n",
            "200/200 [==============================] - 1s 4ms/step - loss: 3.3234e-05 - accuracy: 1.0000 - val_loss: 0.9709 - val_accuracy: 0.8520\n",
            "Epoch 82/100\n",
            "200/200 [==============================] - 1s 3ms/step - loss: 2.8482e-05 - accuracy: 1.0000 - val_loss: 0.9810 - val_accuracy: 0.8510\n",
            "Epoch 83/100\n",
            "200/200 [==============================] - 1s 4ms/step - loss: 2.3937e-05 - accuracy: 1.0000 - val_loss: 0.9909 - val_accuracy: 0.8510\n",
            "Epoch 84/100\n",
            "200/200 [==============================] - 1s 3ms/step - loss: 2.0407e-05 - accuracy: 1.0000 - val_loss: 0.9810 - val_accuracy: 0.8530\n",
            "Epoch 85/100\n",
            "200/200 [==============================] - 1s 4ms/step - loss: 2.1767e-05 - accuracy: 1.0000 - val_loss: 1.0067 - val_accuracy: 0.8500\n",
            "Epoch 86/100\n",
            "200/200 [==============================] - 1s 4ms/step - loss: 1.6757e-05 - accuracy: 1.0000 - val_loss: 1.0133 - val_accuracy: 0.8520\n",
            "Epoch 87/100\n",
            "200/200 [==============================] - 1s 3ms/step - loss: 1.5696e-05 - accuracy: 1.0000 - val_loss: 1.0150 - val_accuracy: 0.8510\n",
            "Epoch 88/100\n",
            "200/200 [==============================] - 1s 3ms/step - loss: 1.4200e-05 - accuracy: 1.0000 - val_loss: 1.0358 - val_accuracy: 0.8510\n",
            "Epoch 89/100\n",
            "200/200 [==============================] - 1s 3ms/step - loss: 1.3691e-05 - accuracy: 1.0000 - val_loss: 1.0432 - val_accuracy: 0.8530\n",
            "Epoch 90/100\n",
            "200/200 [==============================] - 1s 3ms/step - loss: 1.1841e-05 - accuracy: 1.0000 - val_loss: 1.0459 - val_accuracy: 0.8510\n",
            "Epoch 91/100\n",
            "200/200 [==============================] - 1s 4ms/step - loss: 1.0437e-05 - accuracy: 1.0000 - val_loss: 1.0528 - val_accuracy: 0.8510\n",
            "Epoch 92/100\n",
            "200/200 [==============================] - 1s 4ms/step - loss: 9.8255e-06 - accuracy: 1.0000 - val_loss: 1.0606 - val_accuracy: 0.8500\n",
            "Epoch 93/100\n",
            "200/200 [==============================] - 1s 4ms/step - loss: 8.2035e-06 - accuracy: 1.0000 - val_loss: 1.0712 - val_accuracy: 0.8520\n",
            "Epoch 94/100\n",
            "200/200 [==============================] - 1s 4ms/step - loss: 8.1023e-06 - accuracy: 1.0000 - val_loss: 1.0787 - val_accuracy: 0.8500\n",
            "Epoch 95/100\n",
            "200/200 [==============================] - 1s 4ms/step - loss: 6.8123e-06 - accuracy: 1.0000 - val_loss: 1.0808 - val_accuracy: 0.8510\n",
            "Epoch 96/100\n",
            "200/200 [==============================] - 1s 4ms/step - loss: 6.2593e-06 - accuracy: 1.0000 - val_loss: 1.0999 - val_accuracy: 0.8520\n",
            "Epoch 97/100\n",
            "200/200 [==============================] - 1s 4ms/step - loss: 5.7015e-06 - accuracy: 1.0000 - val_loss: 1.1034 - val_accuracy: 0.8520\n",
            "Epoch 98/100\n",
            "200/200 [==============================] - 1s 4ms/step - loss: 4.8729e-06 - accuracy: 1.0000 - val_loss: 1.1109 - val_accuracy: 0.8510\n",
            "Epoch 99/100\n",
            "200/200 [==============================] - 1s 4ms/step - loss: 4.5362e-06 - accuracy: 1.0000 - val_loss: 1.1206 - val_accuracy: 0.8510\n",
            "Epoch 100/100\n",
            "200/200 [==============================] - 1s 3ms/step - loss: 3.8091e-06 - accuracy: 1.0000 - val_loss: 1.1286 - val_accuracy: 0.8510\n"
          ],
          "name": "stdout"
        }
      ]
    },
    {
      "cell_type": "code",
      "metadata": {
        "colab": {
          "base_uri": "https://localhost:8080/",
          "height": 513
        },
        "id": "LApWAF725kdi",
        "outputId": "38b2101d-c8ff-456d-85b2-c19d60aac93c"
      },
      "source": [
        "# plot \n",
        "\n",
        "#history for loss\n",
        "plt.plot(history.history[\"loss\"],label=\"train set\")\n",
        "plt.plot(history.history[\"val_loss\"],label=\"validation set\")\n",
        "plt.legend()\n",
        "plt.show()\n",
        "\n",
        "# summarize history for accuracy\n",
        "plt.plot(history.history[\"accuracy\"],label=\"train set\")\n",
        "plt.plot(history.history[\"val_accuracy\"], label=\"validation set\")\n",
        "plt.legend()\n",
        "plt.show()\n"
      ],
      "execution_count": null,
      "outputs": [
        {
          "output_type": "display_data",
          "data": {
            "image/png": "[encoded data removed]",
            "text/plain": [
              "<Figure size 432x288 with 1 Axes>"
            ]
          },
          "metadata": {
            "tags": []
          }
        },
        {
          "output_type": "display_data",
          "data": {
            "image/png": "[encoded data removed]",
            "text/plain": [
              "<Figure size 432x288 with 1 Axes>"
            ]
          },
          "metadata": {
            "tags": []
          }
        }
      ]
    },
    {
      "cell_type": "markdown",
      "metadata": {
        "id": "DmNfh-W142AM"
      },
      "source": [
        "We see once again a small improvement (from 0.84 to 0.85), however it is not enough for the moment. Plus, there is still overfitting. We try to see if increasing the number of neurons could improve our model again, from 300 to 400 in the hidden layer."
      ]
    },
    {
      "cell_type": "code",
      "metadata": {
        "colab": {
          "base_uri": "https://localhost:8080/"
        },
        "id": "eDciL3AE6GBt",
        "outputId": "29f3a1b0-f30b-40ab-89b2-ce6eef050921"
      },
      "source": [
        "input_shape = ants_data[0].shape[0]\n",
        "output_shape = 2\n",
        "\n",
        "model = Sequential()\n",
        "model.add(Dense(400, input_dim=input_shape))\n",
        "model.add(Activation('relu'))\n",
        "model.add(Dense(output_shape))\n",
        "model.add(Activation('sigmoid'))\n",
        "\n",
        "opt = optimizers.Adam(learning_rate = 0.0001)\n",
        "model.compile(loss='binary_crossentropy', optimizer=opt, metrics=['accuracy'])\n",
        "\n",
        "epochs = 100\n",
        "\n",
        "history = model.fit(norm_train, train_labels,epochs=epochs, batch_size = 10,validation_data =(norm_test,test_labels))"
      ],
      "execution_count": null,
      "outputs": [
        {
          "output_type": "stream",
          "text": [
            "Epoch 1/100\n",
            "200/200 [==============================] - 1s 5ms/step - loss: 0.5593 - accuracy: 0.7096 - val_loss: 0.4102 - val_accuracy: 0.8420\n",
            "Epoch 2/100\n",
            "200/200 [==============================] - 1s 4ms/step - loss: 0.3072 - accuracy: 0.8849 - val_loss: 0.3900 - val_accuracy: 0.8530\n",
            "Epoch 3/100\n",
            "200/200 [==============================] - 1s 4ms/step - loss: 0.2794 - accuracy: 0.9078 - val_loss: 0.3913 - val_accuracy: 0.8460\n",
            "Epoch 4/100\n",
            "200/200 [==============================] - 1s 3ms/step - loss: 0.2493 - accuracy: 0.9089 - val_loss: 0.3866 - val_accuracy: 0.8490\n",
            "Epoch 5/100\n",
            "200/200 [==============================] - 1s 4ms/step - loss: 0.2163 - accuracy: 0.9380 - val_loss: 0.3885 - val_accuracy: 0.8490\n",
            "Epoch 6/100\n",
            "200/200 [==============================] - 1s 4ms/step - loss: 0.1872 - accuracy: 0.9484 - val_loss: 0.3844 - val_accuracy: 0.8460\n",
            "Epoch 7/100\n",
            "200/200 [==============================] - 1s 3ms/step - loss: 0.1667 - accuracy: 0.9585 - val_loss: 0.3865 - val_accuracy: 0.8460\n",
            "Epoch 8/100\n",
            "200/200 [==============================] - 1s 4ms/step - loss: 0.1522 - accuracy: 0.9627 - val_loss: 0.3906 - val_accuracy: 0.8460\n",
            "Epoch 9/100\n",
            "200/200 [==============================] - 1s 4ms/step - loss: 0.1358 - accuracy: 0.9692 - val_loss: 0.3919 - val_accuracy: 0.8510\n",
            "Epoch 10/100\n",
            "200/200 [==============================] - 1s 4ms/step - loss: 0.1130 - accuracy: 0.9769 - val_loss: 0.3996 - val_accuracy: 0.8510\n",
            "Epoch 11/100\n",
            "200/200 [==============================] - 1s 4ms/step - loss: 0.0999 - accuracy: 0.9786 - val_loss: 0.3888 - val_accuracy: 0.8490\n",
            "Epoch 12/100\n",
            "200/200 [==============================] - 1s 4ms/step - loss: 0.0830 - accuracy: 0.9834 - val_loss: 0.3987 - val_accuracy: 0.8520\n",
            "Epoch 13/100\n",
            "200/200 [==============================] - 1s 3ms/step - loss: 0.0742 - accuracy: 0.9911 - val_loss: 0.4029 - val_accuracy: 0.8510\n",
            "Epoch 14/100\n",
            "200/200 [==============================] - 1s 4ms/step - loss: 0.0651 - accuracy: 0.9918 - val_loss: 0.4131 - val_accuracy: 0.8500\n",
            "Epoch 15/100\n",
            "200/200 [==============================] - 1s 4ms/step - loss: 0.0576 - accuracy: 0.9935 - val_loss: 0.4149 - val_accuracy: 0.8530\n",
            "Epoch 16/100\n",
            "200/200 [==============================] - 1s 4ms/step - loss: 0.0471 - accuracy: 0.9930 - val_loss: 0.4217 - val_accuracy: 0.8540\n",
            "Epoch 17/100\n",
            "200/200 [==============================] - 1s 4ms/step - loss: 0.0387 - accuracy: 0.9979 - val_loss: 0.4367 - val_accuracy: 0.8530\n",
            "Epoch 18/100\n",
            "200/200 [==============================] - 1s 4ms/step - loss: 0.0345 - accuracy: 0.9954 - val_loss: 0.4353 - val_accuracy: 0.8540\n",
            "Epoch 19/100\n",
            "200/200 [==============================] - 1s 4ms/step - loss: 0.0298 - accuracy: 0.9994 - val_loss: 0.4392 - val_accuracy: 0.8560\n",
            "Epoch 20/100\n",
            "200/200 [==============================] - 1s 4ms/step - loss: 0.0242 - accuracy: 0.9996 - val_loss: 0.4547 - val_accuracy: 0.8510\n",
            "Epoch 21/100\n",
            "200/200 [==============================] - 1s 3ms/step - loss: 0.0224 - accuracy: 0.9999 - val_loss: 0.4657 - val_accuracy: 0.8480\n",
            "Epoch 22/100\n",
            "200/200 [==============================] - 1s 4ms/step - loss: 0.0190 - accuracy: 0.9998 - val_loss: 0.4798 - val_accuracy: 0.8530\n",
            "Epoch 23/100\n",
            "200/200 [==============================] - 1s 4ms/step - loss: 0.0163 - accuracy: 0.9999 - val_loss: 0.4800 - val_accuracy: 0.8440\n",
            "Epoch 24/100\n",
            "200/200 [==============================] - 1s 4ms/step - loss: 0.0141 - accuracy: 0.9998 - val_loss: 0.4809 - val_accuracy: 0.8550\n",
            "Epoch 25/100\n",
            "200/200 [==============================] - 1s 4ms/step - loss: 0.0117 - accuracy: 1.0000 - val_loss: 0.4967 - val_accuracy: 0.8540\n",
            "Epoch 26/100\n",
            "200/200 [==============================] - 1s 4ms/step - loss: 0.0105 - accuracy: 1.0000 - val_loss: 0.4968 - val_accuracy: 0.8540\n",
            "Epoch 27/100\n",
            "200/200 [==============================] - 1s 4ms/step - loss: 0.0097 - accuracy: 1.0000 - val_loss: 0.5118 - val_accuracy: 0.8550\n",
            "Epoch 28/100\n",
            "200/200 [==============================] - 1s 4ms/step - loss: 0.0085 - accuracy: 1.0000 - val_loss: 0.5177 - val_accuracy: 0.8520\n",
            "Epoch 29/100\n",
            "200/200 [==============================] - 1s 4ms/step - loss: 0.0068 - accuracy: 1.0000 - val_loss: 0.5289 - val_accuracy: 0.8520\n",
            "Epoch 30/100\n",
            "200/200 [==============================] - 1s 4ms/step - loss: 0.0067 - accuracy: 1.0000 - val_loss: 0.5388 - val_accuracy: 0.8460\n",
            "Epoch 31/100\n",
            "200/200 [==============================] - 1s 4ms/step - loss: 0.0056 - accuracy: 1.0000 - val_loss: 0.5466 - val_accuracy: 0.8480\n",
            "Epoch 32/100\n",
            "200/200 [==============================] - 1s 4ms/step - loss: 0.0044 - accuracy: 1.0000 - val_loss: 0.5595 - val_accuracy: 0.8530\n",
            "Epoch 33/100\n",
            "200/200 [==============================] - 1s 4ms/step - loss: 0.0042 - accuracy: 1.0000 - val_loss: 0.5669 - val_accuracy: 0.8550\n",
            "Epoch 34/100\n",
            "200/200 [==============================] - 1s 4ms/step - loss: 0.0038 - accuracy: 1.0000 - val_loss: 0.5685 - val_accuracy: 0.8520\n",
            "Epoch 35/100\n",
            "200/200 [==============================] - 1s 4ms/step - loss: 0.0032 - accuracy: 1.0000 - val_loss: 0.5727 - val_accuracy: 0.8540\n",
            "Epoch 36/100\n",
            "200/200 [==============================] - 1s 4ms/step - loss: 0.0028 - accuracy: 1.0000 - val_loss: 0.5913 - val_accuracy: 0.8490\n",
            "Epoch 37/100\n",
            "200/200 [==============================] - 1s 4ms/step - loss: 0.0026 - accuracy: 1.0000 - val_loss: 0.5992 - val_accuracy: 0.8500\n",
            "Epoch 38/100\n",
            "200/200 [==============================] - 1s 4ms/step - loss: 0.0023 - accuracy: 1.0000 - val_loss: 0.6043 - val_accuracy: 0.8510\n",
            "Epoch 39/100\n",
            "200/200 [==============================] - 1s 4ms/step - loss: 0.0020 - accuracy: 1.0000 - val_loss: 0.6199 - val_accuracy: 0.8540\n",
            "Epoch 40/100\n",
            "200/200 [==============================] - 1s 4ms/step - loss: 0.0018 - accuracy: 1.0000 - val_loss: 0.6242 - val_accuracy: 0.8550\n",
            "Epoch 41/100\n",
            "200/200 [==============================] - 1s 4ms/step - loss: 0.0015 - accuracy: 1.0000 - val_loss: 0.6331 - val_accuracy: 0.8540\n",
            "Epoch 42/100\n",
            "200/200 [==============================] - 1s 3ms/step - loss: 0.0014 - accuracy: 1.0000 - val_loss: 0.6468 - val_accuracy: 0.8520\n",
            "Epoch 43/100\n",
            "200/200 [==============================] - 1s 4ms/step - loss: 0.0013 - accuracy: 1.0000 - val_loss: 0.6469 - val_accuracy: 0.8490\n",
            "Epoch 44/100\n",
            "200/200 [==============================] - 1s 4ms/step - loss: 0.0011 - accuracy: 1.0000 - val_loss: 0.6591 - val_accuracy: 0.8500\n",
            "Epoch 45/100\n",
            "200/200 [==============================] - 1s 3ms/step - loss: 9.9694e-04 - accuracy: 1.0000 - val_loss: 0.6659 - val_accuracy: 0.8490\n",
            "Epoch 46/100\n",
            "200/200 [==============================] - 1s 4ms/step - loss: 8.7145e-04 - accuracy: 1.0000 - val_loss: 0.6723 - val_accuracy: 0.8520\n",
            "Epoch 47/100\n",
            "200/200 [==============================] - 1s 4ms/step - loss: 7.8138e-04 - accuracy: 1.0000 - val_loss: 0.6852 - val_accuracy: 0.8490\n",
            "Epoch 48/100\n",
            "200/200 [==============================] - 1s 4ms/step - loss: 7.1919e-04 - accuracy: 1.0000 - val_loss: 0.6984 - val_accuracy: 0.8510\n",
            "Epoch 49/100\n",
            "200/200 [==============================] - 1s 4ms/step - loss: 6.6505e-04 - accuracy: 1.0000 - val_loss: 0.7100 - val_accuracy: 0.8520\n",
            "Epoch 50/100\n",
            "200/200 [==============================] - 1s 4ms/step - loss: 5.6771e-04 - accuracy: 1.0000 - val_loss: 0.7060 - val_accuracy: 0.8480\n",
            "Epoch 51/100\n",
            "200/200 [==============================] - 1s 4ms/step - loss: 5.0495e-04 - accuracy: 1.0000 - val_loss: 0.7127 - val_accuracy: 0.8510\n",
            "Epoch 52/100\n",
            "200/200 [==============================] - 1s 4ms/step - loss: 4.1954e-04 - accuracy: 1.0000 - val_loss: 0.7236 - val_accuracy: 0.8490\n",
            "Epoch 53/100\n",
            "200/200 [==============================] - 1s 4ms/step - loss: 4.1989e-04 - accuracy: 1.0000 - val_loss: 0.7373 - val_accuracy: 0.8490\n",
            "Epoch 54/100\n",
            "200/200 [==============================] - 1s 4ms/step - loss: 3.6023e-04 - accuracy: 1.0000 - val_loss: 0.7448 - val_accuracy: 0.8540\n",
            "Epoch 55/100\n",
            "200/200 [==============================] - 1s 4ms/step - loss: 3.1447e-04 - accuracy: 1.0000 - val_loss: 0.7476 - val_accuracy: 0.8550\n",
            "Epoch 56/100\n",
            "200/200 [==============================] - 1s 4ms/step - loss: 2.9835e-04 - accuracy: 1.0000 - val_loss: 0.7588 - val_accuracy: 0.8490\n",
            "Epoch 57/100\n",
            "200/200 [==============================] - 1s 4ms/step - loss: 2.4973e-04 - accuracy: 1.0000 - val_loss: 0.7681 - val_accuracy: 0.8520\n",
            "Epoch 58/100\n",
            "200/200 [==============================] - 1s 4ms/step - loss: 2.3264e-04 - accuracy: 1.0000 - val_loss: 0.7841 - val_accuracy: 0.8520\n",
            "Epoch 59/100\n",
            "200/200 [==============================] - 1s 4ms/step - loss: 1.9403e-04 - accuracy: 1.0000 - val_loss: 0.7850 - val_accuracy: 0.8520\n",
            "Epoch 60/100\n",
            "200/200 [==============================] - 1s 4ms/step - loss: 1.9230e-04 - accuracy: 1.0000 - val_loss: 0.7922 - val_accuracy: 0.8520\n",
            "Epoch 61/100\n",
            "200/200 [==============================] - 1s 4ms/step - loss: 1.5810e-04 - accuracy: 1.0000 - val_loss: 0.7994 - val_accuracy: 0.8510\n",
            "Epoch 62/100\n",
            "200/200 [==============================] - 1s 4ms/step - loss: 1.3729e-04 - accuracy: 1.0000 - val_loss: 0.8041 - val_accuracy: 0.8500\n",
            "Epoch 63/100\n",
            "200/200 [==============================] - 1s 4ms/step - loss: 1.2377e-04 - accuracy: 1.0000 - val_loss: 0.8129 - val_accuracy: 0.8520\n",
            "Epoch 64/100\n",
            "200/200 [==============================] - 1s 4ms/step - loss: 1.2407e-04 - accuracy: 1.0000 - val_loss: 0.8355 - val_accuracy: 0.8500\n",
            "Epoch 65/100\n",
            "200/200 [==============================] - 1s 4ms/step - loss: 1.0421e-04 - accuracy: 1.0000 - val_loss: 0.8360 - val_accuracy: 0.8510\n",
            "Epoch 66/100\n",
            "200/200 [==============================] - 1s 4ms/step - loss: 9.4713e-05 - accuracy: 1.0000 - val_loss: 0.8563 - val_accuracy: 0.8500\n",
            "Epoch 67/100\n",
            "200/200 [==============================] - 1s 4ms/step - loss: 8.0191e-05 - accuracy: 1.0000 - val_loss: 0.8577 - val_accuracy: 0.8490\n",
            "Epoch 68/100\n",
            "200/200 [==============================] - 1s 4ms/step - loss: 8.1433e-05 - accuracy: 1.0000 - val_loss: 0.8656 - val_accuracy: 0.8510\n",
            "Epoch 69/100\n",
            "200/200 [==============================] - 1s 4ms/step - loss: 7.1394e-05 - accuracy: 1.0000 - val_loss: 0.8622 - val_accuracy: 0.8520\n",
            "Epoch 70/100\n",
            "200/200 [==============================] - 1s 4ms/step - loss: 5.8743e-05 - accuracy: 1.0000 - val_loss: 0.8750 - val_accuracy: 0.8510\n",
            "Epoch 71/100\n",
            "200/200 [==============================] - 1s 4ms/step - loss: 5.4830e-05 - accuracy: 1.0000 - val_loss: 0.8954 - val_accuracy: 0.8500\n",
            "Epoch 72/100\n",
            "200/200 [==============================] - 1s 4ms/step - loss: 4.7407e-05 - accuracy: 1.0000 - val_loss: 0.8968 - val_accuracy: 0.8510\n",
            "Epoch 73/100\n",
            "200/200 [==============================] - 1s 4ms/step - loss: 4.1118e-05 - accuracy: 1.0000 - val_loss: 0.9029 - val_accuracy: 0.8530\n",
            "Epoch 74/100\n",
            "200/200 [==============================] - 1s 4ms/step - loss: 3.7418e-05 - accuracy: 1.0000 - val_loss: 0.9050 - val_accuracy: 0.8510\n",
            "Epoch 75/100\n",
            "200/200 [==============================] - 1s 4ms/step - loss: 3.4842e-05 - accuracy: 1.0000 - val_loss: 0.9194 - val_accuracy: 0.8540\n",
            "Epoch 76/100\n",
            "200/200 [==============================] - 1s 4ms/step - loss: 3.3102e-05 - accuracy: 1.0000 - val_loss: 0.9301 - val_accuracy: 0.8530\n",
            "Epoch 77/100\n",
            "200/200 [==============================] - 1s 4ms/step - loss: 3.0850e-05 - accuracy: 1.0000 - val_loss: 0.9419 - val_accuracy: 0.8510\n",
            "Epoch 78/100\n",
            "200/200 [==============================] - 1s 4ms/step - loss: 2.6233e-05 - accuracy: 1.0000 - val_loss: 0.9437 - val_accuracy: 0.8530\n",
            "Epoch 79/100\n",
            "200/200 [==============================] - 1s 4ms/step - loss: 2.2042e-05 - accuracy: 1.0000 - val_loss: 0.9576 - val_accuracy: 0.8520\n",
            "Epoch 80/100\n",
            "200/200 [==============================] - 1s 4ms/step - loss: 2.0703e-05 - accuracy: 1.0000 - val_loss: 0.9602 - val_accuracy: 0.8520\n",
            "Epoch 81/100\n",
            "200/200 [==============================] - 1s 4ms/step - loss: 1.8135e-05 - accuracy: 1.0000 - val_loss: 0.9728 - val_accuracy: 0.8520\n",
            "Epoch 82/100\n",
            "200/200 [==============================] - 1s 4ms/step - loss: 1.6356e-05 - accuracy: 1.0000 - val_loss: 0.9822 - val_accuracy: 0.8520\n",
            "Epoch 83/100\n",
            "200/200 [==============================] - 1s 4ms/step - loss: 1.4067e-05 - accuracy: 1.0000 - val_loss: 0.9894 - val_accuracy: 0.8530\n",
            "Epoch 84/100\n",
            "200/200 [==============================] - 1s 4ms/step - loss: 1.4085e-05 - accuracy: 1.0000 - val_loss: 1.0032 - val_accuracy: 0.8510\n",
            "Epoch 85/100\n",
            "200/200 [==============================] - 1s 4ms/step - loss: 1.1776e-05 - accuracy: 1.0000 - val_loss: 1.0053 - val_accuracy: 0.8510\n",
            "Epoch 86/100\n",
            "200/200 [==============================] - 1s 4ms/step - loss: 9.8836e-06 - accuracy: 1.0000 - val_loss: 1.0195 - val_accuracy: 0.8530\n",
            "Epoch 87/100\n",
            "200/200 [==============================] - 1s 4ms/step - loss: 9.5949e-06 - accuracy: 1.0000 - val_loss: 1.0282 - val_accuracy: 0.8520\n",
            "Epoch 88/100\n",
            "200/200 [==============================] - 1s 4ms/step - loss: 8.4487e-06 - accuracy: 1.0000 - val_loss: 1.0312 - val_accuracy: 0.8520\n",
            "Epoch 89/100\n",
            "200/200 [==============================] - 1s 4ms/step - loss: 7.8039e-06 - accuracy: 1.0000 - val_loss: 1.0416 - val_accuracy: 0.8520\n",
            "Epoch 90/100\n",
            "200/200 [==============================] - 1s 4ms/step - loss: 7.1735e-06 - accuracy: 1.0000 - val_loss: 1.0508 - val_accuracy: 0.8520\n",
            "Epoch 91/100\n",
            "200/200 [==============================] - 1s 4ms/step - loss: 6.2196e-06 - accuracy: 1.0000 - val_loss: 1.0547 - val_accuracy: 0.8530\n",
            "Epoch 92/100\n",
            "200/200 [==============================] - 1s 4ms/step - loss: 5.6774e-06 - accuracy: 1.0000 - val_loss: 1.0612 - val_accuracy: 0.8530\n",
            "Epoch 93/100\n",
            "200/200 [==============================] - 1s 4ms/step - loss: 4.9302e-06 - accuracy: 1.0000 - val_loss: 1.0692 - val_accuracy: 0.8520\n",
            "Epoch 94/100\n",
            "200/200 [==============================] - 1s 4ms/step - loss: 4.6450e-06 - accuracy: 1.0000 - val_loss: 1.0835 - val_accuracy: 0.8510\n",
            "Epoch 95/100\n",
            "200/200 [==============================] - 1s 4ms/step - loss: 3.7821e-06 - accuracy: 1.0000 - val_loss: 1.0844 - val_accuracy: 0.8510\n",
            "Epoch 96/100\n",
            "200/200 [==============================] - 1s 4ms/step - loss: 3.7837e-06 - accuracy: 1.0000 - val_loss: 1.0920 - val_accuracy: 0.8530\n",
            "Epoch 97/100\n",
            "200/200 [==============================] - 1s 4ms/step - loss: 3.4424e-06 - accuracy: 1.0000 - val_loss: 1.1044 - val_accuracy: 0.8520\n",
            "Epoch 98/100\n",
            "200/200 [==============================] - 1s 4ms/step - loss: 2.9513e-06 - accuracy: 1.0000 - val_loss: 1.1171 - val_accuracy: 0.8510\n",
            "Epoch 99/100\n",
            "200/200 [==============================] - 1s 4ms/step - loss: 2.7086e-06 - accuracy: 1.0000 - val_loss: 1.1212 - val_accuracy: 0.8520\n",
            "Epoch 100/100\n",
            "200/200 [==============================] - 1s 4ms/step - loss: 2.4517e-06 - accuracy: 1.0000 - val_loss: 1.1283 - val_accuracy: 0.8530\n"
          ],
          "name": "stdout"
        }
      ]
    },
    {
      "cell_type": "markdown",
      "metadata": {
        "id": "YfYb5izR5ouP"
      },
      "source": [
        "The results are the same. Thus, now we try to add a hidden layer to the neural network. We choose a hidden layer of 100 neurons, activated by a ReLU activation function. The neural network is as follows :\n",
        "\n",
        "<center>$(784) \\rightarrow (400) \\rightarrow (100) \\rightarrow (2)$</center>\n",
        "\n"
      ]
    },
    {
      "cell_type": "code",
      "metadata": {
        "colab": {
          "base_uri": "https://localhost:8080/"
        },
        "id": "o36ZH9zu7uRk",
        "outputId": "d5c9be10-fc0f-4081-bf28-3bde4d2d085b"
      },
      "source": [
        "input_shape = ants_data[0].shape[0]\n",
        "output_shape = 2\n",
        "\n",
        "model = Sequential()\n",
        "model.add(Dense(400, input_dim=input_shape))\n",
        "model.add(Activation('relu'))\n",
        "model.add(Dense(100))\n",
        "model.add(Activation('sigmoid'))\n",
        "model.add(Dense(output_shape))\n",
        "model.add(Activation('sigmoid'))\n",
        "\n",
        "opt = optimizers.Adam(learning_rate = 0.0001)\n",
        "model.compile(loss='binary_crossentropy', optimizer=opt, metrics=['accuracy'])\n",
        "\n",
        "epochs = 100\n",
        "\n",
        "history = model.fit(norm_train, train_labels,epochs=epochs, batch_size = 10,validation_data =(norm_test,test_labels))"
      ],
      "execution_count": null,
      "outputs": [
        {
          "output_type": "stream",
          "text": [
            "Epoch 1/100\n",
            "200/200 [==============================] - 2s 6ms/step - loss: 0.5358 - accuracy: 0.7631 - val_loss: 0.3957 - val_accuracy: 0.8490\n",
            "Epoch 2/100\n",
            "200/200 [==============================] - 1s 5ms/step - loss: 0.3327 - accuracy: 0.8746 - val_loss: 0.3915 - val_accuracy: 0.8410\n",
            "Epoch 3/100\n",
            "200/200 [==============================] - 1s 5ms/step - loss: 0.3221 - accuracy: 0.8880 - val_loss: 0.3785 - val_accuracy: 0.8460\n",
            "Epoch 4/100\n",
            "200/200 [==============================] - 1s 5ms/step - loss: 0.2826 - accuracy: 0.8977 - val_loss: 0.3772 - val_accuracy: 0.8500\n",
            "Epoch 5/100\n",
            "200/200 [==============================] - 1s 4ms/step - loss: 0.2538 - accuracy: 0.9160 - val_loss: 0.3744 - val_accuracy: 0.8540\n",
            "Epoch 6/100\n",
            "200/200 [==============================] - 1s 5ms/step - loss: 0.2360 - accuracy: 0.9188 - val_loss: 0.3755 - val_accuracy: 0.8500\n",
            "Epoch 7/100\n",
            "200/200 [==============================] - 1s 4ms/step - loss: 0.2026 - accuracy: 0.9425 - val_loss: 0.3790 - val_accuracy: 0.8480\n",
            "Epoch 8/100\n",
            "200/200 [==============================] - 1s 4ms/step - loss: 0.1815 - accuracy: 0.9532 - val_loss: 0.3795 - val_accuracy: 0.8510\n",
            "Epoch 9/100\n",
            "200/200 [==============================] - 1s 4ms/step - loss: 0.1495 - accuracy: 0.9578 - val_loss: 0.3828 - val_accuracy: 0.8490\n",
            "Epoch 10/100\n",
            "200/200 [==============================] - 1s 5ms/step - loss: 0.1317 - accuracy: 0.9685 - val_loss: 0.3851 - val_accuracy: 0.8540\n",
            "Epoch 11/100\n",
            "200/200 [==============================] - 1s 5ms/step - loss: 0.1137 - accuracy: 0.9718 - val_loss: 0.3920 - val_accuracy: 0.8530\n",
            "Epoch 12/100\n",
            "200/200 [==============================] - 1s 5ms/step - loss: 0.0844 - accuracy: 0.9809 - val_loss: 0.4043 - val_accuracy: 0.8500\n",
            "Epoch 13/100\n",
            "200/200 [==============================] - 1s 4ms/step - loss: 0.0712 - accuracy: 0.9860 - val_loss: 0.4157 - val_accuracy: 0.8500\n",
            "Epoch 14/100\n",
            "200/200 [==============================] - 1s 5ms/step - loss: 0.0504 - accuracy: 0.9907 - val_loss: 0.4194 - val_accuracy: 0.8520\n",
            "Epoch 15/100\n",
            "200/200 [==============================] - 1s 5ms/step - loss: 0.0391 - accuracy: 0.9961 - val_loss: 0.4377 - val_accuracy: 0.8540\n",
            "Epoch 16/100\n",
            "200/200 [==============================] - 1s 4ms/step - loss: 0.0282 - accuracy: 0.9982 - val_loss: 0.4417 - val_accuracy: 0.8570\n",
            "Epoch 17/100\n",
            "200/200 [==============================] - 1s 5ms/step - loss: 0.0231 - accuracy: 0.9988 - val_loss: 0.4562 - val_accuracy: 0.8580\n",
            "Epoch 18/100\n",
            "200/200 [==============================] - 1s 5ms/step - loss: 0.0176 - accuracy: 1.0000 - val_loss: 0.4633 - val_accuracy: 0.8550\n",
            "Epoch 19/100\n",
            "200/200 [==============================] - 1s 5ms/step - loss: 0.0143 - accuracy: 1.0000 - val_loss: 0.4846 - val_accuracy: 0.8520\n",
            "Epoch 20/100\n",
            "200/200 [==============================] - 1s 4ms/step - loss: 0.0109 - accuracy: 1.0000 - val_loss: 0.4950 - val_accuracy: 0.8540\n",
            "Epoch 21/100\n",
            "200/200 [==============================] - 1s 4ms/step - loss: 0.0086 - accuracy: 1.0000 - val_loss: 0.5131 - val_accuracy: 0.8590\n",
            "Epoch 22/100\n",
            "200/200 [==============================] - 1s 4ms/step - loss: 0.0075 - accuracy: 1.0000 - val_loss: 0.5198 - val_accuracy: 0.8520\n",
            "Epoch 23/100\n",
            "200/200 [==============================] - 1s 4ms/step - loss: 0.0061 - accuracy: 1.0000 - val_loss: 0.5316 - val_accuracy: 0.8560\n",
            "Epoch 24/100\n",
            "200/200 [==============================] - 1s 4ms/step - loss: 0.0053 - accuracy: 1.0000 - val_loss: 0.5408 - val_accuracy: 0.8520\n",
            "Epoch 25/100\n",
            "200/200 [==============================] - 1s 4ms/step - loss: 0.0045 - accuracy: 1.0000 - val_loss: 0.5558 - val_accuracy: 0.8520\n",
            "Epoch 26/100\n",
            "200/200 [==============================] - 1s 4ms/step - loss: 0.0037 - accuracy: 1.0000 - val_loss: 0.5652 - val_accuracy: 0.8500\n",
            "Epoch 27/100\n",
            "200/200 [==============================] - 1s 4ms/step - loss: 0.0032 - accuracy: 1.0000 - val_loss: 0.5757 - val_accuracy: 0.8540\n",
            "Epoch 28/100\n",
            "200/200 [==============================] - 1s 5ms/step - loss: 0.0028 - accuracy: 1.0000 - val_loss: 0.5851 - val_accuracy: 0.8530\n",
            "Epoch 29/100\n",
            "200/200 [==============================] - 1s 4ms/step - loss: 0.0025 - accuracy: 1.0000 - val_loss: 0.5957 - val_accuracy: 0.8520\n",
            "Epoch 30/100\n",
            "200/200 [==============================] - 1s 4ms/step - loss: 0.0021 - accuracy: 1.0000 - val_loss: 0.6088 - val_accuracy: 0.8530\n",
            "Epoch 31/100\n",
            "200/200 [==============================] - 1s 5ms/step - loss: 0.0018 - accuracy: 1.0000 - val_loss: 0.6191 - val_accuracy: 0.8490\n",
            "Epoch 32/100\n",
            "200/200 [==============================] - 1s 4ms/step - loss: 0.0016 - accuracy: 1.0000 - val_loss: 0.6262 - val_accuracy: 0.8530\n",
            "Epoch 33/100\n",
            "200/200 [==============================] - 1s 4ms/step - loss: 0.0015 - accuracy: 1.0000 - val_loss: 0.6371 - val_accuracy: 0.8540\n",
            "Epoch 34/100\n",
            "200/200 [==============================] - 1s 4ms/step - loss: 0.0013 - accuracy: 1.0000 - val_loss: 0.6454 - val_accuracy: 0.8540\n",
            "Epoch 35/100\n",
            "200/200 [==============================] - 1s 4ms/step - loss: 0.0011 - accuracy: 1.0000 - val_loss: 0.6545 - val_accuracy: 0.8520\n",
            "Epoch 36/100\n",
            "200/200 [==============================] - 1s 4ms/step - loss: 9.7392e-04 - accuracy: 1.0000 - val_loss: 0.6675 - val_accuracy: 0.8510\n",
            "Epoch 37/100\n",
            "200/200 [==============================] - 1s 4ms/step - loss: 8.5867e-04 - accuracy: 1.0000 - val_loss: 0.6748 - val_accuracy: 0.8550\n",
            "Epoch 38/100\n",
            "200/200 [==============================] - 1s 4ms/step - loss: 7.6514e-04 - accuracy: 1.0000 - val_loss: 0.6856 - val_accuracy: 0.8510\n",
            "Epoch 39/100\n",
            "200/200 [==============================] - 1s 4ms/step - loss: 7.0889e-04 - accuracy: 1.0000 - val_loss: 0.6942 - val_accuracy: 0.8540\n",
            "Epoch 40/100\n",
            "200/200 [==============================] - 1s 4ms/step - loss: 6.1800e-04 - accuracy: 1.0000 - val_loss: 0.7026 - val_accuracy: 0.8510\n",
            "Epoch 41/100\n",
            "200/200 [==============================] - 1s 4ms/step - loss: 5.7432e-04 - accuracy: 1.0000 - val_loss: 0.7121 - val_accuracy: 0.8520\n",
            "Epoch 42/100\n",
            "200/200 [==============================] - 1s 4ms/step - loss: 5.0983e-04 - accuracy: 1.0000 - val_loss: 0.7227 - val_accuracy: 0.8490\n",
            "Epoch 43/100\n",
            "200/200 [==============================] - 1s 4ms/step - loss: 4.5920e-04 - accuracy: 1.0000 - val_loss: 0.7344 - val_accuracy: 0.8530\n",
            "Epoch 44/100\n",
            "200/200 [==============================] - 1s 4ms/step - loss: 3.9972e-04 - accuracy: 1.0000 - val_loss: 0.7410 - val_accuracy: 0.8510\n",
            "Epoch 45/100\n",
            "200/200 [==============================] - 1s 4ms/step - loss: 3.5058e-04 - accuracy: 1.0000 - val_loss: 0.7471 - val_accuracy: 0.8540\n",
            "Epoch 46/100\n",
            "200/200 [==============================] - 1s 4ms/step - loss: 3.2000e-04 - accuracy: 1.0000 - val_loss: 0.7602 - val_accuracy: 0.8490\n",
            "Epoch 47/100\n",
            "200/200 [==============================] - 1s 4ms/step - loss: 2.7708e-04 - accuracy: 1.0000 - val_loss: 0.7690 - val_accuracy: 0.8520\n",
            "Epoch 48/100\n",
            "200/200 [==============================] - 1s 4ms/step - loss: 2.5880e-04 - accuracy: 1.0000 - val_loss: 0.7776 - val_accuracy: 0.8510\n",
            "Epoch 49/100\n",
            "200/200 [==============================] - 1s 4ms/step - loss: 2.3745e-04 - accuracy: 1.0000 - val_loss: 0.7888 - val_accuracy: 0.8510\n",
            "Epoch 50/100\n",
            "200/200 [==============================] - 1s 4ms/step - loss: 2.1133e-04 - accuracy: 1.0000 - val_loss: 0.7980 - val_accuracy: 0.8500\n",
            "Epoch 51/100\n",
            "200/200 [==============================] - 1s 4ms/step - loss: 1.8866e-04 - accuracy: 1.0000 - val_loss: 0.8084 - val_accuracy: 0.8550\n",
            "Epoch 52/100\n",
            "200/200 [==============================] - 1s 4ms/step - loss: 1.7292e-04 - accuracy: 1.0000 - val_loss: 0.8173 - val_accuracy: 0.8490\n",
            "Epoch 53/100\n",
            "200/200 [==============================] - 1s 4ms/step - loss: 1.5536e-04 - accuracy: 1.0000 - val_loss: 0.8263 - val_accuracy: 0.8520\n",
            "Epoch 54/100\n",
            "200/200 [==============================] - 1s 5ms/step - loss: 1.4359e-04 - accuracy: 1.0000 - val_loss: 0.8368 - val_accuracy: 0.8530\n",
            "Epoch 55/100\n",
            "200/200 [==============================] - 1s 4ms/step - loss: 1.2051e-04 - accuracy: 1.0000 - val_loss: 0.8463 - val_accuracy: 0.8510\n",
            "Epoch 56/100\n",
            "200/200 [==============================] - 1s 4ms/step - loss: 1.1732e-04 - accuracy: 1.0000 - val_loss: 0.8540 - val_accuracy: 0.8540\n",
            "Epoch 57/100\n",
            "200/200 [==============================] - 1s 5ms/step - loss: 1.0063e-04 - accuracy: 1.0000 - val_loss: 0.8644 - val_accuracy: 0.8530\n",
            "Epoch 58/100\n",
            "200/200 [==============================] - 1s 5ms/step - loss: 8.8715e-05 - accuracy: 1.0000 - val_loss: 0.8740 - val_accuracy: 0.8510\n",
            "Epoch 59/100\n",
            "200/200 [==============================] - 1s 5ms/step - loss: 8.2429e-05 - accuracy: 1.0000 - val_loss: 0.8832 - val_accuracy: 0.8530\n",
            "Epoch 60/100\n",
            "200/200 [==============================] - 1s 5ms/step - loss: 7.5525e-05 - accuracy: 1.0000 - val_loss: 0.8933 - val_accuracy: 0.8520\n",
            "Epoch 61/100\n",
            "200/200 [==============================] - 1s 5ms/step - loss: 6.7879e-05 - accuracy: 1.0000 - val_loss: 0.9026 - val_accuracy: 0.8520\n",
            "Epoch 62/100\n",
            "200/200 [==============================] - 1s 5ms/step - loss: 6.2064e-05 - accuracy: 1.0000 - val_loss: 0.9134 - val_accuracy: 0.8530\n",
            "Epoch 63/100\n",
            "200/200 [==============================] - 1s 4ms/step - loss: 5.5150e-05 - accuracy: 1.0000 - val_loss: 0.9246 - val_accuracy: 0.8500\n",
            "Epoch 64/100\n",
            "200/200 [==============================] - 1s 4ms/step - loss: 4.9733e-05 - accuracy: 1.0000 - val_loss: 0.9333 - val_accuracy: 0.8530\n",
            "Epoch 65/100\n",
            "200/200 [==============================] - 1s 5ms/step - loss: 4.5825e-05 - accuracy: 1.0000 - val_loss: 0.9419 - val_accuracy: 0.8530\n",
            "Epoch 66/100\n",
            "200/200 [==============================] - 1s 5ms/step - loss: 4.0421e-05 - accuracy: 1.0000 - val_loss: 0.9509 - val_accuracy: 0.8540\n",
            "Epoch 67/100\n",
            "200/200 [==============================] - 1s 5ms/step - loss: 3.7295e-05 - accuracy: 1.0000 - val_loss: 0.9597 - val_accuracy: 0.8520\n",
            "Epoch 68/100\n",
            "200/200 [==============================] - 1s 5ms/step - loss: 3.3029e-05 - accuracy: 1.0000 - val_loss: 0.9715 - val_accuracy: 0.8520\n",
            "Epoch 69/100\n",
            "200/200 [==============================] - 1s 5ms/step - loss: 3.0209e-05 - accuracy: 1.0000 - val_loss: 0.9818 - val_accuracy: 0.8500\n",
            "Epoch 70/100\n",
            "200/200 [==============================] - 1s 5ms/step - loss: 2.8128e-05 - accuracy: 1.0000 - val_loss: 0.9904 - val_accuracy: 0.8530\n",
            "Epoch 71/100\n",
            "200/200 [==============================] - 1s 5ms/step - loss: 2.5328e-05 - accuracy: 1.0000 - val_loss: 1.0001 - val_accuracy: 0.8530\n",
            "Epoch 72/100\n",
            "200/200 [==============================] - 1s 4ms/step - loss: 2.2070e-05 - accuracy: 1.0000 - val_loss: 1.0100 - val_accuracy: 0.8540\n",
            "Epoch 73/100\n",
            "200/200 [==============================] - 1s 4ms/step - loss: 1.9566e-05 - accuracy: 1.0000 - val_loss: 1.0216 - val_accuracy: 0.8540\n",
            "Epoch 74/100\n",
            "200/200 [==============================] - 1s 4ms/step - loss: 1.8030e-05 - accuracy: 1.0000 - val_loss: 1.0299 - val_accuracy: 0.8530\n",
            "Epoch 75/100\n",
            "200/200 [==============================] - 1s 4ms/step - loss: 1.7054e-05 - accuracy: 1.0000 - val_loss: 1.0410 - val_accuracy: 0.8540\n",
            "Epoch 76/100\n",
            "200/200 [==============================] - 1s 4ms/step - loss: 1.5253e-05 - accuracy: 1.0000 - val_loss: 1.0500 - val_accuracy: 0.8530\n",
            "Epoch 77/100\n",
            "200/200 [==============================] - 1s 4ms/step - loss: 1.3993e-05 - accuracy: 1.0000 - val_loss: 1.0586 - val_accuracy: 0.8530\n",
            "Epoch 78/100\n",
            "200/200 [==============================] - 1s 4ms/step - loss: 1.2578e-05 - accuracy: 1.0000 - val_loss: 1.0697 - val_accuracy: 0.8530\n",
            "Epoch 79/100\n",
            "200/200 [==============================] - 1s 4ms/step - loss: 1.1647e-05 - accuracy: 1.0000 - val_loss: 1.0824 - val_accuracy: 0.8500\n",
            "Epoch 80/100\n",
            "200/200 [==============================] - 1s 4ms/step - loss: 1.0209e-05 - accuracy: 1.0000 - val_loss: 1.0899 - val_accuracy: 0.8540\n",
            "Epoch 81/100\n",
            "200/200 [==============================] - 1s 4ms/step - loss: 9.1645e-06 - accuracy: 1.0000 - val_loss: 1.1009 - val_accuracy: 0.8520\n",
            "Epoch 82/100\n",
            "200/200 [==============================] - 1s 4ms/step - loss: 8.4021e-06 - accuracy: 1.0000 - val_loss: 1.1094 - val_accuracy: 0.8540\n",
            "Epoch 83/100\n",
            "200/200 [==============================] - 1s 4ms/step - loss: 7.7123e-06 - accuracy: 1.0000 - val_loss: 1.1199 - val_accuracy: 0.8530\n",
            "Epoch 84/100\n",
            "200/200 [==============================] - 1s 4ms/step - loss: 7.0957e-06 - accuracy: 1.0000 - val_loss: 1.1323 - val_accuracy: 0.8540\n",
            "Epoch 85/100\n",
            "200/200 [==============================] - 1s 4ms/step - loss: 6.1930e-06 - accuracy: 1.0000 - val_loss: 1.1406 - val_accuracy: 0.8540\n",
            "Epoch 86/100\n",
            "200/200 [==============================] - 1s 4ms/step - loss: 5.7213e-06 - accuracy: 1.0000 - val_loss: 1.1509 - val_accuracy: 0.8530\n",
            "Epoch 87/100\n",
            "200/200 [==============================] - 1s 5ms/step - loss: 5.0285e-06 - accuracy: 1.0000 - val_loss: 1.1617 - val_accuracy: 0.8530\n",
            "Epoch 88/100\n",
            "200/200 [==============================] - 1s 4ms/step - loss: 4.6689e-06 - accuracy: 1.0000 - val_loss: 1.1713 - val_accuracy: 0.8530\n",
            "Epoch 89/100\n",
            "200/200 [==============================] - 1s 5ms/step - loss: 4.1494e-06 - accuracy: 1.0000 - val_loss: 1.1820 - val_accuracy: 0.8530\n",
            "Epoch 90/100\n",
            "200/200 [==============================] - 1s 5ms/step - loss: 3.8486e-06 - accuracy: 1.0000 - val_loss: 1.1908 - val_accuracy: 0.8530\n",
            "Epoch 91/100\n",
            "200/200 [==============================] - 1s 4ms/step - loss: 3.4612e-06 - accuracy: 1.0000 - val_loss: 1.2012 - val_accuracy: 0.8550\n",
            "Epoch 92/100\n",
            "200/200 [==============================] - 1s 4ms/step - loss: 3.2249e-06 - accuracy: 1.0000 - val_loss: 1.2129 - val_accuracy: 0.8540\n",
            "Epoch 93/100\n",
            "200/200 [==============================] - 1s 4ms/step - loss: 2.9228e-06 - accuracy: 1.0000 - val_loss: 1.2223 - val_accuracy: 0.8550\n",
            "Epoch 94/100\n",
            "200/200 [==============================] - 1s 4ms/step - loss: 2.5629e-06 - accuracy: 1.0000 - val_loss: 1.2323 - val_accuracy: 0.8560\n",
            "Epoch 95/100\n",
            "200/200 [==============================] - 1s 4ms/step - loss: 2.3828e-06 - accuracy: 1.0000 - val_loss: 1.2405 - val_accuracy: 0.8550\n",
            "Epoch 96/100\n",
            "200/200 [==============================] - 1s 4ms/step - loss: 2.1264e-06 - accuracy: 1.0000 - val_loss: 1.2511 - val_accuracy: 0.8540\n",
            "Epoch 97/100\n",
            "200/200 [==============================] - 1s 4ms/step - loss: 1.9870e-06 - accuracy: 1.0000 - val_loss: 1.2622 - val_accuracy: 0.8550\n",
            "Epoch 98/100\n",
            "200/200 [==============================] - 1s 4ms/step - loss: 1.7716e-06 - accuracy: 1.0000 - val_loss: 1.2717 - val_accuracy: 0.8550\n",
            "Epoch 99/100\n",
            "200/200 [==============================] - 1s 4ms/step - loss: 1.6353e-06 - accuracy: 1.0000 - val_loss: 1.2830 - val_accuracy: 0.8520\n",
            "Epoch 100/100\n",
            "200/200 [==============================] - 1s 4ms/step - loss: 1.4563e-06 - accuracy: 1.0000 - val_loss: 1.2930 - val_accuracy: 0.8520\n"
          ],
          "name": "stdout"
        }
      ]
    },
    {
      "cell_type": "code",
      "metadata": {
        "colab": {
          "base_uri": "https://localhost:8080/",
          "height": 513
        },
        "id": "N0UPuNwQ-epW",
        "outputId": "326af858-a205-4892-c302-ea5943f69dac"
      },
      "source": [
        "# plot \n",
        "\n",
        "#history for loss\n",
        "plt.plot(history.history[\"loss\"],label=\"train set\")\n",
        "plt.plot(history.history[\"val_loss\"],label=\"validation set\")\n",
        "plt.legend()\n",
        "plt.show()\n",
        "\n",
        "# summarize history for accuracy\n",
        "plt.plot(history.history[\"accuracy\"],label=\"train set\")\n",
        "plt.plot(history.history[\"val_accuracy\"], label=\"validation set\")\n",
        "plt.legend()\n",
        "plt.show()\n"
      ],
      "execution_count": null,
      "outputs": [
        {
          "output_type": "display_data",
          "data": {
            "image/png": "[encoded data removed]",
            "text/plain": [
              "<Figure size 432x288 with 1 Axes>"
            ]
          },
          "metadata": {
            "tags": []
          }
        },
        {
          "output_type": "display_data",
          "data": {
            "image/png": "[encoded data removed]",
            "text/plain": [
              "<Figure size 432x288 with 1 Axes>"
            ]
          },
          "metadata": {
            "tags": []
          }
        }
      ]
    },
    {
      "cell_type": "markdown",
      "metadata": {
        "id": "_wA7o9_DCCT5"
      },
      "source": [
        "However it seems like there is very few differences. This is why we will try another model. \n",
        "\n",
        "So far, the best results were with SGD with learning rate at 10e-4 and Adam at learning rate 10e-5 with a \"simple\" neural network. Now, instead of using simple neural networks, we will use Convolutional Neural Network (CNN) in the second part."
      ]
    },
    {
      "cell_type": "markdown",
      "metadata": {
        "id": "t2Rq35SkCHN_"
      },
      "source": [
        "## **Convolutional Neural Network**"
      ]
    },
    {
      "cell_type": "markdown",
      "metadata": {
        "id": "8c9b4cVT-I2n"
      },
      "source": [
        "CNN are different from simple NN in many ways, including the shape of the input. This is why we must preprocess the data in order for it to fit in the CNN. Namely, we have to make sure the images have shape (28, 28, 1)."
      ]
    },
    {
      "cell_type": "code",
      "metadata": {
        "colab": {
          "base_uri": "https://localhost:8080/"
        },
        "id": "kLZLuOSg3AZj",
        "outputId": "b333e8c7-de21-4382-a271-e13d50ee469b"
      },
      "source": [
        "# Preprocessing the data for CNN\n",
        "\n",
        "x_train = [norm_train[i].reshape(28,28) for i in range(len(norm_train))]\n",
        "x_test = [norm_test[i].reshape(28,28) for i in range(len(norm_test))]\n",
        "\n",
        "# Make sure images have shape (28, 28, 1)\n",
        "x_train = np.expand_dims(x_train, -1)\n",
        "x_test = np.expand_dims(x_test, -1)\n",
        "print(\"x_train shape:\", x_train.shape)\n",
        "print(x_train.shape[0], \"train samples\")\n",
        "print(x_test.shape[0], \"test samples\")"
      ],
      "execution_count": null,
      "outputs": [
        {
          "output_type": "stream",
          "text": [
            "x_train shape: (2000, 28, 28, 1)\n",
            "2000 train samples\n",
            "1000 test samples\n"
          ],
          "name": "stdout"
        }
      ]
    },
    {
      "cell_type": "markdown",
      "metadata": {
        "id": "qdUDofR0Ecpk"
      },
      "source": [
        "### Basic parameters of CNN"
      ]
    },
    {
      "cell_type": "markdown",
      "metadata": {
        "id": "RFcm4pjgEcpy"
      },
      "source": [
        "Now that our data has been preprocessed, we can try to implement our first CNN.\n",
        "\n",
        "We use two hidden layers of (32), (64), each activated by a ReLU activation function, and the ouput is activated by sigmoid. We also use pooling in order to reduce the size of the images.\n",
        "\n",
        "We first do 15 epoch in order to see how the CNN works with the Adam optimizer and its default parameters.\n"
      ]
    },
    {
      "cell_type": "code",
      "metadata": {
        "colab": {
          "base_uri": "https://localhost:8080/"
        },
        "id": "2_DULPkVEcpy",
        "outputId": "845fb2db-d644-4f63-a91b-a4bdba935258"
      },
      "source": [
        "# Model / data parameters\n",
        "num_classes = 2\n",
        "input_shape = (28, 28, 1)\n",
        "\n",
        "model = Sequential(\n",
        "    [\n",
        "        Input(shape=input_shape),\n",
        "        layers.Conv2D(32, kernel_size=(3, 3), activation=\"relu\"),\n",
        "        layers.MaxPooling2D(pool_size=(2, 2)),\n",
        "        layers.Conv2D(64, kernel_size=(3, 3), activation=\"relu\"),\n",
        "        layers.MaxPooling2D(pool_size=(2, 2)),\n",
        "        layers.Flatten(),\n",
        "        layers.Dense(num_classes, activation=\"sigmoid\"),\n",
        "    ]\n",
        ")\n",
        "\n",
        "model.summary()"
      ],
      "execution_count": null,
      "outputs": [
        {
          "output_type": "stream",
          "text": [
            "Model: \"sequential_2\"\n",
            "_________________________________________________________________\n",
            "Layer (type)                 Output Shape              Param #   \n",
            "=================================================================\n",
            "conv2d_4 (Conv2D)            (None, 26, 26, 32)        320       \n",
            "_________________________________________________________________\n",
            "max_pooling2d_4 (MaxPooling2 (None, 13, 13, 32)        0         \n",
            "_________________________________________________________________\n",
            "conv2d_5 (Conv2D)            (None, 11, 11, 64)        18496     \n",
            "_________________________________________________________________\n",
            "max_pooling2d_5 (MaxPooling2 (None, 5, 5, 64)          0         \n",
            "_________________________________________________________________\n",
            "flatten_2 (Flatten)          (None, 1600)              0         \n",
            "_________________________________________________________________\n",
            "dense_2 (Dense)              (None, 2)                 3202      \n",
            "=================================================================\n",
            "Total params: 22,018\n",
            "Trainable params: 22,018\n",
            "Non-trainable params: 0\n",
            "_________________________________________________________________\n"
          ],
          "name": "stdout"
        }
      ]
    },
    {
      "cell_type": "code",
      "metadata": {
        "colab": {
          "base_uri": "https://localhost:8080/"
        },
        "id": "Oq7aqj3EEcpz",
        "outputId": "f35d21cf-bcf6-4e38-b523-52263d068f7c"
      },
      "source": [
        "batch_size = 10\n",
        "epochs = 15\n",
        "\n",
        "opt = optimizers.Adam(learning_rate=0.001)\n",
        "model.compile(loss='binary_crossentropy', optimizer=opt, metrics=['accuracy'])\n",
        "\n",
        "history = model.fit(x_train, train_labels, batch_size=batch_size, epochs=epochs, validation_data =(x_test,test_labels))"
      ],
      "execution_count": null,
      "outputs": [
        {
          "output_type": "stream",
          "text": [
            "Epoch 1/15\n",
            "200/200 [==============================] - 3s 13ms/step - loss: 0.4854 - accuracy: 0.7569 - val_loss: 0.4327 - val_accuracy: 0.8190\n",
            "Epoch 2/15\n",
            "200/200 [==============================] - 2s 12ms/step - loss: 0.3032 - accuracy: 0.8765 - val_loss: 0.3112 - val_accuracy: 0.8850\n",
            "Epoch 3/15\n",
            "200/200 [==============================] - 2s 12ms/step - loss: 0.1996 - accuracy: 0.9240 - val_loss: 0.2856 - val_accuracy: 0.8860\n",
            "Epoch 4/15\n",
            "200/200 [==============================] - 2s 12ms/step - loss: 0.1704 - accuracy: 0.9387 - val_loss: 0.2776 - val_accuracy: 0.8970\n",
            "Epoch 5/15\n",
            "200/200 [==============================] - 2s 12ms/step - loss: 0.1449 - accuracy: 0.9487 - val_loss: 0.3304 - val_accuracy: 0.8730\n",
            "Epoch 6/15\n",
            "200/200 [==============================] - 2s 12ms/step - loss: 0.1225 - accuracy: 0.9636 - val_loss: 0.2759 - val_accuracy: 0.8860\n",
            "Epoch 7/15\n",
            "200/200 [==============================] - 2s 12ms/step - loss: 0.0974 - accuracy: 0.9703 - val_loss: 0.2851 - val_accuracy: 0.8860\n",
            "Epoch 8/15\n",
            "200/200 [==============================] - 2s 12ms/step - loss: 0.0777 - accuracy: 0.9778 - val_loss: 0.3156 - val_accuracy: 0.8970\n",
            "Epoch 9/15\n",
            "200/200 [==============================] - 2s 12ms/step - loss: 0.0802 - accuracy: 0.9700 - val_loss: 0.3335 - val_accuracy: 0.8940\n",
            "Epoch 10/15\n",
            "200/200 [==============================] - 3s 13ms/step - loss: 0.0496 - accuracy: 0.9905 - val_loss: 0.3250 - val_accuracy: 0.9060\n",
            "Epoch 11/15\n",
            "200/200 [==============================] - 2s 12ms/step - loss: 0.0469 - accuracy: 0.9841 - val_loss: 0.3406 - val_accuracy: 0.8990\n",
            "Epoch 12/15\n",
            "200/200 [==============================] - 2s 12ms/step - loss: 0.0254 - accuracy: 0.9956 - val_loss: 0.4119 - val_accuracy: 0.8800\n",
            "Epoch 13/15\n",
            "200/200 [==============================] - 2s 12ms/step - loss: 0.0220 - accuracy: 0.9953 - val_loss: 0.3633 - val_accuracy: 0.8940\n",
            "Epoch 14/15\n",
            "200/200 [==============================] - 3s 13ms/step - loss: 0.0112 - accuracy: 0.9988 - val_loss: 0.3973 - val_accuracy: 0.8940\n",
            "Epoch 15/15\n",
            "200/200 [==============================] - 2s 12ms/step - loss: 0.0083 - accuracy: 0.9992 - val_loss: 0.4681 - val_accuracy: 0.9050\n"
          ],
          "name": "stdout"
        }
      ]
    },
    {
      "cell_type": "code",
      "metadata": {
        "colab": {
          "base_uri": "https://localhost:8080/",
          "height": 513
        },
        "id": "d-ApWnc8Ecp0",
        "outputId": "11b3497c-e276-451b-f5be-1f7a74f4a69c"
      },
      "source": [
        "# plot \n",
        "\n",
        "#history for loss\n",
        "plt.plot(history.history[\"loss\"],label=\"train set\")\n",
        "plt.plot(history.history[\"val_loss\"],label=\"validation set\")\n",
        "plt.legend()\n",
        "plt.show()\n",
        "\n",
        "# summarize history for accuracy\n",
        "plt.plot(history.history[\"accuracy\"],label=\"train set\")\n",
        "plt.plot(history.history[\"val_accuracy\"], label=\"validation set\")\n",
        "plt.legend()\n",
        "plt.show()\n"
      ],
      "execution_count": null,
      "outputs": [
        {
          "output_type": "display_data",
          "data": {
            "image/png": "[encoded data removed]",
            "text/plain": [
              "<Figure size 432x288 with 1 Axes>"
            ]
          },
          "metadata": {
            "tags": [],
            "needs_background": "light"
          }
        },
        {
          "output_type": "display_data",
          "data": {
            "image/png": "[encoded data removed]",
            "text/plain": [
              "<Figure size 432x288 with 1 Axes>"
            ]
          },
          "metadata": {
            "tags": [],
            "needs_background": "light"
          }
        }
      ]
    },
    {
      "cell_type": "markdown",
      "metadata": {
        "id": "tXzKLXMsEcp0"
      },
      "source": [
        "We can already see that the results are better with a convolutional network. We went from an accuracy of 0.85 to 0.90. However, the loss is unstable and the validation loss increases. It means we're in a case of overfitting."
      ]
    },
    {
      "cell_type": "markdown",
      "metadata": {
        "id": "EJV9pQx06Enu"
      },
      "source": [
        "### Dropout"
      ]
    },
    {
      "cell_type": "markdown",
      "metadata": {
        "id": "kVl-YxN1_GlZ"
      },
      "source": [
        "We will now also use the function Dropout to prevent overfitting. All the other parameters stay the same."
      ]
    },
    {
      "cell_type": "code",
      "metadata": {
        "colab": {
          "base_uri": "https://localhost:8080/"
        },
        "id": "wzvy7uQBItK1",
        "outputId": "9a23eaeb-5bcf-4687-b875-0f8a920ae673"
      },
      "source": [
        "# Model / data parameters\n",
        "num_classes = 2\n",
        "input_shape = (28, 28, 1)\n",
        "\n",
        "model = Sequential(\n",
        "    [\n",
        "        Input(shape=input_shape),\n",
        "        layers.Conv2D(32, kernel_size=(3, 3), activation=\"relu\"),\n",
        "        layers.MaxPooling2D(pool_size=(2, 2)),\n",
        "        layers.Conv2D(64, kernel_size=(3, 3), activation=\"relu\"),\n",
        "        layers.MaxPooling2D(pool_size=(2, 2)),\n",
        "        layers.Flatten(),\n",
        "        layers.Dropout(0.5),\n",
        "        layers.Dense(num_classes, activation=\"sigmoid\"),\n",
        "    ]\n",
        ")\n",
        "\n",
        "model.summary()"
      ],
      "execution_count": null,
      "outputs": [
        {
          "output_type": "stream",
          "text": [
            "Model: \"sequential_1\"\n",
            "_________________________________________________________________\n",
            "Layer (type)                 Output Shape              Param #   \n",
            "=================================================================\n",
            "conv2d_2 (Conv2D)            (None, 26, 26, 32)        320       \n",
            "_________________________________________________________________\n",
            "max_pooling2d_2 (MaxPooling2 (None, 13, 13, 32)        0         \n",
            "_________________________________________________________________\n",
            "conv2d_3 (Conv2D)            (None, 11, 11, 64)        18496     \n",
            "_________________________________________________________________\n",
            "max_pooling2d_3 (MaxPooling2 (None, 5, 5, 64)          0         \n",
            "_________________________________________________________________\n",
            "flatten_1 (Flatten)          (None, 1600)              0         \n",
            "_________________________________________________________________\n",
            "dropout_1 (Dropout)          (None, 1600)              0         \n",
            "_________________________________________________________________\n",
            "dense_1 (Dense)              (None, 2)                 3202      \n",
            "=================================================================\n",
            "Total params: 22,018\n",
            "Trainable params: 22,018\n",
            "Non-trainable params: 0\n",
            "_________________________________________________________________\n"
          ],
          "name": "stdout"
        }
      ]
    },
    {
      "cell_type": "code",
      "metadata": {
        "colab": {
          "base_uri": "https://localhost:8080/"
        },
        "id": "haqDZaKtPyOa",
        "outputId": "7bc0a528-f858-4795-c366-24f48c2e1917"
      },
      "source": [
        "batch_size = 10\n",
        "epochs = 15\n",
        "\n",
        "model.compile(loss=\"categorical_crossentropy\", optimizer=\"adam\", metrics=[\"accuracy\"])\n",
        "\n",
        "history = model.fit(x_train, train_labels, batch_size=batch_size, epochs=epochs, validation_data =(x_test,test_labels))"
      ],
      "execution_count": null,
      "outputs": [
        {
          "output_type": "stream",
          "text": [
            "Epoch 1/15\n",
            "200/200 [==============================] - 3s 14ms/step - loss: 0.4744 - accuracy: 0.7767 - val_loss: 0.3484 - val_accuracy: 0.8720\n",
            "Epoch 2/15\n",
            "200/200 [==============================] - 2s 12ms/step - loss: 0.3226 - accuracy: 0.8729 - val_loss: 0.3064 - val_accuracy: 0.8890\n",
            "Epoch 3/15\n",
            "200/200 [==============================] - 3s 13ms/step - loss: 0.2358 - accuracy: 0.9062 - val_loss: 0.2923 - val_accuracy: 0.8890\n",
            "Epoch 4/15\n",
            "200/200 [==============================] - 3s 13ms/step - loss: 0.2087 - accuracy: 0.9191 - val_loss: 0.2705 - val_accuracy: 0.8960\n",
            "Epoch 5/15\n",
            "200/200 [==============================] - 3s 13ms/step - loss: 0.1811 - accuracy: 0.9286 - val_loss: 0.2609 - val_accuracy: 0.9020\n",
            "Epoch 6/15\n",
            "200/200 [==============================] - 2s 12ms/step - loss: 0.1611 - accuracy: 0.9380 - val_loss: 0.2550 - val_accuracy: 0.9070\n",
            "Epoch 7/15\n",
            "200/200 [==============================] - 2s 12ms/step - loss: 0.1377 - accuracy: 0.9517 - val_loss: 0.2790 - val_accuracy: 0.9020\n",
            "Epoch 8/15\n",
            "200/200 [==============================] - 3s 13ms/step - loss: 0.1318 - accuracy: 0.9482 - val_loss: 0.2642 - val_accuracy: 0.9030\n",
            "Epoch 9/15\n",
            "200/200 [==============================] - 3s 13ms/step - loss: 0.1473 - accuracy: 0.9448 - val_loss: 0.2609 - val_accuracy: 0.9050\n",
            "Epoch 10/15\n",
            "200/200 [==============================] - 3s 13ms/step - loss: 0.1129 - accuracy: 0.9653 - val_loss: 0.2773 - val_accuracy: 0.9110\n",
            "Epoch 11/15\n",
            "200/200 [==============================] - 2s 12ms/step - loss: 0.0935 - accuracy: 0.9706 - val_loss: 0.2995 - val_accuracy: 0.8950\n",
            "Epoch 12/15\n",
            "200/200 [==============================] - 3s 13ms/step - loss: 0.0971 - accuracy: 0.9652 - val_loss: 0.2997 - val_accuracy: 0.9010\n",
            "Epoch 13/15\n",
            "200/200 [==============================] - 3s 13ms/step - loss: 0.0892 - accuracy: 0.9704 - val_loss: 0.2867 - val_accuracy: 0.9060\n",
            "Epoch 14/15\n",
            "200/200 [==============================] - 2s 12ms/step - loss: 0.0867 - accuracy: 0.9691 - val_loss: 0.3043 - val_accuracy: 0.9060\n",
            "Epoch 15/15\n",
            "200/200 [==============================] - 3s 13ms/step - loss: 0.0775 - accuracy: 0.9735 - val_loss: 0.3017 - val_accuracy: 0.9090\n"
          ],
          "name": "stdout"
        }
      ]
    },
    {
      "cell_type": "code",
      "metadata": {
        "colab": {
          "base_uri": "https://localhost:8080/",
          "height": 513
        },
        "id": "9FdlKYvx5eLH",
        "outputId": "f89a2c19-fabd-49bf-d007-91c0ed571392"
      },
      "source": [
        "# plot \n",
        "\n",
        "#history for loss\n",
        "plt.plot(history.history[\"loss\"],label=\"train set\")\n",
        "plt.plot(history.history[\"val_loss\"],label=\"validation set\")\n",
        "plt.legend()\n",
        "plt.show()\n",
        "\n",
        "# summarize history for accuracy\n",
        "plt.plot(history.history[\"accuracy\"],label=\"train set\")\n",
        "plt.plot(history.history[\"val_accuracy\"], label=\"validation set\")\n",
        "plt.legend()\n",
        "plt.show()\n"
      ],
      "execution_count": null,
      "outputs": [
        {
          "output_type": "display_data",
          "data": {
            "image/png": "[encoded data removed]",
            "text/plain": [
              "<Figure size 432x288 with 1 Axes>"
            ]
          },
          "metadata": {
            "tags": [],
            "needs_background": "light"
          }
        },
        {
          "output_type": "display_data",
          "data": {
            "image/png": "[encoded data removed]",
            "text/plain": [
              "<Figure size 432x288 with 1 Axes>"
            ]
          },
          "metadata": {
            "tags": [],
            "needs_background": "light"
          }
        }
      ]
    },
    {
      "cell_type": "markdown",
      "metadata": {
        "id": "t8bdNrdF63pO"
      },
      "source": [
        "With the Dropout function, we can see that the loss does not increase anymore. Since we only did 15 epoch, we can see how the CNN develops after a greater number of epoch."
      ]
    },
    {
      "cell_type": "markdown",
      "metadata": {
        "id": "INSS9LbY6M2H"
      },
      "source": [
        "### Increasing the number of epoch"
      ]
    },
    {
      "cell_type": "markdown",
      "metadata": {
        "id": "8dxkBMTU6M2I"
      },
      "source": [
        "We now increase the number of epoch to 50 to see if the accuracy increases or if there is overfitting."
      ]
    },
    {
      "cell_type": "code",
      "metadata": {
        "colab": {
          "base_uri": "https://localhost:8080/"
        },
        "id": "crZOE0E46M2I",
        "outputId": "123d5451-b47a-465d-e817-736f2a858115"
      },
      "source": [
        "# Model / data parameters\n",
        "num_classes = 2\n",
        "input_shape = (28, 28, 1)\n",
        "\n",
        "model = Sequential(\n",
        "    [\n",
        "        Input(shape=input_shape),\n",
        "        layers.Conv2D(32, kernel_size=(3, 3), activation=\"relu\"),\n",
        "        layers.MaxPooling2D(pool_size=(2, 2)),\n",
        "        layers.Conv2D(64, kernel_size=(3, 3), activation=\"relu\"),\n",
        "        layers.MaxPooling2D(pool_size=(2, 2)),\n",
        "        layers.Flatten(),\n",
        "        layers.Dropout(0.5),\n",
        "        layers.Dense(num_classes, activation=\"sigmoid\"),\n",
        "    ]\n",
        ")\n",
        "\n",
        "model.summary()"
      ],
      "execution_count": null,
      "outputs": [
        {
          "output_type": "stream",
          "text": [
            "Model: \"sequential_3\"\n",
            "_________________________________________________________________\n",
            "Layer (type)                 Output Shape              Param #   \n",
            "=================================================================\n",
            "conv2d_6 (Conv2D)            (None, 26, 26, 32)        320       \n",
            "_________________________________________________________________\n",
            "max_pooling2d_6 (MaxPooling2 (None, 13, 13, 32)        0         \n",
            "_________________________________________________________________\n",
            "conv2d_7 (Conv2D)            (None, 11, 11, 64)        18496     \n",
            "_________________________________________________________________\n",
            "max_pooling2d_7 (MaxPooling2 (None, 5, 5, 64)          0         \n",
            "_________________________________________________________________\n",
            "flatten_3 (Flatten)          (None, 1600)              0         \n",
            "_________________________________________________________________\n",
            "dropout_2 (Dropout)          (None, 1600)              0         \n",
            "_________________________________________________________________\n",
            "dense_3 (Dense)              (None, 2)                 3202      \n",
            "=================================================================\n",
            "Total params: 22,018\n",
            "Trainable params: 22,018\n",
            "Non-trainable params: 0\n",
            "_________________________________________________________________\n"
          ],
          "name": "stdout"
        }
      ]
    },
    {
      "cell_type": "code",
      "metadata": {
        "colab": {
          "base_uri": "https://localhost:8080/"
        },
        "id": "E0JyxMZH6M2K",
        "outputId": "73caadc4-7b7c-4f74-d761-385bcf5a3aaf"
      },
      "source": [
        "batch_size = 10\n",
        "epochs = 50\n",
        "\n",
        "model.compile(loss=\"categorical_crossentropy\", optimizer=\"adam\", metrics=[\"accuracy\"])\n",
        "\n",
        "history = model.fit(x_train, train_labels, batch_size=batch_size, epochs=epochs, validation_data =(x_test,test_labels))"
      ],
      "execution_count": null,
      "outputs": [
        {
          "output_type": "stream",
          "text": [
            "Epoch 1/50\n",
            "200/200 [==============================] - 3s 13ms/step - loss: 0.5368 - accuracy: 0.7360 - val_loss: 0.3680 - val_accuracy: 0.8680\n",
            "Epoch 2/50\n",
            "200/200 [==============================] - 2s 12ms/step - loss: 0.2943 - accuracy: 0.8770 - val_loss: 0.3133 - val_accuracy: 0.8690\n",
            "Epoch 3/50\n",
            "200/200 [==============================] - 2s 12ms/step - loss: 0.2389 - accuracy: 0.9126 - val_loss: 0.2749 - val_accuracy: 0.8930\n",
            "Epoch 4/50\n",
            "200/200 [==============================] - 2s 12ms/step - loss: 0.2170 - accuracy: 0.9176 - val_loss: 0.2888 - val_accuracy: 0.8930\n",
            "Epoch 5/50\n",
            "200/200 [==============================] - 2s 12ms/step - loss: 0.2023 - accuracy: 0.9224 - val_loss: 0.2502 - val_accuracy: 0.9060\n",
            "Epoch 6/50\n",
            "200/200 [==============================] - 2s 12ms/step - loss: 0.1740 - accuracy: 0.9349 - val_loss: 0.2607 - val_accuracy: 0.8980\n",
            "Epoch 7/50\n",
            "200/200 [==============================] - 2s 12ms/step - loss: 0.1557 - accuracy: 0.9461 - val_loss: 0.2307 - val_accuracy: 0.9160\n",
            "Epoch 8/50\n",
            "200/200 [==============================] - 2s 12ms/step - loss: 0.1413 - accuracy: 0.9464 - val_loss: 0.2435 - val_accuracy: 0.9120\n",
            "Epoch 9/50\n",
            "200/200 [==============================] - 2s 12ms/step - loss: 0.1119 - accuracy: 0.9580 - val_loss: 0.2526 - val_accuracy: 0.9000\n",
            "Epoch 10/50\n",
            "200/200 [==============================] - 2s 12ms/step - loss: 0.1348 - accuracy: 0.9519 - val_loss: 0.2551 - val_accuracy: 0.9170\n",
            "Epoch 11/50\n",
            "200/200 [==============================] - 2s 12ms/step - loss: 0.1014 - accuracy: 0.9594 - val_loss: 0.2351 - val_accuracy: 0.9090\n",
            "Epoch 12/50\n",
            "200/200 [==============================] - 2s 12ms/step - loss: 0.0899 - accuracy: 0.9673 - val_loss: 0.2423 - val_accuracy: 0.9270\n",
            "Epoch 13/50\n",
            "200/200 [==============================] - 2s 12ms/step - loss: 0.0953 - accuracy: 0.9651 - val_loss: 0.2363 - val_accuracy: 0.9200\n",
            "Epoch 14/50\n",
            "200/200 [==============================] - 2s 12ms/step - loss: 0.0906 - accuracy: 0.9636 - val_loss: 0.2570 - val_accuracy: 0.9230\n",
            "Epoch 15/50\n",
            "200/200 [==============================] - 3s 13ms/step - loss: 0.0712 - accuracy: 0.9688 - val_loss: 0.2462 - val_accuracy: 0.9240\n",
            "Epoch 16/50\n",
            "200/200 [==============================] - 3s 14ms/step - loss: 0.0570 - accuracy: 0.9822 - val_loss: 0.2468 - val_accuracy: 0.9280\n",
            "Epoch 17/50\n",
            "200/200 [==============================] - 3s 13ms/step - loss: 0.0603 - accuracy: 0.9776 - val_loss: 0.2540 - val_accuracy: 0.9240\n",
            "Epoch 18/50\n",
            "200/200 [==============================] - 3s 13ms/step - loss: 0.0478 - accuracy: 0.9854 - val_loss: 0.3274 - val_accuracy: 0.9110\n",
            "Epoch 19/50\n",
            "200/200 [==============================] - 3s 13ms/step - loss: 0.0650 - accuracy: 0.9768 - val_loss: 0.2922 - val_accuracy: 0.9260\n",
            "Epoch 20/50\n",
            "200/200 [==============================] - 3s 13ms/step - loss: 0.0589 - accuracy: 0.9770 - val_loss: 0.2898 - val_accuracy: 0.9250\n",
            "Epoch 21/50\n",
            "200/200 [==============================] - 2s 12ms/step - loss: 0.0531 - accuracy: 0.9812 - val_loss: 0.2855 - val_accuracy: 0.9260\n",
            "Epoch 22/50\n",
            "200/200 [==============================] - 2s 12ms/step - loss: 0.0369 - accuracy: 0.9884 - val_loss: 0.2939 - val_accuracy: 0.9300\n",
            "Epoch 23/50\n",
            "200/200 [==============================] - 2s 12ms/step - loss: 0.0527 - accuracy: 0.9804 - val_loss: 0.3615 - val_accuracy: 0.9100\n",
            "Epoch 24/50\n",
            "200/200 [==============================] - 2s 12ms/step - loss: 0.0631 - accuracy: 0.9771 - val_loss: 0.2780 - val_accuracy: 0.9170\n",
            "Epoch 25/50\n",
            "200/200 [==============================] - 2s 12ms/step - loss: 0.0512 - accuracy: 0.9815 - val_loss: 0.2924 - val_accuracy: 0.9290\n",
            "Epoch 26/50\n",
            "200/200 [==============================] - 2s 12ms/step - loss: 0.0350 - accuracy: 0.9886 - val_loss: 0.2893 - val_accuracy: 0.9130\n",
            "Epoch 27/50\n",
            "200/200 [==============================] - 2s 12ms/step - loss: 0.0327 - accuracy: 0.9885 - val_loss: 0.2589 - val_accuracy: 0.9210\n",
            "Epoch 28/50\n",
            "200/200 [==============================] - 3s 13ms/step - loss: 0.0385 - accuracy: 0.9848 - val_loss: 0.2919 - val_accuracy: 0.9230\n",
            "Epoch 29/50\n",
            "200/200 [==============================] - 2s 12ms/step - loss: 0.0433 - accuracy: 0.9849 - val_loss: 0.2913 - val_accuracy: 0.9230\n",
            "Epoch 30/50\n",
            "200/200 [==============================] - 2s 12ms/step - loss: 0.0259 - accuracy: 0.9907 - val_loss: 0.3319 - val_accuracy: 0.9120\n",
            "Epoch 31/50\n",
            "200/200 [==============================] - 3s 13ms/step - loss: 0.0277 - accuracy: 0.9911 - val_loss: 0.3055 - val_accuracy: 0.9280\n",
            "Epoch 32/50\n",
            "200/200 [==============================] - 2s 12ms/step - loss: 0.0537 - accuracy: 0.9787 - val_loss: 0.3175 - val_accuracy: 0.9280\n",
            "Epoch 33/50\n",
            "200/200 [==============================] - 2s 12ms/step - loss: 0.0181 - accuracy: 0.9946 - val_loss: 0.3853 - val_accuracy: 0.9180\n",
            "Epoch 34/50\n",
            "200/200 [==============================] - 2s 12ms/step - loss: 0.0384 - accuracy: 0.9843 - val_loss: 0.2844 - val_accuracy: 0.9250\n",
            "Epoch 35/50\n",
            "200/200 [==============================] - 2s 12ms/step - loss: 0.0333 - accuracy: 0.9860 - val_loss: 0.3094 - val_accuracy: 0.9260\n",
            "Epoch 36/50\n",
            "200/200 [==============================] - 3s 13ms/step - loss: 0.0289 - accuracy: 0.9926 - val_loss: 0.3536 - val_accuracy: 0.9240\n",
            "Epoch 37/50\n",
            "200/200 [==============================] - 2s 12ms/step - loss: 0.0225 - accuracy: 0.9925 - val_loss: 0.3360 - val_accuracy: 0.9200\n",
            "Epoch 38/50\n",
            "200/200 [==============================] - 2s 12ms/step - loss: 0.0283 - accuracy: 0.9904 - val_loss: 0.3171 - val_accuracy: 0.9280\n",
            "Epoch 39/50\n",
            "200/200 [==============================] - 3s 13ms/step - loss: 0.0227 - accuracy: 0.9909 - val_loss: 0.3469 - val_accuracy: 0.9270\n",
            "Epoch 40/50\n",
            "200/200 [==============================] - 2s 12ms/step - loss: 0.0260 - accuracy: 0.9922 - val_loss: 0.3247 - val_accuracy: 0.9230\n",
            "Epoch 41/50\n",
            "200/200 [==============================] - 2s 12ms/step - loss: 0.0365 - accuracy: 0.9848 - val_loss: 0.3270 - val_accuracy: 0.9270\n",
            "Epoch 42/50\n",
            "200/200 [==============================] - 2s 12ms/step - loss: 0.0244 - accuracy: 0.9919 - val_loss: 0.3239 - val_accuracy: 0.9200\n",
            "Epoch 43/50\n",
            "200/200 [==============================] - 2s 12ms/step - loss: 0.0163 - accuracy: 0.9940 - val_loss: 0.3229 - val_accuracy: 0.9290\n",
            "Epoch 44/50\n",
            "200/200 [==============================] - 2s 12ms/step - loss: 0.0323 - accuracy: 0.9884 - val_loss: 0.3193 - val_accuracy: 0.9300\n",
            "Epoch 45/50\n",
            "200/200 [==============================] - 2s 12ms/step - loss: 0.0157 - accuracy: 0.9953 - val_loss: 0.3606 - val_accuracy: 0.9290\n",
            "Epoch 46/50\n",
            "200/200 [==============================] - 2s 12ms/step - loss: 0.0470 - accuracy: 0.9832 - val_loss: 0.3891 - val_accuracy: 0.9290\n",
            "Epoch 47/50\n",
            "200/200 [==============================] - 2s 12ms/step - loss: 0.0451 - accuracy: 0.9821 - val_loss: 0.4078 - val_accuracy: 0.9270\n",
            "Epoch 48/50\n",
            "200/200 [==============================] - 2s 12ms/step - loss: 0.0269 - accuracy: 0.9912 - val_loss: 0.3474 - val_accuracy: 0.9250\n",
            "Epoch 49/50\n",
            "200/200 [==============================] - 2s 12ms/step - loss: 0.0127 - accuracy: 0.9951 - val_loss: 0.4687 - val_accuracy: 0.9130\n",
            "Epoch 50/50\n",
            "200/200 [==============================] - 2s 12ms/step - loss: 0.0235 - accuracy: 0.9910 - val_loss: 0.3648 - val_accuracy: 0.9290\n"
          ],
          "name": "stdout"
        }
      ]
    },
    {
      "cell_type": "code",
      "metadata": {
        "colab": {
          "base_uri": "https://localhost:8080/",
          "height": 514
        },
        "id": "NQiWrFAS6M2K",
        "outputId": "9b822258-a50c-425c-fd48-f9f159721081"
      },
      "source": [
        "# plot \n",
        "\n",
        "#history for loss\n",
        "plt.plot(history.history[\"loss\"],label=\"train set\")\n",
        "plt.plot(history.history[\"val_loss\"],label=\"validation set\")\n",
        "plt.legend()\n",
        "plt.show()\n",
        "\n",
        "# summarize history for accuracy\n",
        "plt.plot(history.history[\"accuracy\"],label=\"train set\")\n",
        "plt.plot(history.history[\"val_accuracy\"], label=\"validation set\")\n",
        "plt.legend()\n",
        "plt.show()\n"
      ],
      "execution_count": null,
      "outputs": [
        {
          "output_type": "display_data",
          "data": {
            "image/png": "[encoded data removed]",
            "text/plain": [
              "<Figure size 432x288 with 1 Axes>"
            ]
          },
          "metadata": {
            "tags": [],
            "needs_background": "light"
          }
        },
        {
          "output_type": "display_data",
          "data": {
            "image/png": "[encoded data removed]",
            "text/plain": [
              "<Figure size 432x288 with 1 Axes>"
            ]
          },
          "metadata": {
            "tags": [],
            "needs_background": "light"
          }
        }
      ]
    },
    {
      "cell_type": "markdown",
      "metadata": {
        "id": "esd3pGzf7B1v"
      },
      "source": [
        "The accuracy increased to 0.92 but there is obviously overfitting when we increase the number of epoch. Thus, we try to decrease the learning rate to avoid that."
      ]
    },
    {
      "cell_type": "markdown",
      "metadata": {
        "id": "BgK8V4xR_Idh"
      },
      "source": [
        "### Learning rate"
      ]
    },
    {
      "cell_type": "markdown",
      "metadata": {
        "id": "bJ5WNK-D_Idn"
      },
      "source": [
        "To avoid overfitting, we decrease the learning rate from 10e-3 to 10e-4. We increase the epoch to 70."
      ]
    },
    {
      "cell_type": "code",
      "metadata": {
        "colab": {
          "base_uri": "https://localhost:8080/"
        },
        "id": "yEmMSi5x_Ido",
        "outputId": "ab478549-6ea2-4053-b65c-203fcc137c4e"
      },
      "source": [
        "# Model / data parameters\n",
        "num_classes = 2\n",
        "input_shape = (28, 28, 1)\n",
        "\n",
        "model = Sequential(\n",
        "    [\n",
        "        Input(shape=input_shape),\n",
        "        layers.Conv2D(32, kernel_size=(3, 3), activation=\"relu\"),\n",
        "        layers.MaxPooling2D(pool_size=(2, 2)),\n",
        "        layers.Conv2D(64, kernel_size=(3, 3), activation=\"relu\"),\n",
        "        layers.MaxPooling2D(pool_size=(2, 2)),\n",
        "        layers.Flatten(),\n",
        "        layers.Dropout(0.5),\n",
        "        layers.Dense(num_classes, activation=\"sigmoid\"),\n",
        "    ]\n",
        ")\n",
        "\n",
        "model.summary()"
      ],
      "execution_count": null,
      "outputs": [
        {
          "output_type": "stream",
          "text": [
            "Model: \"sequential_9\"\n",
            "_________________________________________________________________\n",
            "Layer (type)                 Output Shape              Param #   \n",
            "=================================================================\n",
            "conv2d_18 (Conv2D)           (None, 26, 26, 32)        320       \n",
            "_________________________________________________________________\n",
            "max_pooling2d_18 (MaxPooling (None, 13, 13, 32)        0         \n",
            "_________________________________________________________________\n",
            "conv2d_19 (Conv2D)           (None, 11, 11, 64)        18496     \n",
            "_________________________________________________________________\n",
            "max_pooling2d_19 (MaxPooling (None, 5, 5, 64)          0         \n",
            "_________________________________________________________________\n",
            "flatten_9 (Flatten)          (None, 1600)              0         \n",
            "_________________________________________________________________\n",
            "dropout_8 (Dropout)          (None, 1600)              0         \n",
            "_________________________________________________________________\n",
            "dense_9 (Dense)              (None, 2)                 3202      \n",
            "=================================================================\n",
            "Total params: 22,018\n",
            "Trainable params: 22,018\n",
            "Non-trainable params: 0\n",
            "_________________________________________________________________\n"
          ],
          "name": "stdout"
        }
      ]
    },
    {
      "cell_type": "code",
      "metadata": {
        "colab": {
          "base_uri": "https://localhost:8080/"
        },
        "id": "ntOWttRf_Idp",
        "outputId": "0b9d68a2-ff03-4d42-88f2-272084008ec0"
      },
      "source": [
        "batch_size = 10\n",
        "epochs = 70\n",
        "\n",
        "opt = optimizers.Adam(learning_rate=0.0001)\n",
        "model.compile(loss='binary_crossentropy', optimizer=opt, metrics=['accuracy'])\n",
        "\n",
        "history = model.fit(x_train, train_labels, batch_size=batch_size, epochs=epochs, validation_data =(x_test,test_labels))"
      ],
      "execution_count": null,
      "outputs": [
        {
          "output_type": "stream",
          "text": [
            "Epoch 1/70\n",
            "200/200 [==============================] - 3s 13ms/step - loss: 0.6838 - accuracy: 0.5794 - val_loss: 0.5312 - val_accuracy: 0.8380\n",
            "Epoch 2/70\n",
            "200/200 [==============================] - 2s 12ms/step - loss: 0.5012 - accuracy: 0.8184 - val_loss: 0.4185 - val_accuracy: 0.8510\n",
            "Epoch 3/70\n",
            "200/200 [==============================] - 2s 12ms/step - loss: 0.4445 - accuracy: 0.8284 - val_loss: 0.3970 - val_accuracy: 0.8490\n",
            "Epoch 4/70\n",
            "200/200 [==============================] - 2s 12ms/step - loss: 0.3786 - accuracy: 0.8535 - val_loss: 0.3828 - val_accuracy: 0.8530\n",
            "Epoch 5/70\n",
            "200/200 [==============================] - 2s 12ms/step - loss: 0.3660 - accuracy: 0.8576 - val_loss: 0.3783 - val_accuracy: 0.8560\n",
            "Epoch 6/70\n",
            "200/200 [==============================] - 2s 12ms/step - loss: 0.3486 - accuracy: 0.8613 - val_loss: 0.3746 - val_accuracy: 0.8560\n",
            "Epoch 7/70\n",
            "200/200 [==============================] - 3s 13ms/step - loss: 0.3292 - accuracy: 0.8760 - val_loss: 0.3673 - val_accuracy: 0.8610\n",
            "Epoch 8/70\n",
            "200/200 [==============================] - 3s 13ms/step - loss: 0.3236 - accuracy: 0.8666 - val_loss: 0.3589 - val_accuracy: 0.8620\n",
            "Epoch 9/70\n",
            "200/200 [==============================] - 2s 12ms/step - loss: 0.3170 - accuracy: 0.8657 - val_loss: 0.3517 - val_accuracy: 0.8640\n",
            "Epoch 10/70\n",
            "200/200 [==============================] - 2s 12ms/step - loss: 0.2884 - accuracy: 0.8957 - val_loss: 0.3494 - val_accuracy: 0.8700\n",
            "Epoch 11/70\n",
            "200/200 [==============================] - 3s 13ms/step - loss: 0.3227 - accuracy: 0.8837 - val_loss: 0.3568 - val_accuracy: 0.8520\n",
            "Epoch 12/70\n",
            "200/200 [==============================] - 2s 12ms/step - loss: 0.3054 - accuracy: 0.8825 - val_loss: 0.3384 - val_accuracy: 0.8740\n",
            "Epoch 13/70\n",
            "200/200 [==============================] - 2s 12ms/step - loss: 0.2839 - accuracy: 0.8874 - val_loss: 0.3333 - val_accuracy: 0.8750\n",
            "Epoch 14/70\n",
            "200/200 [==============================] - 2s 12ms/step - loss: 0.2842 - accuracy: 0.8887 - val_loss: 0.3342 - val_accuracy: 0.8690\n",
            "Epoch 15/70\n",
            "200/200 [==============================] - 2s 12ms/step - loss: 0.2557 - accuracy: 0.9054 - val_loss: 0.3319 - val_accuracy: 0.8700\n",
            "Epoch 16/70\n",
            "200/200 [==============================] - 2s 12ms/step - loss: 0.2706 - accuracy: 0.8880 - val_loss: 0.3245 - val_accuracy: 0.8750\n",
            "Epoch 17/70\n",
            "200/200 [==============================] - 2s 12ms/step - loss: 0.2499 - accuracy: 0.8940 - val_loss: 0.3183 - val_accuracy: 0.8830\n",
            "Epoch 18/70\n",
            "200/200 [==============================] - 2s 12ms/step - loss: 0.2438 - accuracy: 0.9132 - val_loss: 0.3147 - val_accuracy: 0.8820\n",
            "Epoch 19/70\n",
            "200/200 [==============================] - 2s 12ms/step - loss: 0.2450 - accuracy: 0.9066 - val_loss: 0.3155 - val_accuracy: 0.8830\n",
            "Epoch 20/70\n",
            "200/200 [==============================] - 3s 13ms/step - loss: 0.2379 - accuracy: 0.9031 - val_loss: 0.3076 - val_accuracy: 0.8880\n",
            "Epoch 21/70\n",
            "200/200 [==============================] - 2s 12ms/step - loss: 0.2466 - accuracy: 0.8983 - val_loss: 0.3177 - val_accuracy: 0.8850\n",
            "Epoch 22/70\n",
            "200/200 [==============================] - 2s 12ms/step - loss: 0.2392 - accuracy: 0.9083 - val_loss: 0.3113 - val_accuracy: 0.8880\n",
            "Epoch 23/70\n",
            "200/200 [==============================] - 3s 13ms/step - loss: 0.2335 - accuracy: 0.9186 - val_loss: 0.2997 - val_accuracy: 0.8900\n",
            "Epoch 24/70\n",
            "200/200 [==============================] - 2s 12ms/step - loss: 0.2301 - accuracy: 0.9129 - val_loss: 0.2978 - val_accuracy: 0.8920\n",
            "Epoch 25/70\n",
            "200/200 [==============================] - 2s 12ms/step - loss: 0.2161 - accuracy: 0.9191 - val_loss: 0.2984 - val_accuracy: 0.8910\n",
            "Epoch 26/70\n",
            "200/200 [==============================] - 2s 12ms/step - loss: 0.2155 - accuracy: 0.9269 - val_loss: 0.2898 - val_accuracy: 0.8890\n",
            "Epoch 27/70\n",
            "200/200 [==============================] - 2s 12ms/step - loss: 0.2083 - accuracy: 0.9277 - val_loss: 0.2866 - val_accuracy: 0.8940\n",
            "Epoch 28/70\n",
            "200/200 [==============================] - 2s 12ms/step - loss: 0.1943 - accuracy: 0.9352 - val_loss: 0.2843 - val_accuracy: 0.8910\n",
            "Epoch 29/70\n",
            "200/200 [==============================] - 2s 12ms/step - loss: 0.1993 - accuracy: 0.9333 - val_loss: 0.2836 - val_accuracy: 0.8960\n",
            "Epoch 30/70\n",
            "200/200 [==============================] - 2s 12ms/step - loss: 0.1811 - accuracy: 0.9329 - val_loss: 0.2860 - val_accuracy: 0.8980\n",
            "Epoch 31/70\n",
            "200/200 [==============================] - 3s 13ms/step - loss: 0.1882 - accuracy: 0.9333 - val_loss: 0.2788 - val_accuracy: 0.8940\n",
            "Epoch 32/70\n",
            "200/200 [==============================] - 2s 12ms/step - loss: 0.1999 - accuracy: 0.9294 - val_loss: 0.2901 - val_accuracy: 0.8850\n",
            "Epoch 33/70\n",
            "200/200 [==============================] - 2s 12ms/step - loss: 0.1882 - accuracy: 0.9237 - val_loss: 0.2789 - val_accuracy: 0.8930\n",
            "Epoch 34/70\n",
            "200/200 [==============================] - 3s 13ms/step - loss: 0.1861 - accuracy: 0.9311 - val_loss: 0.2857 - val_accuracy: 0.8980\n",
            "Epoch 35/70\n",
            "200/200 [==============================] - 2s 12ms/step - loss: 0.1859 - accuracy: 0.9303 - val_loss: 0.2821 - val_accuracy: 0.8910\n",
            "Epoch 36/70\n",
            "200/200 [==============================] - 2s 12ms/step - loss: 0.1871 - accuracy: 0.9416 - val_loss: 0.2735 - val_accuracy: 0.8950\n",
            "Epoch 37/70\n",
            "200/200 [==============================] - 2s 12ms/step - loss: 0.1655 - accuracy: 0.9399 - val_loss: 0.2654 - val_accuracy: 0.9010\n",
            "Epoch 38/70\n",
            "200/200 [==============================] - 2s 12ms/step - loss: 0.1672 - accuracy: 0.9421 - val_loss: 0.2673 - val_accuracy: 0.8990\n",
            "Epoch 39/70\n",
            "200/200 [==============================] - 2s 12ms/step - loss: 0.1571 - accuracy: 0.9487 - val_loss: 0.2677 - val_accuracy: 0.8980\n",
            "Epoch 40/70\n",
            "200/200 [==============================] - 2s 12ms/step - loss: 0.1702 - accuracy: 0.9404 - val_loss: 0.2655 - val_accuracy: 0.9000\n",
            "Epoch 41/70\n",
            "200/200 [==============================] - 2s 12ms/step - loss: 0.1428 - accuracy: 0.9488 - val_loss: 0.2643 - val_accuracy: 0.9030\n",
            "Epoch 42/70\n",
            "200/200 [==============================] - 2s 12ms/step - loss: 0.1502 - accuracy: 0.9502 - val_loss: 0.2701 - val_accuracy: 0.8940\n",
            "Epoch 43/70\n",
            "200/200 [==============================] - 2s 12ms/step - loss: 0.1316 - accuracy: 0.9557 - val_loss: 0.2590 - val_accuracy: 0.9030\n",
            "Epoch 44/70\n",
            "200/200 [==============================] - 2s 12ms/step - loss: 0.1343 - accuracy: 0.9580 - val_loss: 0.2627 - val_accuracy: 0.9080\n",
            "Epoch 45/70\n",
            "200/200 [==============================] - 2s 12ms/step - loss: 0.1590 - accuracy: 0.9392 - val_loss: 0.2567 - val_accuracy: 0.8990\n",
            "Epoch 46/70\n",
            "200/200 [==============================] - 2s 12ms/step - loss: 0.1318 - accuracy: 0.9569 - val_loss: 0.2572 - val_accuracy: 0.9060\n",
            "Epoch 47/70\n",
            "200/200 [==============================] - 2s 12ms/step - loss: 0.1471 - accuracy: 0.9474 - val_loss: 0.2585 - val_accuracy: 0.9070\n",
            "Epoch 48/70\n",
            "200/200 [==============================] - 3s 13ms/step - loss: 0.1304 - accuracy: 0.9550 - val_loss: 0.2546 - val_accuracy: 0.9050\n",
            "Epoch 49/70\n",
            "200/200 [==============================] - 2s 12ms/step - loss: 0.1261 - accuracy: 0.9586 - val_loss: 0.2552 - val_accuracy: 0.9120\n",
            "Epoch 50/70\n",
            "200/200 [==============================] - 3s 13ms/step - loss: 0.1322 - accuracy: 0.9531 - val_loss: 0.2565 - val_accuracy: 0.8950\n",
            "Epoch 51/70\n",
            "200/200 [==============================] - 2s 12ms/step - loss: 0.1312 - accuracy: 0.9564 - val_loss: 0.2536 - val_accuracy: 0.9070\n",
            "Epoch 52/70\n",
            "200/200 [==============================] - 3s 13ms/step - loss: 0.1352 - accuracy: 0.9504 - val_loss: 0.2511 - val_accuracy: 0.9040\n",
            "Epoch 53/70\n",
            "200/200 [==============================] - 3s 13ms/step - loss: 0.1270 - accuracy: 0.9570 - val_loss: 0.2541 - val_accuracy: 0.9130\n",
            "Epoch 54/70\n",
            "200/200 [==============================] - 3s 13ms/step - loss: 0.1313 - accuracy: 0.9527 - val_loss: 0.2522 - val_accuracy: 0.9060\n",
            "Epoch 55/70\n",
            "200/200 [==============================] - 2s 12ms/step - loss: 0.1348 - accuracy: 0.9599 - val_loss: 0.2535 - val_accuracy: 0.9100\n",
            "Epoch 56/70\n",
            "200/200 [==============================] - 2s 12ms/step - loss: 0.1318 - accuracy: 0.9584 - val_loss: 0.2556 - val_accuracy: 0.8980\n",
            "Epoch 57/70\n",
            "200/200 [==============================] - 2s 12ms/step - loss: 0.1237 - accuracy: 0.9592 - val_loss: 0.2490 - val_accuracy: 0.9030\n",
            "Epoch 58/70\n",
            "200/200 [==============================] - 2s 12ms/step - loss: 0.1230 - accuracy: 0.9537 - val_loss: 0.2512 - val_accuracy: 0.9000\n",
            "Epoch 59/70\n",
            "200/200 [==============================] - 2s 12ms/step - loss: 0.1243 - accuracy: 0.9568 - val_loss: 0.2633 - val_accuracy: 0.8940\n",
            "Epoch 60/70\n",
            "200/200 [==============================] - 2s 12ms/step - loss: 0.1223 - accuracy: 0.9580 - val_loss: 0.2483 - val_accuracy: 0.9030\n",
            "Epoch 61/70\n",
            "200/200 [==============================] - 2s 12ms/step - loss: 0.1161 - accuracy: 0.9572 - val_loss: 0.2493 - val_accuracy: 0.9080\n",
            "Epoch 62/70\n",
            "200/200 [==============================] - 2s 12ms/step - loss: 0.1106 - accuracy: 0.9629 - val_loss: 0.2462 - val_accuracy: 0.9070\n",
            "Epoch 63/70\n",
            "200/200 [==============================] - 2s 12ms/step - loss: 0.1123 - accuracy: 0.9609 - val_loss: 0.2549 - val_accuracy: 0.9020\n",
            "Epoch 64/70\n",
            "200/200 [==============================] - 2s 12ms/step - loss: 0.1260 - accuracy: 0.9475 - val_loss: 0.2580 - val_accuracy: 0.9160\n",
            "Epoch 65/70\n",
            "200/200 [==============================] - 2s 12ms/step - loss: 0.1178 - accuracy: 0.9573 - val_loss: 0.2443 - val_accuracy: 0.9090\n",
            "Epoch 66/70\n",
            "200/200 [==============================] - 2s 12ms/step - loss: 0.1153 - accuracy: 0.9662 - val_loss: 0.2495 - val_accuracy: 0.9080\n",
            "Epoch 67/70\n",
            "200/200 [==============================] - 2s 12ms/step - loss: 0.1156 - accuracy: 0.9548 - val_loss: 0.2496 - val_accuracy: 0.9130\n",
            "Epoch 68/70\n",
            "200/200 [==============================] - 2s 12ms/step - loss: 0.1140 - accuracy: 0.9542 - val_loss: 0.2513 - val_accuracy: 0.9110\n",
            "Epoch 69/70\n",
            "200/200 [==============================] - 2s 12ms/step - loss: 0.1090 - accuracy: 0.9550 - val_loss: 0.2454 - val_accuracy: 0.9090\n",
            "Epoch 70/70\n",
            "200/200 [==============================] - 2s 12ms/step - loss: 0.1075 - accuracy: 0.9632 - val_loss: 0.2463 - val_accuracy: 0.9100\n"
          ],
          "name": "stdout"
        }
      ]
    },
    {
      "cell_type": "code",
      "metadata": {
        "colab": {
          "base_uri": "https://localhost:8080/",
          "height": 513
        },
        "id": "HwI9pZsk_Idp",
        "outputId": "48d26c34-d9e3-430c-be96-db7f6d5a9455"
      },
      "source": [
        "# plot \n",
        "\n",
        "#history for loss\n",
        "plt.plot(history.history[\"loss\"],label=\"train set\")\n",
        "plt.plot(history.history[\"val_loss\"],label=\"validation set\")\n",
        "plt.legend()\n",
        "plt.show()\n",
        "\n",
        "# summarize history for accuracy\n",
        "plt.plot(history.history[\"accuracy\"],label=\"train set\")\n",
        "plt.plot(history.history[\"val_accuracy\"], label=\"validation set\")\n",
        "plt.legend()\n",
        "plt.show()\n"
      ],
      "execution_count": null,
      "outputs": [
        {
          "output_type": "display_data",
          "data": {
            "image/png": "[encoded data removed]",
            "text/plain": [
              "<Figure size 432x288 with 1 Axes>"
            ]
          },
          "metadata": {
            "tags": [],
            "needs_background": "light"
          }
        },
        {
          "output_type": "display_data",
          "data": {
            "image/png": "[encoded data removed]",
            "text/plain": [
              "<Figure size 432x288 with 1 Axes>"
            ]
          },
          "metadata": {
            "tags": [],
            "needs_background": "light"
          }
        }
      ]
    },
    {
      "cell_type": "markdown",
      "metadata": {
        "id": "QZnBCMX9_Idq"
      },
      "source": [
        "We see that by decreasing the learning rate, we have removed overfitting from our model. The accuracy, however, has decreased from 0.92 to 0.90, so we will now work on how to improve it."
      ]
    },
    {
      "cell_type": "markdown",
      "metadata": {
        "id": "53eja4se7qK4"
      },
      "source": [
        "### Batch size"
      ]
    },
    {
      "cell_type": "markdown",
      "metadata": {
        "id": "nTIS1oqI9Sjp"
      },
      "source": [
        "Since we do not have a massive dataset, we can try to reduce the batch size to see if we have better accuracy results."
      ]
    },
    {
      "cell_type": "code",
      "metadata": {
        "colab": {
          "base_uri": "https://localhost:8080/"
        },
        "id": "sVj9ARLU6M2L",
        "outputId": "8af47e94-2218-46c9-fdb5-9c599519d66d"
      },
      "source": [
        "# Model / data parameters\n",
        "num_classes = 2\n",
        "input_shape = (28, 28, 1)\n",
        "\n",
        "model = Sequential(\n",
        "    [\n",
        "        Input(shape=input_shape),\n",
        "        layers.Conv2D(32, kernel_size=(3, 3), activation=\"relu\"),\n",
        "        layers.MaxPooling2D(pool_size=(2, 2)),\n",
        "        layers.Conv2D(64, kernel_size=(3, 3), activation=\"relu\"),\n",
        "        layers.MaxPooling2D(pool_size=(2, 2)),\n",
        "        layers.Flatten(),\n",
        "        layers.Dropout(0.5),\n",
        "        layers.Dense(num_classes, activation=\"sigmoid\"),\n",
        "    ]\n",
        ")\n",
        "\n",
        "model.summary()"
      ],
      "execution_count": null,
      "outputs": [
        {
          "output_type": "stream",
          "text": [
            "Model: \"sequential_10\"\n",
            "_________________________________________________________________\n",
            "Layer (type)                 Output Shape              Param #   \n",
            "=================================================================\n",
            "conv2d_20 (Conv2D)           (None, 26, 26, 32)        320       \n",
            "_________________________________________________________________\n",
            "max_pooling2d_20 (MaxPooling (None, 13, 13, 32)        0         \n",
            "_________________________________________________________________\n",
            "conv2d_21 (Conv2D)           (None, 11, 11, 64)        18496     \n",
            "_________________________________________________________________\n",
            "max_pooling2d_21 (MaxPooling (None, 5, 5, 64)          0         \n",
            "_________________________________________________________________\n",
            "flatten_10 (Flatten)         (None, 1600)              0         \n",
            "_________________________________________________________________\n",
            "dropout_9 (Dropout)          (None, 1600)              0         \n",
            "_________________________________________________________________\n",
            "dense_10 (Dense)             (None, 2)                 3202      \n",
            "=================================================================\n",
            "Total params: 22,018\n",
            "Trainable params: 22,018\n",
            "Non-trainable params: 0\n",
            "_________________________________________________________________\n"
          ],
          "name": "stdout"
        }
      ]
    },
    {
      "cell_type": "code",
      "metadata": {
        "colab": {
          "base_uri": "https://localhost:8080/"
        },
        "id": "MF1C8fBY71Ix",
        "outputId": "ca470ac1-6b34-4984-e01d-db7f56a467bd"
      },
      "source": [
        "batch_size = 4\n",
        "epochs = 70\n",
        "\n",
        "opt = optimizers.Adam(learning_rate=0.0001)\n",
        "model.compile(loss=\"binary_crossentropy\", optimizer=opt, metrics=[\"accuracy\"])\n",
        "\n",
        "history = model.fit(x_train, train_labels, batch_size=batch_size, epochs=epochs, validation_data =(x_test,test_labels))"
      ],
      "execution_count": null,
      "outputs": [
        {
          "output_type": "stream",
          "text": [
            "Epoch 1/70\n",
            "500/500 [==============================] - 4s 7ms/step - loss: 0.6265 - accuracy: 0.6871 - val_loss: 0.4413 - val_accuracy: 0.8360\n",
            "Epoch 2/70\n",
            "500/500 [==============================] - 3s 6ms/step - loss: 0.4202 - accuracy: 0.8429 - val_loss: 0.4068 - val_accuracy: 0.8440\n",
            "Epoch 3/70\n",
            "500/500 [==============================] - 3s 6ms/step - loss: 0.3633 - accuracy: 0.8648 - val_loss: 0.3795 - val_accuracy: 0.8510\n",
            "Epoch 4/70\n",
            "500/500 [==============================] - 3s 6ms/step - loss: 0.3598 - accuracy: 0.8523 - val_loss: 0.3671 - val_accuracy: 0.8610\n",
            "Epoch 5/70\n",
            "500/500 [==============================] - 3s 7ms/step - loss: 0.3224 - accuracy: 0.8697 - val_loss: 0.3584 - val_accuracy: 0.8640\n",
            "Epoch 6/70\n",
            "500/500 [==============================] - 3s 6ms/step - loss: 0.3192 - accuracy: 0.8717 - val_loss: 0.3525 - val_accuracy: 0.8700\n",
            "Epoch 7/70\n",
            "500/500 [==============================] - 3s 7ms/step - loss: 0.3072 - accuracy: 0.8876 - val_loss: 0.3517 - val_accuracy: 0.8690\n",
            "Epoch 8/70\n",
            "500/500 [==============================] - 3s 6ms/step - loss: 0.2974 - accuracy: 0.8862 - val_loss: 0.3456 - val_accuracy: 0.8680\n",
            "Epoch 9/70\n",
            "500/500 [==============================] - 3s 6ms/step - loss: 0.2658 - accuracy: 0.9004 - val_loss: 0.3307 - val_accuracy: 0.8840\n",
            "Epoch 10/70\n",
            "500/500 [==============================] - 3s 6ms/step - loss: 0.2687 - accuracy: 0.8874 - val_loss: 0.3341 - val_accuracy: 0.8780\n",
            "Epoch 11/70\n",
            "500/500 [==============================] - 3s 7ms/step - loss: 0.2516 - accuracy: 0.9016 - val_loss: 0.3219 - val_accuracy: 0.8940\n",
            "Epoch 12/70\n",
            "500/500 [==============================] - 3s 6ms/step - loss: 0.2405 - accuracy: 0.9100 - val_loss: 0.3142 - val_accuracy: 0.8900\n",
            "Epoch 13/70\n",
            "500/500 [==============================] - 3s 6ms/step - loss: 0.2484 - accuracy: 0.9085 - val_loss: 0.3114 - val_accuracy: 0.8920\n",
            "Epoch 14/70\n",
            "500/500 [==============================] - 3s 6ms/step - loss: 0.2238 - accuracy: 0.9237 - val_loss: 0.3061 - val_accuracy: 0.8950\n",
            "Epoch 15/70\n",
            "500/500 [==============================] - 3s 6ms/step - loss: 0.2292 - accuracy: 0.9109 - val_loss: 0.3062 - val_accuracy: 0.8940\n",
            "Epoch 16/70\n",
            "500/500 [==============================] - 3s 6ms/step - loss: 0.2130 - accuracy: 0.9270 - val_loss: 0.3015 - val_accuracy: 0.8930\n",
            "Epoch 17/70\n",
            "500/500 [==============================] - 3s 6ms/step - loss: 0.2275 - accuracy: 0.9142 - val_loss: 0.2970 - val_accuracy: 0.8980\n",
            "Epoch 18/70\n",
            "500/500 [==============================] - 3s 6ms/step - loss: 0.2429 - accuracy: 0.9171 - val_loss: 0.2932 - val_accuracy: 0.9010\n",
            "Epoch 19/70\n",
            "500/500 [==============================] - 3s 7ms/step - loss: 0.1952 - accuracy: 0.9244 - val_loss: 0.2909 - val_accuracy: 0.9010\n",
            "Epoch 20/70\n",
            "500/500 [==============================] - 3s 7ms/step - loss: 0.2146 - accuracy: 0.9210 - val_loss: 0.2935 - val_accuracy: 0.8970\n",
            "Epoch 21/70\n",
            "500/500 [==============================] - 3s 6ms/step - loss: 0.1845 - accuracy: 0.9302 - val_loss: 0.2836 - val_accuracy: 0.9030\n",
            "Epoch 22/70\n",
            "500/500 [==============================] - 3s 6ms/step - loss: 0.1864 - accuracy: 0.9252 - val_loss: 0.2849 - val_accuracy: 0.9040\n",
            "Epoch 23/70\n",
            "500/500 [==============================] - 3s 7ms/step - loss: 0.1895 - accuracy: 0.9412 - val_loss: 0.2905 - val_accuracy: 0.8970\n",
            "Epoch 24/70\n",
            "500/500 [==============================] - 3s 6ms/step - loss: 0.1850 - accuracy: 0.9303 - val_loss: 0.2859 - val_accuracy: 0.8950\n",
            "Epoch 25/70\n",
            "500/500 [==============================] - 3s 6ms/step - loss: 0.1811 - accuracy: 0.9339 - val_loss: 0.2781 - val_accuracy: 0.9030\n",
            "Epoch 26/70\n",
            "500/500 [==============================] - 3s 6ms/step - loss: 0.1701 - accuracy: 0.9350 - val_loss: 0.2727 - val_accuracy: 0.9080\n",
            "Epoch 27/70\n",
            "500/500 [==============================] - 3s 6ms/step - loss: 0.1706 - accuracy: 0.9460 - val_loss: 0.2757 - val_accuracy: 0.9090\n",
            "Epoch 28/70\n",
            "500/500 [==============================] - 3s 7ms/step - loss: 0.1439 - accuracy: 0.9483 - val_loss: 0.2829 - val_accuracy: 0.8900\n",
            "Epoch 29/70\n",
            "500/500 [==============================] - 3s 6ms/step - loss: 0.1602 - accuracy: 0.9473 - val_loss: 0.2778 - val_accuracy: 0.9030\n",
            "Epoch 30/70\n",
            "500/500 [==============================] - 3s 6ms/step - loss: 0.1481 - accuracy: 0.9476 - val_loss: 0.2691 - val_accuracy: 0.9110\n",
            "Epoch 31/70\n",
            "500/500 [==============================] - 3s 7ms/step - loss: 0.1511 - accuracy: 0.9441 - val_loss: 0.2714 - val_accuracy: 0.9100\n",
            "Epoch 32/70\n",
            "500/500 [==============================] - 3s 7ms/step - loss: 0.1615 - accuracy: 0.9471 - val_loss: 0.2729 - val_accuracy: 0.9090\n",
            "Epoch 33/70\n",
            "500/500 [==============================] - 3s 7ms/step - loss: 0.1330 - accuracy: 0.9553 - val_loss: 0.2627 - val_accuracy: 0.9070\n",
            "Epoch 34/70\n",
            "500/500 [==============================] - 3s 7ms/step - loss: 0.1300 - accuracy: 0.9556 - val_loss: 0.2635 - val_accuracy: 0.9060\n",
            "Epoch 35/70\n",
            "500/500 [==============================] - 4s 7ms/step - loss: 0.1257 - accuracy: 0.9568 - val_loss: 0.2707 - val_accuracy: 0.9130\n",
            "Epoch 36/70\n",
            "500/500 [==============================] - 4s 7ms/step - loss: 0.1228 - accuracy: 0.9609 - val_loss: 0.2624 - val_accuracy: 0.9100\n",
            "Epoch 37/70\n",
            "500/500 [==============================] - 4s 7ms/step - loss: 0.1303 - accuracy: 0.9562 - val_loss: 0.2646 - val_accuracy: 0.9100\n",
            "Epoch 38/70\n",
            "500/500 [==============================] - 3s 7ms/step - loss: 0.1162 - accuracy: 0.9552 - val_loss: 0.2618 - val_accuracy: 0.9100\n",
            "Epoch 39/70\n",
            "500/500 [==============================] - 3s 7ms/step - loss: 0.1182 - accuracy: 0.9527 - val_loss: 0.2607 - val_accuracy: 0.9090\n",
            "Epoch 40/70\n",
            "500/500 [==============================] - 3s 6ms/step - loss: 0.1228 - accuracy: 0.9587 - val_loss: 0.2702 - val_accuracy: 0.9110\n",
            "Epoch 41/70\n",
            "500/500 [==============================] - 3s 6ms/step - loss: 0.1276 - accuracy: 0.9577 - val_loss: 0.2651 - val_accuracy: 0.9110\n",
            "Epoch 42/70\n",
            "500/500 [==============================] - 3s 6ms/step - loss: 0.1163 - accuracy: 0.9568 - val_loss: 0.2638 - val_accuracy: 0.9100\n",
            "Epoch 43/70\n",
            "500/500 [==============================] - 3s 6ms/step - loss: 0.1129 - accuracy: 0.9585 - val_loss: 0.2581 - val_accuracy: 0.9140\n",
            "Epoch 44/70\n",
            "500/500 [==============================] - 3s 6ms/step - loss: 0.1218 - accuracy: 0.9534 - val_loss: 0.2636 - val_accuracy: 0.9090\n",
            "Epoch 45/70\n",
            "500/500 [==============================] - 3s 6ms/step - loss: 0.1105 - accuracy: 0.9653 - val_loss: 0.2673 - val_accuracy: 0.9080\n",
            "Epoch 46/70\n",
            "500/500 [==============================] - 3s 6ms/step - loss: 0.1092 - accuracy: 0.9668 - val_loss: 0.2879 - val_accuracy: 0.8950\n",
            "Epoch 47/70\n",
            "500/500 [==============================] - 3s 7ms/step - loss: 0.1095 - accuracy: 0.9555 - val_loss: 0.2605 - val_accuracy: 0.9120\n",
            "Epoch 48/70\n",
            "500/500 [==============================] - 3s 7ms/step - loss: 0.1139 - accuracy: 0.9583 - val_loss: 0.2654 - val_accuracy: 0.9130\n",
            "Epoch 49/70\n",
            "500/500 [==============================] - 3s 7ms/step - loss: 0.0927 - accuracy: 0.9657 - val_loss: 0.2616 - val_accuracy: 0.9140\n",
            "Epoch 50/70\n",
            "500/500 [==============================] - 3s 7ms/step - loss: 0.1073 - accuracy: 0.9603 - val_loss: 0.2603 - val_accuracy: 0.9090\n",
            "Epoch 51/70\n",
            "500/500 [==============================] - 4s 7ms/step - loss: 0.0985 - accuracy: 0.9619 - val_loss: 0.2608 - val_accuracy: 0.9150\n",
            "Epoch 52/70\n",
            "500/500 [==============================] - 4s 7ms/step - loss: 0.0981 - accuracy: 0.9672 - val_loss: 0.2683 - val_accuracy: 0.9110\n",
            "Epoch 53/70\n",
            "500/500 [==============================] - 3s 7ms/step - loss: 0.0821 - accuracy: 0.9754 - val_loss: 0.2589 - val_accuracy: 0.9130\n",
            "Epoch 54/70\n",
            "500/500 [==============================] - 4s 7ms/step - loss: 0.1004 - accuracy: 0.9633 - val_loss: 0.2594 - val_accuracy: 0.9140\n",
            "Epoch 55/70\n",
            "500/500 [==============================] - 4s 7ms/step - loss: 0.0920 - accuracy: 0.9715 - val_loss: 0.2611 - val_accuracy: 0.9120\n",
            "Epoch 56/70\n",
            "500/500 [==============================] - 4s 7ms/step - loss: 0.0826 - accuracy: 0.9727 - val_loss: 0.2617 - val_accuracy: 0.9100\n",
            "Epoch 57/70\n",
            "500/500 [==============================] - 4s 7ms/step - loss: 0.0904 - accuracy: 0.9712 - val_loss: 0.2711 - val_accuracy: 0.9150\n",
            "Epoch 58/70\n",
            "500/500 [==============================] - 4s 7ms/step - loss: 0.0814 - accuracy: 0.9698 - val_loss: 0.2649 - val_accuracy: 0.9160\n",
            "Epoch 59/70\n",
            "500/500 [==============================] - 4s 7ms/step - loss: 0.0871 - accuracy: 0.9695 - val_loss: 0.2603 - val_accuracy: 0.9080\n",
            "Epoch 60/70\n",
            "500/500 [==============================] - 4s 7ms/step - loss: 0.0809 - accuracy: 0.9746 - val_loss: 0.2665 - val_accuracy: 0.9120\n",
            "Epoch 61/70\n",
            "500/500 [==============================] - 4s 7ms/step - loss: 0.0936 - accuracy: 0.9684 - val_loss: 0.2616 - val_accuracy: 0.9150\n",
            "Epoch 62/70\n",
            "500/500 [==============================] - 4s 7ms/step - loss: 0.0806 - accuracy: 0.9693 - val_loss: 0.2654 - val_accuracy: 0.9120\n",
            "Epoch 63/70\n",
            "500/500 [==============================] - 4s 7ms/step - loss: 0.0917 - accuracy: 0.9686 - val_loss: 0.2690 - val_accuracy: 0.9160\n",
            "Epoch 64/70\n",
            "500/500 [==============================] - 4s 7ms/step - loss: 0.0732 - accuracy: 0.9741 - val_loss: 0.2626 - val_accuracy: 0.9110\n",
            "Epoch 65/70\n",
            "500/500 [==============================] - 3s 7ms/step - loss: 0.0687 - accuracy: 0.9776 - val_loss: 0.3157 - val_accuracy: 0.9110\n",
            "Epoch 66/70\n",
            "500/500 [==============================] - 4s 7ms/step - loss: 0.0801 - accuracy: 0.9711 - val_loss: 0.2593 - val_accuracy: 0.9180\n",
            "Epoch 67/70\n",
            "500/500 [==============================] - 4s 7ms/step - loss: 0.0705 - accuracy: 0.9789 - val_loss: 0.2578 - val_accuracy: 0.9150\n",
            "Epoch 68/70\n",
            "500/500 [==============================] - 4s 7ms/step - loss: 0.0811 - accuracy: 0.9684 - val_loss: 0.2611 - val_accuracy: 0.9110\n",
            "Epoch 69/70\n",
            "500/500 [==============================] - 3s 7ms/step - loss: 0.0662 - accuracy: 0.9771 - val_loss: 0.2638 - val_accuracy: 0.9170\n",
            "Epoch 70/70\n",
            "500/500 [==============================] - 3s 7ms/step - loss: 0.0650 - accuracy: 0.9786 - val_loss: 0.2720 - val_accuracy: 0.9020\n"
          ],
          "name": "stdout"
        }
      ]
    },
    {
      "cell_type": "code",
      "metadata": {
        "colab": {
          "base_uri": "https://localhost:8080/",
          "height": 513
        },
        "id": "HjuBXBBCQOgu",
        "outputId": "42901a29-f194-4dfb-e11c-bab6b2b123d1"
      },
      "source": [
        "# plot \n",
        "\n",
        "#history for loss\n",
        "plt.plot(history.history[\"loss\"],label=\"train set\")\n",
        "plt.plot(history.history[\"val_loss\"],label=\"validation set\")\n",
        "plt.legend()\n",
        "plt.show()\n",
        "\n",
        "# summarize history for accuracy\n",
        "plt.plot(history.history[\"accuracy\"],label=\"train set\")\n",
        "plt.plot(history.history[\"val_accuracy\"], label=\"validation set\")\n",
        "plt.legend()\n",
        "plt.show()\n"
      ],
      "execution_count": null,
      "outputs": [
        {
          "output_type": "display_data",
          "data": {
            "image/png": "[encoded data removed]",
            "text/plain": [
              "<Figure size 432x288 with 1 Axes>"
            ]
          },
          "metadata": {
            "tags": [],
            "needs_background": "light"
          }
        },
        {
          "output_type": "display_data",
          "data": {
            "image/png": "[encoded data removed]",
            "text/plain": [
              "<Figure size 432x288 with 1 Axes>"
            ]
          },
          "metadata": {
            "tags": [],
            "needs_background": "light"
          }
        }
      ]
    },
    {
      "cell_type": "markdown",
      "metadata": {
        "id": "KC-J3uop9HYa"
      },
      "source": [
        "The results are approximately the same than before (accuracy 0.91), so we can keep batch size to 10 since it computes faster."
      ]
    },
    {
      "cell_type": "markdown",
      "metadata": {
        "id": "VVdhpaLWFiz9"
      },
      "source": [
        "### Changing the number of hidden layers"
      ]
    },
    {
      "cell_type": "markdown",
      "metadata": {
        "id": "YgGwNNCWFi0N"
      },
      "source": [
        "As a last experiment for this part, we will try to add a hidden layer to the CNN and see how it changes the behavior of the CNN. We thus will add another Conv2D layer of 64 neurons and activation function ReLU."
      ]
    },
    {
      "cell_type": "code",
      "metadata": {
        "colab": {
          "base_uri": "https://localhost:8080/"
        },
        "id": "M0I04R1HFi0N",
        "outputId": "ab3708cc-88c1-46bf-8c33-3561b5141dcf"
      },
      "source": [
        "# Model / data parameters\n",
        "num_classes = 2\n",
        "input_shape = (28, 28, 1)\n",
        "\n",
        "model = Sequential(\n",
        "    [\n",
        "        Input(shape=input_shape),\n",
        "        layers.Conv2D(32, kernel_size=(3, 3), activation=\"relu\"),\n",
        "        layers.MaxPooling2D(pool_size=(2, 2)),\n",
        "        layers.Conv2D(64, kernel_size=(3, 3), activation=\"relu\"),\n",
        "        layers.MaxPooling2D(pool_size=(2, 2)),\n",
        "        layers.Conv2D(64, kernel_size=(3, 3), activation=\"relu\"),\n",
        "        layers.Flatten(),\n",
        "        layers.Dropout(0.5),\n",
        "        layers.Dense(num_classes, activation=\"sigmoid\"),\n",
        "    ]\n",
        ")\n",
        "\n",
        "model.summary()"
      ],
      "execution_count": null,
      "outputs": [
        {
          "output_type": "stream",
          "text": [
            "Model: \"sequential_12\"\n",
            "_________________________________________________________________\n",
            "Layer (type)                 Output Shape              Param #   \n",
            "=================================================================\n",
            "conv2d_25 (Conv2D)           (None, 26, 26, 32)        320       \n",
            "_________________________________________________________________\n",
            "max_pooling2d_24 (MaxPooling (None, 13, 13, 32)        0         \n",
            "_________________________________________________________________\n",
            "conv2d_26 (Conv2D)           (None, 11, 11, 64)        18496     \n",
            "_________________________________________________________________\n",
            "max_pooling2d_25 (MaxPooling (None, 5, 5, 64)          0         \n",
            "_________________________________________________________________\n",
            "conv2d_27 (Conv2D)           (None, 3, 3, 64)          36928     \n",
            "_________________________________________________________________\n",
            "flatten_12 (Flatten)         (None, 576)               0         \n",
            "_________________________________________________________________\n",
            "dropout_11 (Dropout)         (None, 576)               0         \n",
            "_________________________________________________________________\n",
            "dense_12 (Dense)             (None, 2)                 1154      \n",
            "=================================================================\n",
            "Total params: 56,898\n",
            "Trainable params: 56,898\n",
            "Non-trainable params: 0\n",
            "_________________________________________________________________\n"
          ],
          "name": "stdout"
        }
      ]
    },
    {
      "cell_type": "code",
      "metadata": {
        "colab": {
          "base_uri": "https://localhost:8080/"
        },
        "id": "hRGfvoHtFi0O",
        "outputId": "08432cb6-93a9-4b5d-f235-df65c27446a8"
      },
      "source": [
        "batch_size = 10\n",
        "epochs = 70\n",
        "\n",
        "opt = optimizers.Adam(learning_rate=0.0001)\n",
        "model.compile(loss='binary_crossentropy', optimizer=opt, metrics=['accuracy'])\n",
        "\n",
        "history = model.fit(x_train, train_labels, batch_size=batch_size, epochs=epochs, validation_data =(x_test,test_labels))"
      ],
      "execution_count": null,
      "outputs": [
        {
          "output_type": "stream",
          "text": [
            "Epoch 1/70\n",
            "200/200 [==============================] - 3s 15ms/step - loss: 0.6468 - accuracy: 0.6469 - val_loss: 0.4527 - val_accuracy: 0.8460\n",
            "Epoch 2/70\n",
            "200/200 [==============================] - 3s 14ms/step - loss: 0.4089 - accuracy: 0.8441 - val_loss: 0.3970 - val_accuracy: 0.8310\n",
            "Epoch 3/70\n",
            "200/200 [==============================] - 3s 13ms/step - loss: 0.3804 - accuracy: 0.8529 - val_loss: 0.3686 - val_accuracy: 0.8560\n",
            "Epoch 4/70\n",
            "200/200 [==============================] - 3s 13ms/step - loss: 0.3448 - accuracy: 0.8708 - val_loss: 0.3649 - val_accuracy: 0.8540\n",
            "Epoch 5/70\n",
            "200/200 [==============================] - 3s 13ms/step - loss: 0.3315 - accuracy: 0.8664 - val_loss: 0.3544 - val_accuracy: 0.8620\n",
            "Epoch 6/70\n",
            "200/200 [==============================] - 3s 13ms/step - loss: 0.3148 - accuracy: 0.8755 - val_loss: 0.3434 - val_accuracy: 0.8700\n",
            "Epoch 7/70\n",
            "200/200 [==============================] - 3s 13ms/step - loss: 0.2972 - accuracy: 0.8841 - val_loss: 0.3474 - val_accuracy: 0.8710\n",
            "Epoch 8/70\n",
            "200/200 [==============================] - 3s 13ms/step - loss: 0.2959 - accuracy: 0.8871 - val_loss: 0.3361 - val_accuracy: 0.8790\n",
            "Epoch 9/70\n",
            "200/200 [==============================] - 3s 14ms/step - loss: 0.2868 - accuracy: 0.8926 - val_loss: 0.3203 - val_accuracy: 0.8820\n",
            "Epoch 10/70\n",
            "200/200 [==============================] - 3s 13ms/step - loss: 0.2571 - accuracy: 0.9057 - val_loss: 0.3136 - val_accuracy: 0.8840\n",
            "Epoch 11/70\n",
            "200/200 [==============================] - 3s 14ms/step - loss: 0.2464 - accuracy: 0.9060 - val_loss: 0.3050 - val_accuracy: 0.8840\n",
            "Epoch 12/70\n",
            "200/200 [==============================] - 3s 14ms/step - loss: 0.2396 - accuracy: 0.9074 - val_loss: 0.3032 - val_accuracy: 0.8880\n",
            "Epoch 13/70\n",
            "200/200 [==============================] - 3s 14ms/step - loss: 0.2196 - accuracy: 0.9182 - val_loss: 0.3025 - val_accuracy: 0.8860\n",
            "Epoch 14/70\n",
            "200/200 [==============================] - 3s 14ms/step - loss: 0.2047 - accuracy: 0.9295 - val_loss: 0.2891 - val_accuracy: 0.8920\n",
            "Epoch 15/70\n",
            "200/200 [==============================] - 3s 14ms/step - loss: 0.2120 - accuracy: 0.9222 - val_loss: 0.2867 - val_accuracy: 0.8930\n",
            "Epoch 16/70\n",
            "200/200 [==============================] - 3s 14ms/step - loss: 0.2063 - accuracy: 0.9272 - val_loss: 0.2860 - val_accuracy: 0.8870\n",
            "Epoch 17/70\n",
            "200/200 [==============================] - 3s 13ms/step - loss: 0.2015 - accuracy: 0.9314 - val_loss: 0.2741 - val_accuracy: 0.8930\n",
            "Epoch 18/70\n",
            "200/200 [==============================] - 3s 14ms/step - loss: 0.1874 - accuracy: 0.9336 - val_loss: 0.2711 - val_accuracy: 0.8980\n",
            "Epoch 19/70\n",
            "200/200 [==============================] - 3s 15ms/step - loss: 0.1708 - accuracy: 0.9398 - val_loss: 0.2761 - val_accuracy: 0.8980\n",
            "Epoch 20/70\n",
            "200/200 [==============================] - 3s 14ms/step - loss: 0.1800 - accuracy: 0.9391 - val_loss: 0.2676 - val_accuracy: 0.8970\n",
            "Epoch 21/70\n",
            "200/200 [==============================] - 3s 13ms/step - loss: 0.1636 - accuracy: 0.9449 - val_loss: 0.2663 - val_accuracy: 0.9000\n",
            "Epoch 22/70\n",
            "200/200 [==============================] - 3s 14ms/step - loss: 0.1423 - accuracy: 0.9526 - val_loss: 0.2669 - val_accuracy: 0.9000\n",
            "Epoch 23/70\n",
            "200/200 [==============================] - 3s 14ms/step - loss: 0.1448 - accuracy: 0.9420 - val_loss: 0.2639 - val_accuracy: 0.9030\n",
            "Epoch 24/70\n",
            "200/200 [==============================] - 3s 14ms/step - loss: 0.1495 - accuracy: 0.9522 - val_loss: 0.2630 - val_accuracy: 0.8960\n",
            "Epoch 25/70\n",
            "200/200 [==============================] - 3s 14ms/step - loss: 0.1636 - accuracy: 0.9428 - val_loss: 0.2639 - val_accuracy: 0.9010\n",
            "Epoch 26/70\n",
            "200/200 [==============================] - 3s 14ms/step - loss: 0.1355 - accuracy: 0.9461 - val_loss: 0.2700 - val_accuracy: 0.9000\n",
            "Epoch 27/70\n",
            "200/200 [==============================] - 3s 14ms/step - loss: 0.1345 - accuracy: 0.9534 - val_loss: 0.2708 - val_accuracy: 0.8990\n",
            "Epoch 28/70\n",
            "200/200 [==============================] - 3s 13ms/step - loss: 0.1500 - accuracy: 0.9511 - val_loss: 0.2729 - val_accuracy: 0.8990\n",
            "Epoch 29/70\n",
            "200/200 [==============================] - 3s 13ms/step - loss: 0.1262 - accuracy: 0.9569 - val_loss: 0.2567 - val_accuracy: 0.9060\n",
            "Epoch 30/70\n",
            "200/200 [==============================] - 3s 13ms/step - loss: 0.1295 - accuracy: 0.9475 - val_loss: 0.2582 - val_accuracy: 0.8960\n",
            "Epoch 31/70\n",
            "200/200 [==============================] - 3s 13ms/step - loss: 0.1271 - accuracy: 0.9503 - val_loss: 0.2632 - val_accuracy: 0.8890\n",
            "Epoch 32/70\n",
            "200/200 [==============================] - 3s 14ms/step - loss: 0.1212 - accuracy: 0.9510 - val_loss: 0.2482 - val_accuracy: 0.9050\n",
            "Epoch 33/70\n",
            "200/200 [==============================] - 3s 13ms/step - loss: 0.1017 - accuracy: 0.9720 - val_loss: 0.2490 - val_accuracy: 0.9020\n",
            "Epoch 34/70\n",
            "200/200 [==============================] - 3s 13ms/step - loss: 0.1028 - accuracy: 0.9569 - val_loss: 0.2512 - val_accuracy: 0.9010\n",
            "Epoch 35/70\n",
            "200/200 [==============================] - 3s 13ms/step - loss: 0.1059 - accuracy: 0.9638 - val_loss: 0.2539 - val_accuracy: 0.9100\n",
            "Epoch 36/70\n",
            "200/200 [==============================] - 3s 14ms/step - loss: 0.1012 - accuracy: 0.9630 - val_loss: 0.2617 - val_accuracy: 0.9120\n",
            "Epoch 37/70\n",
            "200/200 [==============================] - 3s 13ms/step - loss: 0.0967 - accuracy: 0.9682 - val_loss: 0.2700 - val_accuracy: 0.8970\n",
            "Epoch 38/70\n",
            "200/200 [==============================] - 3s 13ms/step - loss: 0.0813 - accuracy: 0.9730 - val_loss: 0.2584 - val_accuracy: 0.9140\n",
            "Epoch 39/70\n",
            "200/200 [==============================] - 3s 13ms/step - loss: 0.0881 - accuracy: 0.9648 - val_loss: 0.2615 - val_accuracy: 0.8980\n",
            "Epoch 40/70\n",
            "200/200 [==============================] - 3s 13ms/step - loss: 0.0882 - accuracy: 0.9728 - val_loss: 0.2532 - val_accuracy: 0.9110\n",
            "Epoch 41/70\n",
            "200/200 [==============================] - 3s 14ms/step - loss: 0.0802 - accuracy: 0.9725 - val_loss: 0.2615 - val_accuracy: 0.9070\n",
            "Epoch 42/70\n",
            "200/200 [==============================] - 3s 14ms/step - loss: 0.0887 - accuracy: 0.9731 - val_loss: 0.2583 - val_accuracy: 0.9090\n",
            "Epoch 43/70\n",
            "200/200 [==============================] - 3s 13ms/step - loss: 0.0791 - accuracy: 0.9751 - val_loss: 0.2681 - val_accuracy: 0.9030\n",
            "Epoch 44/70\n",
            "200/200 [==============================] - 3s 14ms/step - loss: 0.0719 - accuracy: 0.9770 - val_loss: 0.2726 - val_accuracy: 0.9100\n",
            "Epoch 45/70\n",
            "200/200 [==============================] - 3s 13ms/step - loss: 0.0607 - accuracy: 0.9843 - val_loss: 0.2557 - val_accuracy: 0.9070\n",
            "Epoch 46/70\n",
            "200/200 [==============================] - 3s 14ms/step - loss: 0.0655 - accuracy: 0.9837 - val_loss: 0.2647 - val_accuracy: 0.9060\n",
            "Epoch 47/70\n",
            "200/200 [==============================] - 3s 14ms/step - loss: 0.0679 - accuracy: 0.9791 - val_loss: 0.2596 - val_accuracy: 0.9130\n",
            "Epoch 48/70\n",
            "200/200 [==============================] - 3s 14ms/step - loss: 0.0528 - accuracy: 0.9866 - val_loss: 0.2681 - val_accuracy: 0.9110\n",
            "Epoch 49/70\n",
            "200/200 [==============================] - 3s 14ms/step - loss: 0.0574 - accuracy: 0.9800 - val_loss: 0.2736 - val_accuracy: 0.9150\n",
            "Epoch 50/70\n",
            "200/200 [==============================] - 3s 14ms/step - loss: 0.0491 - accuracy: 0.9890 - val_loss: 0.2792 - val_accuracy: 0.9150\n",
            "Epoch 51/70\n",
            "200/200 [==============================] - 3s 15ms/step - loss: 0.0534 - accuracy: 0.9835 - val_loss: 0.2773 - val_accuracy: 0.9060\n",
            "Epoch 52/70\n",
            "200/200 [==============================] - 3s 13ms/step - loss: 0.0476 - accuracy: 0.9904 - val_loss: 0.2794 - val_accuracy: 0.9080\n",
            "Epoch 53/70\n",
            "200/200 [==============================] - 3s 13ms/step - loss: 0.0473 - accuracy: 0.9865 - val_loss: 0.2733 - val_accuracy: 0.9070\n",
            "Epoch 54/70\n",
            "200/200 [==============================] - 3s 14ms/step - loss: 0.0479 - accuracy: 0.9878 - val_loss: 0.2837 - val_accuracy: 0.9100\n",
            "Epoch 55/70\n",
            "200/200 [==============================] - 3s 13ms/step - loss: 0.0507 - accuracy: 0.9862 - val_loss: 0.2965 - val_accuracy: 0.9090\n",
            "Epoch 56/70\n",
            "200/200 [==============================] - 3s 14ms/step - loss: 0.0360 - accuracy: 0.9928 - val_loss: 0.3064 - val_accuracy: 0.9050\n",
            "Epoch 57/70\n",
            "200/200 [==============================] - 3s 14ms/step - loss: 0.0420 - accuracy: 0.9888 - val_loss: 0.3052 - val_accuracy: 0.9090\n",
            "Epoch 58/70\n",
            "200/200 [==============================] - 3s 14ms/step - loss: 0.0420 - accuracy: 0.9892 - val_loss: 0.2933 - val_accuracy: 0.9060\n",
            "Epoch 59/70\n",
            "200/200 [==============================] - 3s 14ms/step - loss: 0.0391 - accuracy: 0.9901 - val_loss: 0.3043 - val_accuracy: 0.9060\n",
            "Epoch 60/70\n",
            "200/200 [==============================] - 3s 13ms/step - loss: 0.0361 - accuracy: 0.9914 - val_loss: 0.2957 - val_accuracy: 0.9060\n",
            "Epoch 61/70\n",
            "200/200 [==============================] - 3s 14ms/step - loss: 0.0292 - accuracy: 0.9930 - val_loss: 0.3058 - val_accuracy: 0.9110\n",
            "Epoch 62/70\n",
            "200/200 [==============================] - 3s 14ms/step - loss: 0.0268 - accuracy: 0.9923 - val_loss: 0.3005 - val_accuracy: 0.9110\n",
            "Epoch 63/70\n",
            "200/200 [==============================] - 3s 14ms/step - loss: 0.0286 - accuracy: 0.9904 - val_loss: 0.3094 - val_accuracy: 0.9070\n",
            "Epoch 64/70\n",
            "200/200 [==============================] - 3s 14ms/step - loss: 0.0265 - accuracy: 0.9953 - val_loss: 0.3043 - val_accuracy: 0.9110\n",
            "Epoch 65/70\n",
            "200/200 [==============================] - 3s 14ms/step - loss: 0.0231 - accuracy: 0.9945 - val_loss: 0.3112 - val_accuracy: 0.9080\n",
            "Epoch 66/70\n",
            "200/200 [==============================] - 3s 14ms/step - loss: 0.0341 - accuracy: 0.9907 - val_loss: 0.3107 - val_accuracy: 0.9130\n",
            "Epoch 67/70\n",
            "200/200 [==============================] - 3s 14ms/step - loss: 0.0179 - accuracy: 0.9972 - val_loss: 0.3496 - val_accuracy: 0.9140\n",
            "Epoch 68/70\n",
            "200/200 [==============================] - 3s 15ms/step - loss: 0.0240 - accuracy: 0.9921 - val_loss: 0.3058 - val_accuracy: 0.9100\n",
            "Epoch 69/70\n",
            "200/200 [==============================] - 3s 14ms/step - loss: 0.0230 - accuracy: 0.9972 - val_loss: 0.3687 - val_accuracy: 0.8970\n",
            "Epoch 70/70\n",
            "200/200 [==============================] - 3s 15ms/step - loss: 0.0236 - accuracy: 0.9959 - val_loss: 0.3437 - val_accuracy: 0.9120\n"
          ],
          "name": "stdout"
        }
      ]
    },
    {
      "cell_type": "code",
      "metadata": {
        "colab": {
          "base_uri": "https://localhost:8080/",
          "height": 515
        },
        "id": "AA1rTPbxFi0O",
        "outputId": "b6ddb866-338a-49c5-9764-d22e271b5803"
      },
      "source": [
        "# plot \n",
        "\n",
        "#history for loss\n",
        "plt.plot(history.history[\"loss\"],label=\"train set\")\n",
        "plt.plot(history.history[\"val_loss\"],label=\"validation set\")\n",
        "plt.legend()\n",
        "plt.show()\n",
        "\n",
        "# summarize history for accuracy\n",
        "plt.plot(history.history[\"accuracy\"],label=\"train set\")\n",
        "plt.plot(history.history[\"val_accuracy\"], label=\"validation set\")\n",
        "plt.legend()\n",
        "plt.show()\n"
      ],
      "execution_count": null,
      "outputs": [
        {
          "output_type": "display_data",
          "data": {
            "image/png": "[encoded data removed]",
            "text/plain": [
              "<Figure size 432x288 with 1 Axes>"
            ]
          },
          "metadata": {
            "tags": [],
            "needs_background": "light"
          }
        },
        {
          "output_type": "display_data",
          "data": {
            "image/png": "[encoded data removed]",
            "text/plain": [
              "<Figure size 432x288 with 1 Axes>"
            ]
          },
          "metadata": {
            "tags": [],
            "needs_background": "light"
          }
        }
      ]
    },
    {
      "cell_type": "markdown",
      "metadata": {
        "id": "KbBE2t_CFi0P"
      },
      "source": [
        "Once again, the results are approximately the same for the accuracy. However, the loss increases : we start to overfit after a 60 epoch. We can therefore continue to use the previous CNN."
      ]
    },
    {
      "cell_type": "markdown",
      "metadata": {
        "id": "12FJk1_RRfXa"
      },
      "source": [
        "Now that we have worked on the construction of the CNN and saw which parameters optimized the accuracy while avoiding overfitting, we can now work on another way to increase accuracy."
      ]
    },
    {
      "cell_type": "markdown",
      "metadata": {
        "id": "uA_WKwJlLDa0"
      },
      "source": [
        "## **CNN with data augmentation**"
      ]
    },
    {
      "cell_type": "markdown",
      "metadata": {
        "id": "kTh2J9Y1Rt4T"
      },
      "source": [
        "In this part, we will work on data augmentation, i.e. we will increase the dataset by adding images that are actually just edited image of the former dataset. Hence, we will add the same images, but rotated at some angle for example, or flipped horizontally."
      ]
    },
    {
      "cell_type": "markdown",
      "metadata": {
        "id": "f0pX6EeMaDO6"
      },
      "source": [
        "### Rotate"
      ]
    },
    {
      "cell_type": "markdown",
      "metadata": {
        "id": "JFn-FoFwS3--"
      },
      "source": [
        "We first create a function to rotate images given an angle. Then, we apply this function to all the images in the dataset, with an angle computed randomly for each image and we add it to the augmented dataset."
      ]
    },
    {
      "cell_type": "code",
      "metadata": {
        "id": "uYcPJkAoLSyu"
      },
      "source": [
        "# Method to rotate the image by given dimension\n",
        "def rotate_image(image, rotation):\n",
        "    image = image.reshape((28, 28))\n",
        "    rot_image = interpolation.rotate(image, angle = rotation , mode=\"constant\", reshape=False)\n",
        "    return rot_image.reshape([-1])"
      ],
      "execution_count": null,
      "outputs": []
    },
    {
      "cell_type": "code",
      "metadata": {
        "id": "eZCkcioZ-zWa"
      },
      "source": [
        "X_train_augmented = [image for image in train_images]\n",
        "y_train_augmented = [image for image in train_labels]\n",
        "\n",
        "for image, label in zip(train_images, train_labels):\n",
        "  angle = np.random.randint(0,50)\n",
        "  X_train_augmented.append(rotate_image(image, angle))\n",
        "  y_train_augmented.append(label)"
      ],
      "execution_count": null,
      "outputs": []
    },
    {
      "cell_type": "code",
      "metadata": {
        "colab": {
          "base_uri": "https://localhost:8080/",
          "height": 282
        },
        "id": "VT1cApXgC20F",
        "outputId": "5471802a-2362-4c21-c77b-57d2f2ac50cc"
      },
      "source": [
        "plt.imshow(X_train_augmented[2000].reshape(28,28))"
      ],
      "execution_count": null,
      "outputs": [
        {
          "output_type": "execute_result",
          "data": {
            "text/plain": [
              "<matplotlib.image.AxesImage at 0x7fb30a629910>"
            ]
          },
          "metadata": {
            "tags": []
          },
          "execution_count": 52
        },
        {
          "output_type": "display_data",
          "data": {
            "image/png": "[encoded data removed]",
            "text/plain": [
              "<Figure size 432x288 with 1 Axes>"
            ]
          },
          "metadata": {
            "tags": [],
            "needs_background": "light"
          }
        }
      ]
    },
    {
      "cell_type": "markdown",
      "metadata": {
        "id": "bm8c6e4KgSjD"
      },
      "source": [
        "This is a rotated version of the first image of the ants dataset."
      ]
    },
    {
      "cell_type": "markdown",
      "metadata": {
        "id": "n-NdrvSVabIc"
      },
      "source": [
        "### Horizontal flip"
      ]
    },
    {
      "cell_type": "markdown",
      "metadata": {
        "id": "Amvn8Y42TQ_P"
      },
      "source": [
        "In the same way, we create a function to flip the images horizontally and add these images to the augmented dataset."
      ]
    },
    {
      "cell_type": "code",
      "metadata": {
        "id": "T3dYJ52BLDa-"
      },
      "source": [
        "# Method to flip the image horizontally\n",
        "def flip_image(image):\n",
        "    image = image.reshape((28, 28))\n",
        "    flip_image = np.flip(image,1)\n",
        "    return flip_image.reshape([-1])"
      ],
      "execution_count": null,
      "outputs": []
    },
    {
      "cell_type": "code",
      "metadata": {
        "id": "L5_Wqdj6boMW"
      },
      "source": [
        "for image, label in zip(train_images, train_labels):\n",
        "  X_train_augmented.append(flip_image(image))\n",
        "  y_train_augmented.append(label)"
      ],
      "execution_count": null,
      "outputs": []
    },
    {
      "cell_type": "code",
      "metadata": {
        "id": "XoPsuU7mLj94"
      },
      "source": [
        "y_train_augmented = np.array(y_train_augmented)"
      ],
      "execution_count": null,
      "outputs": []
    },
    {
      "cell_type": "code",
      "metadata": {
        "colab": {
          "base_uri": "https://localhost:8080/",
          "height": 282
        },
        "id": "oUMgNNCdGp6Q",
        "outputId": "456f486d-a898-4d63-8d8d-53e51cbe1bee"
      },
      "source": [
        "plt.imshow(flip_image(X_train_augmented[0]).reshape(28,28))"
      ],
      "execution_count": null,
      "outputs": [
        {
          "output_type": "execute_result",
          "data": {
            "text/plain": [
              "<matplotlib.image.AxesImage at 0x7fb3021306d0>"
            ]
          },
          "metadata": {
            "tags": []
          },
          "execution_count": 56
        },
        {
          "output_type": "display_data",
          "data": {
            "image/png": "[encoded data removed]",
            "text/plain": [
              "<Figure size 432x288 with 1 Axes>"
            ]
          },
          "metadata": {
            "tags": [],
            "needs_background": "light"
          }
        }
      ]
    },
    {
      "cell_type": "markdown",
      "metadata": {
        "id": "jYMdGk6agWxl"
      },
      "source": [
        "This is the horizontally flipped version of the first image of the ants dataset."
      ]
    },
    {
      "cell_type": "markdown",
      "metadata": {
        "id": "3ZyE1O9HdE07"
      },
      "source": [
        "### Test with CNN"
      ]
    },
    {
      "cell_type": "markdown",
      "metadata": {
        "id": "sjaCxpIkTfW2"
      },
      "source": [
        "Now, we can test the CNN with the augmented dataset, but not before preprocessing the dataset again (normalizing and reshaping)."
      ]
    },
    {
      "cell_type": "code",
      "metadata": {
        "colab": {
          "base_uri": "https://localhost:8080/"
        },
        "id": "WbCbIF6aGseG",
        "outputId": "cfd7a57f-5479-431f-db5b-44bd24cd424c"
      },
      "source": [
        "# Preprocessing the data for CNN\n",
        "\n",
        "# Normalizing\n",
        "norm_train_augmented = (X_train_augmented - np.mean(X_train_augmented))/np.std(X_train_augmented)\n",
        "norm_test = (test_images - np.mean(train_images))/np.std(train_images)\n",
        "\n",
        "x_train = np.array([norm_train_augmented[i].reshape(28,28) for i in range(len(norm_train_augmented))])\n",
        "x_test = np.array([norm_test[i].reshape(28,28) for i in range(len(norm_test))])\n",
        "\n",
        "# Make sure images have shape (28, 28, 1)\n",
        "x_train = np.expand_dims(x_train, -1)\n",
        "x_test = np.expand_dims(x_test, -1)\n",
        "print(\"x_train shape:\", x_train.shape)\n",
        "print(x_train.shape[0], \"train samples\")\n",
        "print(x_test.shape[0], \"test samples\")"
      ],
      "execution_count": null,
      "outputs": [
        {
          "output_type": "stream",
          "text": [
            "x_train shape: (6000, 28, 28, 1)\n",
            "6000 train samples\n",
            "1000 test samples\n"
          ],
          "name": "stdout"
        }
      ]
    },
    {
      "cell_type": "markdown",
      "metadata": {
        "id": "pLmA3Ud4frkg"
      },
      "source": [
        "We now have 6000 train samples instead of 2000 with data augmentation."
      ]
    },
    {
      "cell_type": "code",
      "metadata": {
        "colab": {
          "base_uri": "https://localhost:8080/"
        },
        "id": "REJ4xVX8c-wj",
        "outputId": "62da8718-7cb4-4f1e-a5fd-e708c5d0ba7d"
      },
      "source": [
        "# Model / data parameters\n",
        "num_classes = 2\n",
        "input_shape = (28, 28, 1)\n",
        "\n",
        "model = Sequential(\n",
        "    [\n",
        "        Input(shape=input_shape),\n",
        "        layers.Conv2D(32, kernel_size=(3, 3), activation=\"relu\"),\n",
        "        layers.MaxPooling2D(pool_size=(2, 2)),\n",
        "        layers.Conv2D(64, kernel_size=(3, 3), activation=\"relu\"),\n",
        "        layers.MaxPooling2D(pool_size=(2, 2)),\n",
        "        layers.Flatten(),\n",
        "        layers.Dropout(0.5),\n",
        "        layers.Dense(num_classes, activation=\"sigmoid\"),\n",
        "    ]\n",
        ")\n",
        "\n",
        "model.summary()"
      ],
      "execution_count": null,
      "outputs": [
        {
          "output_type": "stream",
          "text": [
            "Model: \"sequential_13\"\n",
            "_________________________________________________________________\n",
            "Layer (type)                 Output Shape              Param #   \n",
            "=================================================================\n",
            "conv2d_28 (Conv2D)           (None, 26, 26, 32)        320       \n",
            "_________________________________________________________________\n",
            "max_pooling2d_26 (MaxPooling (None, 13, 13, 32)        0         \n",
            "_________________________________________________________________\n",
            "conv2d_29 (Conv2D)           (None, 11, 11, 64)        18496     \n",
            "_________________________________________________________________\n",
            "max_pooling2d_27 (MaxPooling (None, 5, 5, 64)          0         \n",
            "_________________________________________________________________\n",
            "flatten_13 (Flatten)         (None, 1600)              0         \n",
            "_________________________________________________________________\n",
            "dropout_12 (Dropout)         (None, 1600)              0         \n",
            "_________________________________________________________________\n",
            "dense_13 (Dense)             (None, 2)                 3202      \n",
            "=================================================================\n",
            "Total params: 22,018\n",
            "Trainable params: 22,018\n",
            "Non-trainable params: 0\n",
            "_________________________________________________________________\n"
          ],
          "name": "stdout"
        }
      ]
    },
    {
      "cell_type": "code",
      "metadata": {
        "colab": {
          "base_uri": "https://localhost:8080/"
        },
        "id": "BwHXizi9UABg",
        "outputId": "2b75fad2-6215-4649-85be-bd0969db6bed"
      },
      "source": [
        "batch_size = 10\n",
        "epochs = 70\n",
        "\n",
        "opt = optimizers.Adam(learning_rate=0.0001)\n",
        "model.compile(loss='binary_crossentropy', optimizer=opt, metrics=['accuracy'])\n",
        "\n",
        "history = model.fit(x_train, y_train_augmented, batch_size=batch_size, epochs=epochs, validation_data =(x_test,test_labels))"
      ],
      "execution_count": null,
      "outputs": [
        {
          "output_type": "stream",
          "text": [
            "Epoch 1/70\n",
            "600/600 [==============================] - 8s 12ms/step - loss: 0.5887 - accuracy: 0.7180 - val_loss: 0.4060 - val_accuracy: 0.8430\n",
            "Epoch 2/70\n",
            "600/600 [==============================] - 7s 12ms/step - loss: 0.4165 - accuracy: 0.8325 - val_loss: 0.3798 - val_accuracy: 0.8490\n",
            "Epoch 3/70\n",
            "600/600 [==============================] - 7s 12ms/step - loss: 0.3686 - accuracy: 0.8499 - val_loss: 0.3642 - val_accuracy: 0.8590\n",
            "Epoch 4/70\n",
            "600/600 [==============================] - 7s 12ms/step - loss: 0.3680 - accuracy: 0.8535 - val_loss: 0.3513 - val_accuracy: 0.8620\n",
            "Epoch 5/70\n",
            "600/600 [==============================] - 7s 12ms/step - loss: 0.3426 - accuracy: 0.8605 - val_loss: 0.3374 - val_accuracy: 0.8680\n",
            "Epoch 6/70\n",
            "600/600 [==============================] - 7s 12ms/step - loss: 0.3098 - accuracy: 0.8795 - val_loss: 0.3260 - val_accuracy: 0.8670\n",
            "Epoch 7/70\n",
            "600/600 [==============================] - 7s 12ms/step - loss: 0.2961 - accuracy: 0.8826 - val_loss: 0.3127 - val_accuracy: 0.8840\n",
            "Epoch 8/70\n",
            "600/600 [==============================] - 7s 12ms/step - loss: 0.2869 - accuracy: 0.8866 - val_loss: 0.3098 - val_accuracy: 0.8710\n",
            "Epoch 9/70\n",
            "600/600 [==============================] - 8s 13ms/step - loss: 0.2719 - accuracy: 0.8960 - val_loss: 0.2975 - val_accuracy: 0.8950\n",
            "Epoch 10/70\n",
            "600/600 [==============================] - 8s 13ms/step - loss: 0.2678 - accuracy: 0.9002 - val_loss: 0.2878 - val_accuracy: 0.8860\n",
            "Epoch 11/70\n",
            "600/600 [==============================] - 8s 13ms/step - loss: 0.2453 - accuracy: 0.9074 - val_loss: 0.2792 - val_accuracy: 0.8910\n",
            "Epoch 12/70\n",
            "600/600 [==============================] - 8s 13ms/step - loss: 0.2276 - accuracy: 0.9132 - val_loss: 0.2717 - val_accuracy: 0.8940\n",
            "Epoch 13/70\n",
            "600/600 [==============================] - 8s 13ms/step - loss: 0.2191 - accuracy: 0.9163 - val_loss: 0.2668 - val_accuracy: 0.8970\n",
            "Epoch 14/70\n",
            "600/600 [==============================] - 7s 12ms/step - loss: 0.2138 - accuracy: 0.9217 - val_loss: 0.2675 - val_accuracy: 0.8910\n",
            "Epoch 15/70\n",
            "600/600 [==============================] - 8s 13ms/step - loss: 0.2118 - accuracy: 0.9216 - val_loss: 0.2522 - val_accuracy: 0.9090\n",
            "Epoch 16/70\n",
            "600/600 [==============================] - 8s 13ms/step - loss: 0.1881 - accuracy: 0.9276 - val_loss: 0.2459 - val_accuracy: 0.9110\n",
            "Epoch 17/70\n",
            "600/600 [==============================] - 8s 13ms/step - loss: 0.1812 - accuracy: 0.9329 - val_loss: 0.2502 - val_accuracy: 0.9030\n",
            "Epoch 18/70\n",
            "600/600 [==============================] - 7s 12ms/step - loss: 0.1877 - accuracy: 0.9289 - val_loss: 0.2444 - val_accuracy: 0.9080\n",
            "Epoch 19/70\n",
            "600/600 [==============================] - 7s 12ms/step - loss: 0.1836 - accuracy: 0.9340 - val_loss: 0.2476 - val_accuracy: 0.9080\n",
            "Epoch 20/70\n",
            "600/600 [==============================] - 7s 12ms/step - loss: 0.1774 - accuracy: 0.9353 - val_loss: 0.2339 - val_accuracy: 0.9130\n",
            "Epoch 21/70\n",
            "600/600 [==============================] - 7s 12ms/step - loss: 0.1791 - accuracy: 0.9359 - val_loss: 0.2291 - val_accuracy: 0.9190\n",
            "Epoch 22/70\n",
            "600/600 [==============================] - 7s 12ms/step - loss: 0.1649 - accuracy: 0.9401 - val_loss: 0.2309 - val_accuracy: 0.9130\n",
            "Epoch 23/70\n",
            "600/600 [==============================] - 7s 12ms/step - loss: 0.1554 - accuracy: 0.9438 - val_loss: 0.2228 - val_accuracy: 0.9180\n",
            "Epoch 24/70\n",
            "600/600 [==============================] - 7s 12ms/step - loss: 0.1535 - accuracy: 0.9446 - val_loss: 0.2229 - val_accuracy: 0.9160\n",
            "Epoch 25/70\n",
            "600/600 [==============================] - 7s 12ms/step - loss: 0.1597 - accuracy: 0.9412 - val_loss: 0.2199 - val_accuracy: 0.9220\n",
            "Epoch 26/70\n",
            "600/600 [==============================] - 7s 12ms/step - loss: 0.1489 - accuracy: 0.9466 - val_loss: 0.2207 - val_accuracy: 0.9220\n",
            "Epoch 27/70\n",
            "600/600 [==============================] - 7s 12ms/step - loss: 0.1460 - accuracy: 0.9452 - val_loss: 0.2194 - val_accuracy: 0.9200\n",
            "Epoch 28/70\n",
            "600/600 [==============================] - 7s 12ms/step - loss: 0.1417 - accuracy: 0.9480 - val_loss: 0.2131 - val_accuracy: 0.9260\n",
            "Epoch 29/70\n",
            "600/600 [==============================] - 7s 12ms/step - loss: 0.1361 - accuracy: 0.9543 - val_loss: 0.2148 - val_accuracy: 0.9210\n",
            "Epoch 30/70\n",
            "600/600 [==============================] - 7s 12ms/step - loss: 0.1368 - accuracy: 0.9477 - val_loss: 0.2158 - val_accuracy: 0.9170\n",
            "Epoch 31/70\n",
            "600/600 [==============================] - 7s 12ms/step - loss: 0.1366 - accuracy: 0.9499 - val_loss: 0.2101 - val_accuracy: 0.9250\n",
            "Epoch 32/70\n",
            "600/600 [==============================] - 7s 12ms/step - loss: 0.1267 - accuracy: 0.9539 - val_loss: 0.2075 - val_accuracy: 0.9270\n",
            "Epoch 33/70\n",
            "600/600 [==============================] - 7s 12ms/step - loss: 0.1272 - accuracy: 0.9522 - val_loss: 0.2108 - val_accuracy: 0.9220\n",
            "Epoch 34/70\n",
            "600/600 [==============================] - 7s 12ms/step - loss: 0.1220 - accuracy: 0.9557 - val_loss: 0.2043 - val_accuracy: 0.9270\n",
            "Epoch 35/70\n",
            "600/600 [==============================] - 7s 12ms/step - loss: 0.1302 - accuracy: 0.9524 - val_loss: 0.2296 - val_accuracy: 0.9130\n",
            "Epoch 36/70\n",
            "600/600 [==============================] - 8s 13ms/step - loss: 0.1284 - accuracy: 0.9503 - val_loss: 0.2059 - val_accuracy: 0.9280\n",
            "Epoch 37/70\n",
            "600/600 [==============================] - 7s 12ms/step - loss: 0.1288 - accuracy: 0.9512 - val_loss: 0.2053 - val_accuracy: 0.9300\n",
            "Epoch 38/70\n",
            "600/600 [==============================] - 7s 12ms/step - loss: 0.1294 - accuracy: 0.9587 - val_loss: 0.2182 - val_accuracy: 0.9210\n",
            "Epoch 39/70\n",
            "600/600 [==============================] - 7s 12ms/step - loss: 0.1179 - accuracy: 0.9576 - val_loss: 0.2021 - val_accuracy: 0.9310\n",
            "Epoch 40/70\n",
            "600/600 [==============================] - 8s 13ms/step - loss: 0.1103 - accuracy: 0.9568 - val_loss: 0.2148 - val_accuracy: 0.9280\n",
            "Epoch 41/70\n",
            "600/600 [==============================] - 7s 12ms/step - loss: 0.1126 - accuracy: 0.9604 - val_loss: 0.1961 - val_accuracy: 0.9330\n",
            "Epoch 42/70\n",
            "600/600 [==============================] - 7s 12ms/step - loss: 0.1147 - accuracy: 0.9565 - val_loss: 0.2076 - val_accuracy: 0.9270\n",
            "Epoch 43/70\n",
            "600/600 [==============================] - 7s 12ms/step - loss: 0.1107 - accuracy: 0.9602 - val_loss: 0.2017 - val_accuracy: 0.9340\n",
            "Epoch 44/70\n",
            "600/600 [==============================] - 7s 12ms/step - loss: 0.0991 - accuracy: 0.9632 - val_loss: 0.2003 - val_accuracy: 0.9360\n",
            "Epoch 45/70\n",
            "600/600 [==============================] - 7s 12ms/step - loss: 0.1089 - accuracy: 0.9606 - val_loss: 0.2013 - val_accuracy: 0.9360\n",
            "Epoch 46/70\n",
            "600/600 [==============================] - 7s 12ms/step - loss: 0.1013 - accuracy: 0.9620 - val_loss: 0.2007 - val_accuracy: 0.9280\n",
            "Epoch 47/70\n",
            "600/600 [==============================] - 7s 12ms/step - loss: 0.1036 - accuracy: 0.9640 - val_loss: 0.1967 - val_accuracy: 0.9320\n",
            "Epoch 48/70\n",
            "600/600 [==============================] - 7s 12ms/step - loss: 0.0948 - accuracy: 0.9677 - val_loss: 0.1918 - val_accuracy: 0.9340\n",
            "Epoch 49/70\n",
            "600/600 [==============================] - 7s 12ms/step - loss: 0.1067 - accuracy: 0.9644 - val_loss: 0.1956 - val_accuracy: 0.9340\n",
            "Epoch 50/70\n",
            "600/600 [==============================] - 7s 12ms/step - loss: 0.1048 - accuracy: 0.9618 - val_loss: 0.1962 - val_accuracy: 0.9330\n",
            "Epoch 51/70\n",
            "600/600 [==============================] - 7s 12ms/step - loss: 0.0957 - accuracy: 0.9646 - val_loss: 0.1949 - val_accuracy: 0.9370\n",
            "Epoch 52/70\n",
            "600/600 [==============================] - 7s 12ms/step - loss: 0.0969 - accuracy: 0.9646 - val_loss: 0.1962 - val_accuracy: 0.9330\n",
            "Epoch 53/70\n",
            "600/600 [==============================] - 7s 12ms/step - loss: 0.1021 - accuracy: 0.9633 - val_loss: 0.1948 - val_accuracy: 0.9350\n",
            "Epoch 54/70\n",
            "600/600 [==============================] - 7s 12ms/step - loss: 0.0904 - accuracy: 0.9696 - val_loss: 0.2060 - val_accuracy: 0.9320\n",
            "Epoch 55/70\n",
            "600/600 [==============================] - 7s 12ms/step - loss: 0.0853 - accuracy: 0.9714 - val_loss: 0.1914 - val_accuracy: 0.9360\n",
            "Epoch 56/70\n",
            "600/600 [==============================] - 7s 12ms/step - loss: 0.0860 - accuracy: 0.9700 - val_loss: 0.1949 - val_accuracy: 0.9350\n",
            "Epoch 57/70\n",
            "600/600 [==============================] - 7s 12ms/step - loss: 0.0962 - accuracy: 0.9643 - val_loss: 0.2011 - val_accuracy: 0.9350\n",
            "Epoch 58/70\n",
            "600/600 [==============================] - 7s 12ms/step - loss: 0.0912 - accuracy: 0.9681 - val_loss: 0.1940 - val_accuracy: 0.9370\n",
            "Epoch 59/70\n",
            "600/600 [==============================] - 7s 12ms/step - loss: 0.0878 - accuracy: 0.9711 - val_loss: 0.1956 - val_accuracy: 0.9350\n",
            "Epoch 60/70\n",
            "600/600 [==============================] - 7s 12ms/step - loss: 0.0903 - accuracy: 0.9699 - val_loss: 0.1996 - val_accuracy: 0.9370\n",
            "Epoch 61/70\n",
            "600/600 [==============================] - 7s 12ms/step - loss: 0.0815 - accuracy: 0.9718 - val_loss: 0.1948 - val_accuracy: 0.9400\n",
            "Epoch 62/70\n",
            "600/600 [==============================] - 7s 12ms/step - loss: 0.0794 - accuracy: 0.9716 - val_loss: 0.1933 - val_accuracy: 0.9390\n",
            "Epoch 63/70\n",
            "600/600 [==============================] - 7s 12ms/step - loss: 0.0781 - accuracy: 0.9724 - val_loss: 0.1942 - val_accuracy: 0.9370\n",
            "Epoch 64/70\n",
            "600/600 [==============================] - 7s 12ms/step - loss: 0.0858 - accuracy: 0.9687 - val_loss: 0.2012 - val_accuracy: 0.9330\n",
            "Epoch 65/70\n",
            "600/600 [==============================] - 7s 12ms/step - loss: 0.0774 - accuracy: 0.9733 - val_loss: 0.1947 - val_accuracy: 0.9400\n",
            "Epoch 66/70\n",
            "600/600 [==============================] - 7s 12ms/step - loss: 0.0881 - accuracy: 0.9711 - val_loss: 0.2147 - val_accuracy: 0.9340\n",
            "Epoch 67/70\n",
            "600/600 [==============================] - 8s 13ms/step - loss: 0.0761 - accuracy: 0.9751 - val_loss: 0.2060 - val_accuracy: 0.9260\n",
            "Epoch 68/70\n",
            "600/600 [==============================] - 8s 13ms/step - loss: 0.0829 - accuracy: 0.9711 - val_loss: 0.1993 - val_accuracy: 0.9390\n",
            "Epoch 69/70\n",
            "600/600 [==============================] - 7s 12ms/step - loss: 0.0808 - accuracy: 0.9705 - val_loss: 0.2008 - val_accuracy: 0.9380\n",
            "Epoch 70/70\n",
            "600/600 [==============================] - 7s 12ms/step - loss: 0.0738 - accuracy: 0.9729 - val_loss: 0.1969 - val_accuracy: 0.9350\n"
          ],
          "name": "stdout"
        }
      ]
    },
    {
      "cell_type": "code",
      "metadata": {
        "colab": {
          "base_uri": "https://localhost:8080/",
          "height": 545
        },
        "id": "lWmu80jVURsH",
        "outputId": "8a9fc11f-499f-4bbc-e8b5-d3c601c52c50"
      },
      "source": [
        "# plot \n",
        "\n",
        "#history for loss\n",
        "plt.plot(history.history[\"loss\"],label=\"train set\")\n",
        "plt.plot(history.history[\"val_loss\"],label=\"validation set\")\n",
        "plt.title(\"Loss for CNN with data augmentation\")\n",
        "plt.legend()\n",
        "plt.show()\n",
        "\n",
        "# summarize history for accuracy\n",
        "plt.plot(history.history[\"accuracy\"],label=\"train set\")\n",
        "plt.plot(history.history[\"val_accuracy\"], label=\"validation set\")\n",
        "plt.title(\"Accuracy for CNN with data augmentation\")\n",
        "plt.legend()\n",
        "plt.show()\n"
      ],
      "execution_count": null,
      "outputs": [
        {
          "output_type": "display_data",
          "data": {
            "image/png": "[encoded data removed]",
            "text/plain": [
              "<Figure size 432x288 with 1 Axes>"
            ]
          },
          "metadata": {
            "tags": [],
            "needs_background": "light"
          }
        },
        {
          "output_type": "display_data",
          "data": {
            "image/png": "[encoded data removed]",
            "text/plain": [
              "<Figure size 432x288 with 1 Axes>"
            ]
          },
          "metadata": {
            "tags": [],
            "needs_background": "light"
          }
        }
      ]
    },
    {
      "cell_type": "markdown",
      "metadata": {
        "id": "iWN2DNteXeiI"
      },
      "source": [
        "Finally, with data augmentation, our validation accuracy is up to 0.93, almost 0.94, which improved our previous model of 4%. The loss is also decreasing, meaning we are not overfitting. "
      ]
    },
    {
      "cell_type": "markdown",
      "metadata": {
        "id": "xUf54oWKaLEM"
      },
      "source": [
        "## **Conclusion**"
      ]
    },
    {
      "cell_type": "markdown",
      "metadata": {
        "id": "KHmEfJyDaPiw"
      },
      "source": [
        "With SVM, our best result was with an **RBF kernel**, without PCA. The accuracy was **0.867**.\n",
        "\n",
        "With Neural Network, our best result was with a **Convolutional Neural Network, with data augmentation**. The training accuracy was **0.973** and the validation accuracy was **0.935** after 70 epoch."
      ]
    },
    {
      "cell_type": "code",
      "metadata": {
        "id": "jPuTQePZ7sv6"
      },
      "source": [
        ""
      ],
      "execution_count": null,
      "outputs": []
    }
  ]
}